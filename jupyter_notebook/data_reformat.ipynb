{
 "cells": [
  {
   "cell_type": "markdown",
   "metadata": {},
   "source": [
    "# Data Reformat\n",
    "reformat unstructure data into structure\n",
    "- <a href='#1'>1. task1</a> \n",
    "- <a href='#2'>2. task2</a> \n",
    "- <a href='#3'>3. task3</a>"
   ]
  },
  {
   "cell_type": "code",
   "execution_count": 1,
   "metadata": {},
   "outputs": [],
   "source": [
    "%load_ext autoreload\n",
    "%autoreload 2\n",
    "import sys\n",
    "import os \n",
    "\n",
    "import pandas as pd\n",
    "import numpy as np\n",
    "from IPython.core.interactiveshell import InteractiveShell\n",
    "import seaborn as sns\n",
    "import matplotlib.pyplot as plt\n",
    "import matplotlib.font_manager as fm\n",
    "import pyspark.sql.functions as F\n",
    "from pyspark.sql import (\n",
    "    SparkSession,\n",
    "    Window,\n",
    "    DataFrame as Spark_DataFrame\n",
    ")\n",
    "sys.path.append('../')\n",
    "import conf"
   ]
  },
  {
   "cell_type": "code",
   "execution_count": 2,
   "metadata": {},
   "outputs": [],
   "source": [
    "# global settings\n",
    "InteractiveShell.ast_node_interactivity = \"all\"\n",
    "pd.set_option('display.max_rows', 50)\n",
    "pd.set_option('display.max_columns',1000)\n",
    "pd.set_option('display.width',100)\n",
    "sns.set(rc={'figure.figsize':(11,4)})\n",
    "spark = SparkSession.builder.appName('test')\\\n",
    ".config('spark.debug.maxToStringFields',2000)\\\n",
    ".config('spark.executor.memory','15g')\\\n",
    ".config('spark.driver.memory','15g')\\\n",
    ".config('spark.driver.maxResultSize', '10g')\\\n",
    ".config('spark.master','local[4]')\\\n",
    ".getOrCreate()\n",
    "# .config('spark.num_executor','8')\\\n",
    "# .config('spark.executor.memory','2g')\\\n",
    "# .config('spark.driver.memory','10g')\\\n",
    "# .config('spark.master','local[4]')\n"
   ]
  },
  {
   "cell_type": "code",
   "execution_count": 3,
   "metadata": {},
   "outputs": [],
   "source": [
    "# global variables\n",
    "DEFAULT_MISSING_VALUE = 0\n",
    "FONT = fm.FontProperties(fname = os.path.join(conf.LIB_DIR,'simsun.ttc'))"
   ]
  },
  {
   "cell_type": "code",
   "execution_count": 4,
   "metadata": {},
   "outputs": [],
   "source": [
    "# functions\n",
    "def __dummy():\n",
    "    pass\n",
    "\n"
   ]
  },
  {
   "cell_type": "code",
   "execution_count": 5,
   "metadata": {},
   "outputs": [
    {
     "name": "stdout",
     "output_type": "stream",
     "text": [
      "16M\t../data/tencent_2019_ad_competition_data/round1_data/Btest_sample_new.dat\r\n",
      "40M\t../data/tencent_2019_ad_competition_data/round1_data/ad_operation.dat\r\n",
      "26M\t../data/tencent_2019_ad_competition_data/round1_data/ad_static_feature.out\r\n",
      "8.7M\t../data/tencent_2019_ad_competition_data/round1_data/test_sample.dat\r\n",
      "4.0G\t../data/tencent_2019_ad_competition_data/round1_data/totalExposureLog.h5\r\n",
      "16M\t../data/tencent_2019_ad_competition_data/round1_data/update_Btest_sample.dat\r\n",
      "3.3G\t../data/tencent_2019_ad_competition_data/round1_data/user_data\r\n"
     ]
    }
   ],
   "source": [
    "! du -sh ../data/tencent_2019_ad_competition_data/round1_data/*"
   ]
  },
  {
   "cell_type": "code",
   "execution_count": null,
   "metadata": {},
   "outputs": [],
   "source": []
  }
 ],
 "metadata": {
  "kernelspec": {
   "display_name": "Python 3",
   "language": "python",
   "name": "python3"
  },
  "language_info": {
   "codemirror_mode": {
    "name": "ipython",
    "version": 3
   },
   "file_extension": ".py",
   "mimetype": "text/x-python",
   "name": "python",
   "nbconvert_exporter": "python",
   "pygments_lexer": "ipython3",
   "version": "3.7.4"
  }
 },
 "nbformat": 4,
 "nbformat_minor": 4
}
