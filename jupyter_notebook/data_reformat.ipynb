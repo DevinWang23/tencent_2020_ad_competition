{
 "cells": [
  {
   "cell_type": "markdown",
   "metadata": {},
   "source": [
    "# Data Reformat\n",
    "reformat unstructure data into structure\n",
    "- <a href='#1'>1. task1</a> \n",
    "- <a href='#2'>2. task2</a> \n",
    "- <a href='#3'>3. task3</a>"
   ]
  },
  {
   "cell_type": "code",
   "execution_count": 1,
   "metadata": {},
   "outputs": [],
   "source": [
    "%load_ext autoreload\n",
    "%autoreload 2\n",
    "import sys\n",
    "import os \n",
    "\n",
    "import pandas as pd\n",
    "import numpy as np\n",
    "from IPython.core.interactiveshell import InteractiveShell\n",
    "import seaborn as sns\n",
    "import matplotlib.pyplot as plt\n",
    "import matplotlib.font_manager as fm\n",
    "import pyspark.sql.functions as F\n",
    "from pyspark.sql import (\n",
    "    SparkSession,\n",
    "    Window,\n",
    "    DataFrame as Spark_DataFrame\n",
    ")\n",
    "\n",
    "sys.path.append('../')\n",
    "import conf"
   ]
  },
  {
   "cell_type": "code",
   "execution_count": 2,
   "metadata": {},
   "outputs": [],
   "source": [
    "# global settings\n",
    "InteractiveShell.ast_node_interactivity = \"all\"\n",
    "pd.set_option('display.max_rows', 50)\n",
    "pd.set_option('display.max_columns',1000)\n",
    "pd.set_option('display.width',100)\n",
    "sns.set(rc={'figure.figsize':(11,4)})"
   ]
  },
  {
   "cell_type": "code",
   "execution_count": 3,
   "metadata": {},
   "outputs": [],
   "source": [
    "# global variables\n",
    "DEFAULT_MISSING_VALUE = 0\n",
    "FONT = fm.FontProperties(fname = os.path.join(conf.LIB_DIR,'simsun.ttc'))"
   ]
  },
  {
   "cell_type": "code",
   "execution_count": 4,
   "metadata": {},
   "outputs": [],
   "source": [
    "# functions\n",
    "def __dummy():\n",
    "    pass\n",
    "\n"
   ]
  },
  {
   "cell_type": "code",
   "execution_count": 6,
   "metadata": {},
   "outputs": [
    {
     "name": "stdout",
     "output_type": "stream",
     "text": [
      "4.0K\t../data/train_preliminary/README\r\n",
      "75M\t../data/train_preliminary/ad.csv\r\n",
      "553M\t../data/train_preliminary/click_log.csv\r\n",
      "9.4M\t../data/train_preliminary/user.csv\r\n"
     ]
    }
   ],
   "source": [
    "! du -sh ../data/train_preliminary/*"
   ]
  },
  {
   "cell_type": "code",
   "execution_count": 7,
   "metadata": {},
   "outputs": [
    {
     "name": "stdout",
     "output_type": "stream",
     "text": [
      "4.0K\t../data/test/README\r\n",
      "79M\t../data/test/ad.csv\r\n",
      "654M\t../data/test/click_log.csv\r\n"
     ]
    }
   ],
   "source": [
    "! du -sh ../data/test/*"
   ]
  },
  {
   "cell_type": "code",
   "execution_count": 8,
   "metadata": {},
   "outputs": [],
   "source": [
    "# train - ad.csv\n",
    "ad_df = pd.read_csv(os.path.join(conf.ROUND_ONE_TRAIN_DATA_DIR, 'ad.csv'))"
   ]
  },
  {
   "cell_type": "code",
   "execution_count": 9,
   "metadata": {},
   "outputs": [
    {
     "data": {
      "text/html": [
       "<div>\n",
       "<style scoped>\n",
       "    .dataframe tbody tr th:only-of-type {\n",
       "        vertical-align: middle;\n",
       "    }\n",
       "\n",
       "    .dataframe tbody tr th {\n",
       "        vertical-align: top;\n",
       "    }\n",
       "\n",
       "    .dataframe thead th {\n",
       "        text-align: right;\n",
       "    }\n",
       "</style>\n",
       "<table border=\"1\" class=\"dataframe\">\n",
       "  <thead>\n",
       "    <tr style=\"text-align: right;\">\n",
       "      <th></th>\n",
       "      <th>creative_id</th>\n",
       "      <th>ad_id</th>\n",
       "      <th>product_id</th>\n",
       "      <th>product_category</th>\n",
       "      <th>advertiser_id</th>\n",
       "      <th>industry</th>\n",
       "    </tr>\n",
       "  </thead>\n",
       "  <tbody>\n",
       "    <tr>\n",
       "      <td>0</td>\n",
       "      <td>1</td>\n",
       "      <td>1</td>\n",
       "      <td>\\N</td>\n",
       "      <td>5</td>\n",
       "      <td>381</td>\n",
       "      <td>78</td>\n",
       "    </tr>\n",
       "    <tr>\n",
       "      <td>1</td>\n",
       "      <td>4</td>\n",
       "      <td>4</td>\n",
       "      <td>\\N</td>\n",
       "      <td>5</td>\n",
       "      <td>108</td>\n",
       "      <td>202</td>\n",
       "    </tr>\n",
       "    <tr>\n",
       "      <td>2</td>\n",
       "      <td>7</td>\n",
       "      <td>7</td>\n",
       "      <td>\\N</td>\n",
       "      <td>5</td>\n",
       "      <td>148</td>\n",
       "      <td>297</td>\n",
       "    </tr>\n",
       "    <tr>\n",
       "      <td>3</td>\n",
       "      <td>8</td>\n",
       "      <td>8</td>\n",
       "      <td>\\N</td>\n",
       "      <td>5</td>\n",
       "      <td>713</td>\n",
       "      <td>213</td>\n",
       "    </tr>\n",
       "    <tr>\n",
       "      <td>4</td>\n",
       "      <td>9</td>\n",
       "      <td>9</td>\n",
       "      <td>\\N</td>\n",
       "      <td>5</td>\n",
       "      <td>695</td>\n",
       "      <td>213</td>\n",
       "    </tr>\n",
       "  </tbody>\n",
       "</table>\n",
       "</div>"
      ],
      "text/plain": [
       "   creative_id  ad_id product_id  product_category  advertiser_id industry\n",
       "0            1      1         \\N                 5            381       78\n",
       "1            4      4         \\N                 5            108      202\n",
       "2            7      7         \\N                 5            148      297\n",
       "3            8      8         \\N                 5            713      213\n",
       "4            9      9         \\N                 5            695      213"
      ]
     },
     "execution_count": 9,
     "metadata": {},
     "output_type": "execute_result"
    }
   ],
   "source": [
    "ad_df.head()"
   ]
  },
  {
   "cell_type": "code",
   "execution_count": 10,
   "metadata": {},
   "outputs": [
    {
     "data": {
      "text/html": [
       "<div>\n",
       "<style scoped>\n",
       "    .dataframe tbody tr th:only-of-type {\n",
       "        vertical-align: middle;\n",
       "    }\n",
       "\n",
       "    .dataframe tbody tr th {\n",
       "        vertical-align: top;\n",
       "    }\n",
       "\n",
       "    .dataframe thead th {\n",
       "        text-align: right;\n",
       "    }\n",
       "</style>\n",
       "<table border=\"1\" class=\"dataframe\">\n",
       "  <thead>\n",
       "    <tr style=\"text-align: right;\">\n",
       "      <th></th>\n",
       "      <th>creative_id</th>\n",
       "      <th>ad_id</th>\n",
       "      <th>product_category</th>\n",
       "      <th>advertiser_id</th>\n",
       "    </tr>\n",
       "  </thead>\n",
       "  <tbody>\n",
       "    <tr>\n",
       "      <td>count</td>\n",
       "      <td>2.481135e+06</td>\n",
       "      <td>2.481135e+06</td>\n",
       "      <td>2.481135e+06</td>\n",
       "      <td>2.481135e+06</td>\n",
       "    </tr>\n",
       "    <tr>\n",
       "      <td>mean</td>\n",
       "      <td>2.192008e+06</td>\n",
       "      <td>1.888107e+06</td>\n",
       "      <td>7.805932e+00</td>\n",
       "      <td>2.741624e+04</td>\n",
       "    </tr>\n",
       "    <tr>\n",
       "      <td>std</td>\n",
       "      <td>1.285497e+06</td>\n",
       "      <td>1.099764e+06</td>\n",
       "      <td>6.770557e+00</td>\n",
       "      <td>1.534631e+04</td>\n",
       "    </tr>\n",
       "    <tr>\n",
       "      <td>min</td>\n",
       "      <td>1.000000e+00</td>\n",
       "      <td>1.000000e+00</td>\n",
       "      <td>1.000000e+00</td>\n",
       "      <td>2.000000e+00</td>\n",
       "    </tr>\n",
       "    <tr>\n",
       "      <td>25%</td>\n",
       "      <td>1.076370e+06</td>\n",
       "      <td>9.391925e+05</td>\n",
       "      <td>2.000000e+00</td>\n",
       "      <td>1.497400e+04</td>\n",
       "    </tr>\n",
       "    <tr>\n",
       "      <td>50%</td>\n",
       "      <td>2.191948e+06</td>\n",
       "      <td>1.889017e+06</td>\n",
       "      <td>5.000000e+00</td>\n",
       "      <td>2.519700e+04</td>\n",
       "    </tr>\n",
       "    <tr>\n",
       "      <td>75%</td>\n",
       "      <td>3.304420e+06</td>\n",
       "      <td>2.839458e+06</td>\n",
       "      <td>1.800000e+01</td>\n",
       "      <td>3.825400e+04</td>\n",
       "    </tr>\n",
       "    <tr>\n",
       "      <td>max</td>\n",
       "      <td>4.445718e+06</td>\n",
       "      <td>3.812200e+06</td>\n",
       "      <td>1.800000e+01</td>\n",
       "      <td>6.296500e+04</td>\n",
       "    </tr>\n",
       "  </tbody>\n",
       "</table>\n",
       "</div>"
      ],
      "text/plain": [
       "        creative_id         ad_id  product_category  advertiser_id\n",
       "count  2.481135e+06  2.481135e+06      2.481135e+06   2.481135e+06\n",
       "mean   2.192008e+06  1.888107e+06      7.805932e+00   2.741624e+04\n",
       "std    1.285497e+06  1.099764e+06      6.770557e+00   1.534631e+04\n",
       "min    1.000000e+00  1.000000e+00      1.000000e+00   2.000000e+00\n",
       "25%    1.076370e+06  9.391925e+05      2.000000e+00   1.497400e+04\n",
       "50%    2.191948e+06  1.889017e+06      5.000000e+00   2.519700e+04\n",
       "75%    3.304420e+06  2.839458e+06      1.800000e+01   3.825400e+04\n",
       "max    4.445718e+06  3.812200e+06      1.800000e+01   6.296500e+04"
      ]
     },
     "execution_count": 10,
     "metadata": {},
     "output_type": "execute_result"
    }
   ],
   "source": [
    "ad_df.describe()"
   ]
  },
  {
   "cell_type": "code",
   "execution_count": 11,
   "metadata": {},
   "outputs": [
    {
     "data": {
      "text/plain": [
       "creative_id          int64\n",
       "ad_id                int64\n",
       "product_id          object\n",
       "product_category     int64\n",
       "advertiser_id        int64\n",
       "industry            object\n",
       "dtype: object"
      ]
     },
     "execution_count": 11,
     "metadata": {},
     "output_type": "execute_result"
    }
   ],
   "source": [
    "ad_df.dtypes"
   ]
  },
  {
   "cell_type": "code",
   "execution_count": 12,
   "metadata": {},
   "outputs": [
    {
     "data": {
      "text/plain": [
       "array(['\\\\N', '34647', '59', ..., '24110', '34304', '23899'], dtype=object)"
      ]
     },
     "execution_count": 12,
     "metadata": {},
     "output_type": "execute_result"
    }
   ],
   "source": [
    "ad_df['product_id'].unique()"
   ]
  },
  {
   "cell_type": "code",
   "execution_count": null,
   "metadata": {},
   "outputs": [],
   "source": []
  }
 ],
 "metadata": {
  "kernelspec": {
   "display_name": "Python 3",
   "language": "python",
   "name": "python3"
  },
  "language_info": {
   "codemirror_mode": {
    "name": "ipython",
    "version": 3
   },
   "file_extension": ".py",
   "mimetype": "text/x-python",
   "name": "python",
   "nbconvert_exporter": "python",
   "pygments_lexer": "ipython3",
   "version": "3.7.4"
  }
 },
 "nbformat": 4,
 "nbformat_minor": 4
}
