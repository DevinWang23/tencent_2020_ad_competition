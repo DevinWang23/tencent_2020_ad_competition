{
 "cells": [
  {
   "cell_type": "code",
   "execution_count": 1,
   "metadata": {},
   "outputs": [],
   "source": [
    "# ! pip install pyspark -i https://mirrors.aliyun.com/pypi/simple/\n",
    "import os\n",
    "import sys\n",
    "\n",
    "from pyspark.sql import SparkSession\n",
    "import pyspark.sql.functions as F\n",
    "import pandas as pd\n",
    "\n",
    "sys.path.append('../')\n",
    "import conf"
   ]
  },
  {
   "cell_type": "code",
   "execution_count": 2,
   "metadata": {},
   "outputs": [],
   "source": [
    "# global setting\n",
    "spark = SparkSession.builder.appName('test')\\\n",
    ".config('num_executor','20')\\\n",
    ".config('spark.executor.memory','4g')\\\n",
    ".config('spark.driver.memory','10g')\\\n",
    ".getOrCreate()"
   ]
  },
  {
   "cell_type": "code",
   "execution_count": null,
   "metadata": {},
   "outputs": [],
   "source": [
    "pd_df = pd.read_csv(os.path.join(conf.DATA_DIR, 'disk_sample_smart_log_201807.csv'))"
   ]
  },
  {
   "cell_type": "code",
   "execution_count": 3,
   "metadata": {},
   "outputs": [],
   "source": [
    "selected_cols=['serial_number', 'manufacturer', 'model', 'dt',\n",
    "                    'smart_12raw', 'smart_187_normalized', 'smart_187raw',\n",
    "                    'smart_188_normalized', 'smart_188raw', 'smart_190_normalized', 'smart_190raw',\n",
    "                    'smart_191_normalized', 'smart_191raw', 'smart_192raw', 'smart_193raw', 'smart_194_normalized',\n",
    "                    'smart_194raw', 'smart_195_normalized', 'smart_195raw', 'smart_197_normalized',\n",
    "                    'smart_197raw', 'smart_198_normalized', 'smart_198raw', 'smart_199raw', 'smart_1_normalized',\n",
    "                    'smart_3_normalized', 'smart_4raw', 'smart_5_normalized', 'smart_5raw', 'smart_7_normalized',\n",
    "                    'smart_7raw', 'smart_9_normalized', 'smart_9raw'\n",
    "                   ]\n"
   ]
  },
  {
   "cell_type": "code",
   "execution_count": 4,
   "metadata": {},
   "outputs": [],
   "source": [
    "spark_df = spark.read.csv(os.path.join(conf.DATA_DIR, 'test.csv'),header=True).select(selected_cols)"
   ]
  },
  {
   "cell_type": "code",
   "execution_count": 5,
   "metadata": {},
   "outputs": [],
   "source": [
    "df = spark_df.withColumn('smart_4raw', F.col('smart_4raw') / 12)"
   ]
  },
  {
   "cell_type": "code",
   "execution_count": 6,
   "metadata": {},
   "outputs": [],
   "source": [
    "df.registerTempTable('test')"
   ]
  },
  {
   "cell_type": "code",
   "execution_count": 7,
   "metadata": {},
   "outputs": [],
   "source": [
    "test = spark.sql(\"select smart_4raw from test\")"
   ]
  },
  {
   "cell_type": "code",
   "execution_count": 8,
   "metadata": {},
   "outputs": [
    {
     "name": "stdout",
     "output_type": "stream",
     "text": [
      "+------------------+\n",
      "|        smart_4raw|\n",
      "+------------------+\n",
      "|1.4166666666666667|\n",
      "|1.5833333333333333|\n",
      "|1.3333333333333333|\n",
      "|1.9166666666666667|\n",
      "|1.9166666666666667|\n",
      "|0.5833333333333334|\n",
      "|               9.5|\n",
      "|               2.5|\n",
      "|1.4166666666666667|\n",
      "|26.916666666666668|\n",
      "|26.916666666666668|\n",
      "|0.6666666666666666|\n",
      "|0.5833333333333334|\n",
      "|0.6666666666666666|\n",
      "|0.6666666666666666|\n",
      "|1.9166666666666667|\n",
      "|0.6666666666666666|\n",
      "|0.6666666666666666|\n",
      "|1.0833333333333333|\n",
      "|1.0833333333333333|\n",
      "+------------------+\n",
      "only showing top 20 rows\n",
      "\n"
     ]
    }
   ],
   "source": [
    "test.show()"
   ]
  },
  {
   "cell_type": "code",
   "execution_count": 11,
   "metadata": {},
   "outputs": [
    {
     "data": {
      "text/plain": [
       "27161448"
      ]
     },
     "execution_count": 11,
     "metadata": {},
     "output_type": "execute_result"
    }
   ],
   "source": [
    "spark_df.count()"
   ]
  },
  {
   "cell_type": "code",
   "execution_count": null,
   "metadata": {},
   "outputs": [],
   "source": []
  }
 ],
 "metadata": {
  "kernelspec": {
   "display_name": "Python 3",
   "language": "python",
   "name": "python3"
  },
  "language_info": {
   "codemirror_mode": {
    "name": "ipython",
    "version": 3
   },
   "file_extension": ".py",
   "mimetype": "text/x-python",
   "name": "python",
   "nbconvert_exporter": "python",
   "pygments_lexer": "ipython3",
   "version": "3.7.4"
  }
 },
 "nbformat": 4,
 "nbformat_minor": 4
}
