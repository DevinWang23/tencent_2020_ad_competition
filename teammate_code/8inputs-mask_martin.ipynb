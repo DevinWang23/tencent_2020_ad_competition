{
 "cells": [
  {
   "cell_type": "markdown",
   "metadata": {},
   "source": [
    "# 参数配置\n"
   ]
  },
  {
   "cell_type": "code",
   "execution_count": null,
   "metadata": {},
   "outputs": [],
   "source": [
    "embed_size = 128\n",
    "maxlen = 150 # importance\n",
    "random_seed = 123 # importance\n",
    "batch_size =256\n",
    "epochs = 20\n"
   ]
  },
  {
   "cell_type": "code",
   "execution_count": null,
   "metadata": {},
   "outputs": [],
   "source": [
    "import os\n",
    "if not os.path.exists('./result'):\n",
    "    os.makedirs('./result')\n",
    "if not os.path.exists('./temp'):\n",
    "    os.makedirs('./temp')\n"
   ]
  },
  {
   "cell_type": "code",
   "execution_count": null,
   "metadata": {},
   "outputs": [],
   "source": [
    "from gensim.models import Word2Vec\n",
    "import pandas as pd\n",
    "import numpy as np\n",
    "import os\n",
    "import pickle\n",
    "from datetime import datetime\n",
    "\n",
    "from tqdm import tqdm_notebook\n",
    "from tqdm import tqdm\n",
    "from sklearn.model_selection import train_test_split"
   ]
  },
  {
   "cell_type": "code",
   "execution_count": null,
   "metadata": {},
   "outputs": [],
   "source": [
    "import tensorflow as tf\n",
    "from tensorflow.keras.preprocessing.text import Tokenizer, text_to_word_sequence\n",
    "from tensorflow.keras.preprocessing.sequence import pad_sequences\n",
    "from tensorflow.keras.utils import to_categorical,Sequence\n",
    "from tensorflow.keras import Input,Model\n",
    "from tensorflow.keras.layers import Embedding,Bidirectional,LSTM,GRU,Dense,concatenate,Activation,BatchNormalization\n",
    "from tensorflow.keras.layers import TimeDistributed,Dropout,Lambda,Conv1D,GlobalMaxPooling1D,GlobalAveragePooling1D,CuDNNLSTM\n",
    "from tensorflow.keras.layers import Conv2D,MaxPooling2D,Flatten,SpatialDropout1D,GlobalMaxPool1D,MaxPooling1D,Reshape\n",
    "from tensorflow.keras.callbacks import EarlyStopping,ReduceLROnPlateau,ModelCheckpoint\n",
    "from tensorflow.keras.optimizers import Adagrad\n",
    "from sklearn.preprocessing import LabelEncoder\n",
    "from sklearn.preprocessing import StandardScaler\n",
    "from tensorflow.keras import regularizers"
   ]
  },
  {
   "cell_type": "code",
   "execution_count": null,
   "metadata": {},
   "outputs": [],
   "source": [
    "train_root_path ='./data/train_preliminary/'\n",
    "train_ad_path = os.path.join(train_root_path,'ad.csv')\n",
    "train_click_path = os.path.join(train_root_path,'click_log.csv')\n",
    "train_user_path = os.path.join(train_root_path,'user.csv')"
   ]
  },
  {
   "cell_type": "code",
   "execution_count": null,
   "metadata": {},
   "outputs": [],
   "source": [
    "semi_train_root_path ='./data/train_semi_final/'\n",
    "semi_train_ad_path = os.path.join(semi_train_root_path,'ad.csv')\n",
    "semi_train_click_path = os.path.join(semi_train_root_path,'click_log.csv')\n",
    "semi_train_user_path = os.path.join(semi_train_root_path,'user.csv')"
   ]
  },
  {
   "cell_type": "code",
   "execution_count": null,
   "metadata": {},
   "outputs": [],
   "source": [
    "test_root_path = './data/test/'\n",
    "test_ad_path = os.path.join(test_root_path,'ad.csv')\n",
    "test_click_path = os.path.join(test_root_path,'click_log.csv')"
   ]
  },
  {
   "cell_type": "markdown",
   "metadata": {},
   "source": [
    "# 加载数据缓存，提升运行效率"
   ]
  },
  {
   "cell_type": "code",
   "execution_count": null,
   "metadata": {},
   "outputs": [],
   "source": [
    "word_indexs = pickle.load(open(\"./data/cache/word_index.pkl\",\"rb\"))"
   ]
  },
  {
   "cell_type": "code",
   "execution_count": null,
   "metadata": {},
   "outputs": [],
   "source": [
    "df_doc = pd.read_parquet('./data/cache/final_padding.parquet_8input')"
   ]
  },
  {
   "cell_type": "code",
   "execution_count": null,
   "metadata": {},
   "outputs": [],
   "source": [
    "click_time_mask =pd.read_parquet('./data/cache/click_times_mask.parquet')"
   ]
  },
  {
   "cell_type": "code",
   "execution_count": null,
   "metadata": {},
   "outputs": [],
   "source": [
    "aggcol = ['creative_id','ad_id','product_id', 'advertiser_id','industry']\n",
    "#'click_times','time'\n",
    "# aggcol = ['creative_id','ad_id','product_id','product_category', 'advertiser_id','industry','click_times','time']\n",
    "\n",
    "#'click_times','time'\n",
    "buckcol = ['click_times_buck']\n"
   ]
  },
  {
   "cell_type": "markdown",
   "metadata": {},
   "source": [
    "### 加载常规embeding"
   ]
  },
  {
   "cell_type": "code",
   "execution_count": null,
   "metadata": {},
   "outputs": [],
   "source": [
    "from gensim.models import KeyedVectors\n",
    "import gc\n",
    "    \n",
    "embeding_group ={}\n",
    "for col in aggcol:\n",
    "    wv = KeyedVectors.load(f\"./model/word2vec_{col}_128.model\", mmap='r')\n",
    "    nb_words = len(word_indexs[col])+1\n",
    "    embedding_matrix = np.zeros((nb_words, embed_size))\n",
    "    count= 0\n",
    "    for word, i in tqdm(word_indexs[col].items()):\n",
    "        try:\n",
    "            embedding_vector = wv[word]\n",
    "        except:\n",
    "            print(word)\n",
    "            embedding_vector = np.zeros(embed_size)\n",
    "            count += 1\n",
    "        if embedding_vector is not None:\n",
    "            embedding_matrix[i] = embedding_vector\n",
    "    embeding_group[col] = embedding_matrix\n",
    "    print(f\"{col}: null cnt {count}\")\n",
    "    del wv\n",
    "    gc.collect()"
   ]
  },
  {
   "cell_type": "markdown",
   "metadata": {},
   "source": [
    "### 加载随机游走 生成emebding"
   ]
  },
  {
   "cell_type": "code",
   "execution_count": null,
   "metadata": {},
   "outputs": [],
   "source": [
    "from gensim.models import KeyedVectors\n",
    "import gc\n",
    "    \n",
    "embeding_deepwalk_group ={}\n",
    "for col in aggcol:\n",
    "    wv = KeyedVectors.load(f\"./model/deepwalk/word2vec_{col}_128.model\", mmap='r')\n",
    "    nb_words = len(word_indexs[col])+1\n",
    "    embedding_matrix = np.zeros((nb_words, embed_size))\n",
    "    count= 0\n",
    "    for word, i in tqdm(word_indexs[col].items()):\n",
    "        try:\n",
    "            embedding_vector = wv[word]\n",
    "        except:\n",
    "            print(word)\n",
    "            embedding_vector = np.zeros(embed_size)\n",
    "            count += 1\n",
    "        if embedding_vector is not None:\n",
    "            embedding_matrix[i] = embedding_vector\n",
    "    embeding_deepwalk_group[col] = embedding_matrix\n",
    "    print(f\"{col}: null cnt {count}\")\n",
    "    del wv\n",
    "    gc.collect()"
   ]
  },
  {
   "cell_type": "code",
   "execution_count": null,
   "metadata": {},
   "outputs": [],
   "source": [
    "df_user_pre = pd.read_csv(train_user_path)\n",
    "df_user_semi = pd.read_csv(semi_train_user_path)\n",
    "df_user =  pd.concat([df_user_pre,df_user_semi], axis=0)\n",
    "df_user.drop_duplicates(inplace=True)"
   ]
  },
  {
   "cell_type": "code",
   "execution_count": null,
   "metadata": {},
   "outputs": [],
   "source": [
    "del df_user_pre\n",
    "del df_user_semi\n",
    "import gc\n",
    "gc.collect()"
   ]
  },
  {
   "cell_type": "markdown",
   "metadata": {},
   "source": [
    "# 生成训练，测试数据"
   ]
  },
  {
   "cell_type": "code",
   "execution_count": null,
   "metadata": {},
   "outputs": [],
   "source": [
    "ad_docs_withuser = df_doc.merge(df_user,on=['user_id'],how='left')"
   ]
  },
  {
   "cell_type": "code",
   "execution_count": null,
   "metadata": {},
   "outputs": [],
   "source": [
    "click_time_mask = click_time_mask.rename(columns={'click_times':'click_times_mask'})"
   ]
  },
  {
   "cell_type": "code",
   "execution_count": null,
   "metadata": {},
   "outputs": [],
   "source": [
    "ad_docs_withuser = ad_docs_withuser.merge(click_time_mask,on=['user_id'],how='left')"
   ]
  },
  {
   "cell_type": "code",
   "execution_count": null,
   "metadata": {},
   "outputs": [],
   "source": [
    "df_test_final = ad_docs_withuser[ad_docs_withuser.age.isna()]\n",
    "df_train_val_final = ad_docs_withuser[~ad_docs_withuser.age.isna()]"
   ]
  },
  {
   "cell_type": "code",
   "execution_count": null,
   "metadata": {},
   "outputs": [],
   "source": [
    "label_age = to_categorical(df_train_val_final['age'] - 1)\n",
    "label_gender = to_categorical(df_train_val_final['gender'] - 1) #或者tf.one_hot(labels, num_cls)"
   ]
  },
  {
   "cell_type": "code",
   "execution_count": null,
   "metadata": {},
   "outputs": [],
   "source": [
    "#转成numpy. 用于kfold\n",
    "dataset_train_x ={}\n",
    "dataset_test_x = {}\n",
    "for col in aggcol +  ['click_times_mask','click_times_length']  :\n",
    "    dataset_train_x[col] = np.stack(df_train_val_final[col].values)\n",
    "    dataset_test_x[col] =  np.stack(df_test_final[col].values)\n",
    "\n",
    "dataset_train_y = {'age_out':label_age, 'gender_out':label_gender}"
   ]
  },
  {
   "cell_type": "code",
   "execution_count": null,
   "metadata": {},
   "outputs": [],
   "source": [
    "dataset_train_x['user_id'] = df_train_val_final['user_id'] \n",
    "dataset_test_x['user_id'] = df_test_final['user_id'] "
   ]
  },
  {
   "cell_type": "code",
   "execution_count": null,
   "metadata": {},
   "outputs": [],
   "source": [
    "del df_user\n",
    "del ad_docs_withuser\n",
    "del click_time_mask\n",
    "import gc\n",
    "gc.collect()"
   ]
  },
  {
   "cell_type": "code",
   "execution_count": null,
   "metadata": {},
   "outputs": [],
   "source": [
    "del word_indexs\n",
    "del df_train_val_final\n",
    "del df_test_final\n",
    "del df_doc\n",
    "gc.collect()"
   ]
  },
  {
   "cell_type": "markdown",
   "metadata": {},
   "source": [
    "# 模型定义"
   ]
  },
  {
   "cell_type": "code",
   "execution_count": null,
   "metadata": {},
   "outputs": [],
   "source": [
    "mirrored_strategy = tf.distribute.MirroredStrategy()\n"
   ]
  },
  {
   "cell_type": "code",
   "execution_count": null,
   "metadata": {},
   "outputs": [],
   "source": [
    "embeds= []\n",
    "all_inputs = []\n",
    "#sdrop=SpatialDropout1D(rate=0.2)\n",
    "# with mirrored_strategy.scope():\n",
    "for col in aggcol:\n",
    "    input_x = Input(shape=(maxlen,),name =col)\n",
    "    trainable = False\n",
    "    embed_x = Embedding(\n",
    "        input_dim=embeding_group[col].shape[0],\n",
    "        output_dim=embeding_group[col].shape[1],\n",
    "        weights=[embeding_group[col]],\n",
    "        input_length=maxlen,\n",
    "        trainable=trainable,\n",
    "        name = col+'_embeding'\n",
    "    )(input_x)\n",
    "    embeds.append(embed_x)\n",
    "    all_inputs.append(input_x)\n",
    "click_buck_input = Input(shape=(maxlen,),name ='click_times_mask')\n",
    "click_length_input = Input(shape=(),name ='click_times_length')\n",
    "    # usertfidf_input = Input(shape=(400,),name ='usertfidf')\n",
    "\n",
    "all_inputs.append(click_buck_input)\n",
    "all_inputs.append(click_length_input)\n",
    "# all_inputs.append(usertfidf_input)\n"
   ]
  },
  {
   "cell_type": "code",
   "execution_count": null,
   "metadata": {},
   "outputs": [],
   "source": [
    "# del embeding_group\n",
    "# gc.collect()"
   ]
  },
  {
   "cell_type": "markdown",
   "metadata": {},
   "source": [
    "# 年龄训练和预测"
   ]
  },
  {
   "cell_type": "code",
   "execution_count": null,
   "metadata": {},
   "outputs": [],
   "source": [
    "## 标准双层lstm。 亮点在于每层都进行不同的mask处理。尽量降低干扰\n",
    "def generate_model(embeds,all_inputs,click_buck_input,click_length_input):\n",
    "    temp_out=[]\n",
    "\n",
    "    orgin_mask= click_buck_input[:, :, tf.newaxis]\n",
    "    clip_mask = tf.clip_by_value(orgin_mask, clip_value_min=0, clip_value_max=1)\n",
    "    max_mask = (1.0 - clip_mask) * -10000.0\n",
    "    \n",
    "    x = concatenate(embeds)\n",
    "    x = Bidirectional(CuDNNLSTM(480, return_sequences=True,recurrent_initializer='glorot_uniform'))(x)\n",
    "    x = x  * clip_mask\n",
    "    x = Bidirectional(CuDNNLSTM(480,return_sequences=True))(x)\n",
    "    for_max = x+max_mask\n",
    "\n",
    "    max_pool = GlobalMaxPooling1D()(for_max)\n",
    "    temp_out.append(max_pool)\n",
    "    x = temp_out[0]#concatenate(temp_out)\n",
    "    x = Dense(256, activation='relu')(x)\n",
    "    x = Dense(128,activation='relu')(x)\n",
    "    age_pred = Dense(10, activation='softmax',name ='age_out')(x)\n",
    "    model = Model(inputs=all_inputs, outputs=[age_pred])\n",
    "    optimizer = tf.keras.optimizers.Adam(learning_rate=0.001)\n",
    "    model.compile(optimizer=optimizer,loss='categorical_crossentropy',  metrics={\"age_out\": \"accuracy\"})\n",
    "    return model\n",
    "    "
   ]
  },
  {
   "cell_type": "code",
   "execution_count": null,
   "metadata": {},
   "outputs": [],
   "source": [
    "generate_model(embeds,all_inputs,click_buck_input,click_length_input).summary()"
   ]
  },
  {
   "cell_type": "markdown",
   "metadata": {},
   "source": [
    "### 学习率衰减。通过观察可得第九个epoche下降 效果较好\n"
   ]
  },
  {
   "cell_type": "code",
   "execution_count": null,
   "metadata": {},
   "outputs": [],
   "source": [
    "from tensorflow.keras.callbacks import LearningRateScheduler\n",
    "def decay_schedule(epoch, lr):\n",
    "    # decay by 0.1 every 5 epochs; use `% 1` to decay after each epoch\n",
    "    if epoch  == 9:\n",
    "        lr = lr * 0.1\n",
    "    return lr\n",
    "lr_scheduler = LearningRateScheduler(decay_schedule)"
   ]
  },
  {
   "cell_type": "markdown",
   "metadata": {},
   "source": [
    "### 数据增强技术。每轮生成增强数据\n",
    "#### 保留点击序列2/3以上的点击item，mask剩余部分\n",
    "#### 打乱点击序列顺序，据数据分析，点击顺序跟年龄性别无关"
   ]
  },
  {
   "cell_type": "code",
   "execution_count": null,
   "metadata": {},
   "outputs": [],
   "source": [
    "class DataGenerator(tf.keras.utils.Sequence):\n",
    "    'Generates data for Keras'\n",
    "    def __init__(self, dataset_train, labels_train, batch_size=128):\n",
    "        'Initialization'\n",
    "        self.dataset_train = dataset_train\n",
    "        self.labels_train = labels_train\n",
    "        self.batch_size = batch_size\n",
    "        self.click_time_length = self.dataset_train['click_times_length']\n",
    "        self.total_size = self.click_time_length.shape[0]\n",
    "        self.indexes = np.arange(self.total_size)\n",
    "        \n",
    "        self.enhanced_data = {}\n",
    "        self.epoch_count = 0\n",
    "        self.on_epoch_end()\n",
    "    def on_epoch_end(self):\n",
    "        #shuffle data\n",
    "#         if self.epoch_count%4 == 0:\n",
    "        del self.enhanced_data\n",
    "        gc.collect()\n",
    "        self.enhanced_data= {}\n",
    "\n",
    "        keys = [key for key in self.dataset_train.keys() if key != 'click_times_length' and key != 'user_id']\n",
    "\n",
    "        for key in keys:\n",
    "            self.enhanced_data[key] =[]\n",
    "        for index,value in tqdm(enumerate(self.click_time_length)):\n",
    "            if value > maxlen:\n",
    "                value = maxlen\n",
    "            big = np.random.randint(int(value/3.0*2),value)\n",
    "            sampled_action = np.random.choice(value, big, replace=True)\n",
    "            for key in keys:\n",
    "                row = self.dataset_train[key][index]\n",
    "                self.enhanced_data[key].append(np.hstack([row[sampled_action], np.array([0]* (maxlen -len(sampled_action)))]))\n",
    "        for key in keys:\n",
    "            self.enhanced_data[key] = np.stack(self.enhanced_data[key])\n",
    "\n",
    "        self.enhanced_data['click_times_length'] =self.click_time_length\n",
    "        np.random.shuffle(self.indexes)\n",
    "        \n",
    "    def __len__(self):\n",
    "        'Denotes the number of batches per epoch'\n",
    "        return int(np.floor(self.total_size / self.batch_size))\n",
    "\n",
    "    def __getitem__(self, index):\n",
    "        'Generate one batch of data'\n",
    "        # Generate indexes of the batch\n",
    "        high = (index+1)*self.batch_size\n",
    "        if high >self.total_size:\n",
    "            high = self.total_size\n",
    "        batch_data={}\n",
    "        selected = self.indexes[index*self.batch_size:high]\n",
    "        for key in self.enhanced_data.keys():\n",
    "            batch_data[key] = self.enhanced_data[key][selected]\n",
    "        return batch_data, self.labels_train[selected]"
   ]
  },
  {
   "cell_type": "markdown",
   "metadata": {},
   "source": [
    "# 五折运行"
   ]
  },
  {
   "cell_type": "code",
   "execution_count": null,
   "metadata": {},
   "outputs": [],
   "source": [
    "from sklearn.model_selection import StratifiedKFold\n",
    "import gc\n",
    "import pickle\n",
    "folds =[]\n",
    "if not os.path.exists('./temp/folder.pkl'):\n",
    "    sub = np.zeros((dataset_test_x['creative_id'].shape[0], 10))\n",
    "    skf = StratifiedKFold(n_splits=5, random_state=random_seed, shuffle=True)\n",
    "    count = 0\n",
    "    for i, (train_index, test_index) in enumerate(skf.split(dataset_train_x['creative_id'], dataset_train_y['age_out'][:,0])):\n",
    "        folds.append((train_index,test_index))\n",
    "    f = open(\"./temp/folder.pkl\",\"wb\")\n",
    "    pickle.dump(folds,f)\n",
    "    f.close()\n",
    "else:\n",
    "    f = open(\"./temp/folder.pkl\",\"rb\")\n",
    "    folds = pickle.load(f)\n",
    "    f.close()"
   ]
  },
  {
   "cell_type": "code",
   "execution_count": null,
   "metadata": {},
   "outputs": [],
   "source": [
    "#写日志，防止notebook session失效后的观察\n",
    "class CustomCallback(tf.keras.callbacks.Callback):\n",
    "    def on_epoch_end(self, epoch, logs=None):\n",
    "        now = datetime.now()\n",
    "        current_time = now.strftime(\"%H:%M:%S\")\n",
    "        f = open(\"log.txt\", \"a+\")\n",
    "        f.write(f\"{current_time}, epoch:{epoch},val_acc:{logs['val_acc']}\\n\")\n",
    "        f.close()"
   ]
  },
  {
   "cell_type": "code",
   "execution_count": null,
   "metadata": {},
   "outputs": [],
   "source": [
    "from sklearn.model_selection import StratifiedKFold\n",
    "import gc\n",
    "score = []\n",
    "sub = np.zeros((dataset_test_x['creative_id'].shape[0], 10))\n",
    "skf = StratifiedKFold(n_splits=5, random_state=random_seed, shuffle=True)\n",
    "count = 0\n",
    "for i, (train_index, test_index) in enumerate(folds):\n",
    "    print(\"FOLD | \", i+1)\n",
    "    print(\"###\"*35)\n",
    "    gc.collect()\n",
    "    filepath = f\"model/age_{i}/nn_age_v1.tf\"\n",
    "#     with mirrored_strategy.scope():\n",
    "\n",
    "    #model_age.load_weights(filepath)\n",
    "    \n",
    "    fold_data_train_x ={}\n",
    "    fold_data_val_x ={}\n",
    "    for col in aggcol + ['click_times_mask','click_times_length']:\n",
    "        fold_data_train_x[col] = dataset_train_x[col][train_index]\n",
    "        fold_data_val_x[col] = dataset_train_x[col][test_index]\n",
    "    fold_data_train_y = {'age_out':label_age[train_index]}#, 'gender_out':label_gender[train_index]}\n",
    "    fold_data_val_y= {'age_out':label_age[test_index]}#, 'gender_out':label_gender[test_index]}\n",
    "    data_generator =DataGenerator(fold_data_train_x,fold_data_train_y['age_out'],batch_size)\n",
    "\n",
    "    checkpoint = ModelCheckpoint(\n",
    "        filepath, monitor='val_acc', verbose=1, save_best_only=True, mode='max',save_weights_only=True)\n",
    "    reduce_lr = ReduceLROnPlateau(\n",
    "        monitor='val_acc', factor=0.5, patience=3, min_lr=0.0001, verbose=1)\n",
    "    earlystopping = EarlyStopping(\n",
    "        monitor='val_acc', min_delta=0.001, patience=6, verbose=1, mode='max')\n",
    "    logcallback = CustomCallback()#([data_generator.on_epoch_end])\n",
    "    callbacks = [checkpoint,logcallback, lr_scheduler, earlystopping]\n",
    "\n",
    "    model_age  = generate_model(embeds,all_inputs,click_buck_input,click_length_input)\n",
    "    hist = model_age.fit(data_generator, epochs=epochs, \n",
    "                         validation_data=(fold_data_val_x, fold_data_val_y),\n",
    "                         callbacks=callbacks, verbose=1, shuffle=True)\n",
    "#     hist = model_age.fit(fold_data_train_x,fold_data_train_y,batch_size=batch_size, epochs=epochs, \n",
    "#                          validation_data=(fold_data_val_x, fold_data_val_y),\n",
    "#                          callbacks=callbacks, verbose=1, shuffle=True)\n",
    "    del data_generator\n",
    "    gc.collect()\n",
    "    model_age.load_weights(filepath)\n",
    "    #oof_pred[test_index] = model_age.predict(dataset_test_x,batch_size=512,verbose=1)\n",
    "    tem = model_age.predict(dataset_test_x,batch_size=512,verbose=1)\n",
    "    np.save(f'./temp/age_folder_{i}.npy',tem)\n",
    "    sub += tem/skf.n_splits\n",
    "    score.append(np.max(hist.history['val_acc']))\n",
    "    count += 1\n",
    "print('acc:', np.mean(score))"
   ]
  },
  {
   "cell_type": "code",
   "execution_count": null,
   "metadata": {},
   "outputs": [],
   "source": [
    "import gc\n",
    "gc.collect()"
   ]
  },
  {
   "cell_type": "code",
   "execution_count": null,
   "metadata": {},
   "outputs": [],
   "source": [
    "age_result = sub"
   ]
  },
  {
   "cell_type": "code",
   "execution_count": null,
   "metadata": {},
   "outputs": [],
   "source": [
    "np.save('./result/prop/age_result',age_result)"
   ]
  },
  {
   "cell_type": "code",
   "execution_count": null,
   "metadata": {},
   "outputs": [],
   "source": [
    "age_arg = np.argmax(age_result,axis=1)+1\n",
    "final = pd.DataFrame({'user_id':dataset_test_x['user_id'],'predicted_age':age_arg,'predicted_gender':[-1]*len(age_arg)})\n",
    "final.to_csv('./temp/w2v_only_age_0710_05135.csv',index=False)"
   ]
  },
  {
   "cell_type": "markdown",
   "metadata": {},
   "source": [
    "# 性别训练和预测"
   ]
  },
  {
   "cell_type": "code",
   "execution_count": null,
   "metadata": {},
   "outputs": [],
   "source": [
    "from tensorflow.keras.callbacks import LearningRateScheduler\n",
    "def gender_decay_schedule(epoch, lr):\n",
    "    # decay by 0.1 every 5 epochs; use `% 1` to decay after each epoch\n",
    "    if epoch  == 3:\n",
    "        lr = lr * 0.1\n",
    "    return lr\n",
    "lr_gender_scheduler = LearningRateScheduler(gender_decay_schedule)"
   ]
  },
  {
   "cell_type": "code",
   "execution_count": null,
   "metadata": {},
   "outputs": [],
   "source": [
    "# 微调模型参数，获取最佳效果\n",
    "def generate_gender_model(embeds,all_inputs,click_buck_input,click_length_input):\n",
    "    temp_out=[]\n",
    "\n",
    "    orgin_mask= click_buck_input[:, :, tf.newaxis]\n",
    "    clip_mask = tf.clip_by_value(orgin_mask, clip_value_min=0, clip_value_max=1)\n",
    "    max_mask = (1.0 - clip_mask) * -10000.0\n",
    "    \n",
    "    x = concatenate(embeds)\n",
    "    x = Bidirectional(CuDNNLSTM(640, return_sequences=True,recurrent_initializer='glorot_uniform'))(x)\n",
    "    x = x  * clip_mask\n",
    "    x = Bidirectional(CuDNNLSTM(320,return_sequences=True))(x)\n",
    "    for_max = x+max_mask\n",
    "    \n",
    "    max_pool = GlobalMaxPooling1D()(con_x)\n",
    "    temp_out.append(max_pool)\n",
    "\n",
    "    x = temp_out[0]#concatenate(temp_out)\n",
    "    x = Dense(256, activation='relu')(x)\n",
    "    x = Dense(128,activation='relu')(x)\n",
    "    age_pred = Dense(2, activation='softmax',name ='gender_out')(x)\n",
    "    model = Model(inputs=all_inputs, outputs=[age_pred])\n",
    "    optimizer = tf.keras.optimizers.Adam(learning_rate=0.001)\n",
    "    model.compile(optimizer=optimizer,loss='categorical_crossentropy',  metrics={\"gender_out\": \"accuracy\"})\n",
    "    return model\n",
    "    "
   ]
  },
  {
   "cell_type": "code",
   "execution_count": null,
   "metadata": {},
   "outputs": [],
   "source": [
    "from sklearn.model_selection import StratifiedKFold\n",
    "import gc\n",
    "score = []\n",
    "\n",
    "sub = np.zeros((dataset_test_x['creative_id'].shape[0], 2))\n",
    "skf = StratifiedKFold(n_splits=5, random_state=random_seed, shuffle=True)\n",
    "count = 0\n",
    "for i, (train_index, test_index) in enumerate(folds):\n",
    "    print(\"FOLD | \", count+1)\n",
    "    print(\"###\"*35)\n",
    "    gc.collect()\n",
    "    filepath = f\"model/gender_{i}/nn_gender_v1.tf\"\n",
    "    checkpoint = ModelCheckpoint(\n",
    "        filepath, monitor='val_acc', verbose=1, save_best_only=True, mode='max',save_weights_only=True)\n",
    "    reduce_lr = ReduceLROnPlateau(\n",
    "        monitor='val_acc', factor=0.5, patience=3, min_lr=0.0001, verbose=1)\n",
    "    earlystopping = EarlyStopping(\n",
    "        monitor='val_acc', min_delta=0.001, patience=5, verbose=1, mode='max')\n",
    "    callbacks = [checkpoint, lr_gender_scheduler, earlystopping]\n",
    "    \n",
    "    model_gender = generate_gender_model(embeds,all_inputs,click_buck_input,click_length_input)\n",
    "\n",
    "    if i==0:\n",
    "        model_gender.summary()\n",
    "    fold_data_train_x ={}\n",
    "    fold_data_val_x ={}\n",
    "    for col in aggcol + ['click_times_mask','click_times_length']:\n",
    "        fold_data_train_x[col] = dataset_train_x[col][train_index]\n",
    "        fold_data_val_x[col] = dataset_train_x[col][test_index]\n",
    "    fold_data_train_y = {'gender_out':label_gender[train_index]}\n",
    "    fold_data_val_y= { 'gender_out':label_gender[test_index]}\n",
    "    data_generator =DataGenerator(fold_data_train_x,fold_data_train_y['gender_out'],batch_size)\n",
    "    \n",
    "    hist = model_gender.fit(data_generator, epochs=epochs, \n",
    "                         validation_data=(fold_data_val_x, fold_data_val_y),\n",
    "                         callbacks=callbacks, verbose=1, shuffle=True)\n",
    "    model_gender.load_weights(filepath)\n",
    "    sub += model_gender.predict(dataset_test_x,batch_size=512,verbose=1)/skf.n_splits\n",
    "    score.append(np.max(hist.history['val_accuracy']))\n",
    "    count += 1\n",
    "print('acc:', np.mean(score))"
   ]
  },
  {
   "cell_type": "code",
   "execution_count": null,
   "metadata": {},
   "outputs": [],
   "source": [
    "gender_result = sub"
   ]
  },
  {
   "cell_type": "code",
   "execution_count": null,
   "metadata": {},
   "outputs": [],
   "source": [
    "np.save('./result/prop/gender_result',gender_result)"
   ]
  },
  {
   "cell_type": "code",
   "execution_count": null,
   "metadata": {},
   "outputs": [],
   "source": [
    "age_arg = np.argmax(age_result,axis=1)+1\n",
    "gender_arg = np.argmax(gender_result,axis=1)+1"
   ]
  },
  {
   "cell_type": "code",
   "execution_count": null,
   "metadata": {},
   "outputs": [],
   "source": [
    "final = pd.DataFrame({'user_id':dataset_test_x['user_id'],'predicted_age':age_arg,'predicted_gender':gender_arg})\n",
    "final.to_csv('./result/w2v_age_gender.csv',index=False)"
   ]
  },
  {
   "cell_type": "markdown",
   "metadata": {},
   "source": [
    "# 后处理。进行权重搜索"
   ]
  },
  {
   "cell_type": "code",
   "execution_count": null,
   "metadata": {},
   "outputs": [],
   "source": [
    "####opt\n",
    "from sklearn.metrics import accuracy_score\n",
    "class_num=10\n",
    "#ground_truth = np.argmax(dataset_train_y['age_out'],axis=1)  \n",
    "def search_weight(valid_y, raw_prob, init_weight=[1.0]*class_num, step=0.001):\n",
    "    weight = init_weight.copy()\n",
    "    f_best = accuracy_score(y_true=valid_y, y_pred=raw_prob.argmax(\n",
    "        axis=1))\n",
    "    flag_score = 0\n",
    "    round_num = 1\n",
    "    while(flag_score != f_best):\n",
    "        print(\"round: \", round_num)\n",
    "        round_num += 1\n",
    "        flag_score = f_best\n",
    "        for c in range(class_num):\n",
    "            for n_w in range(0, 2000,10):\n",
    "                num = n_w * step\n",
    "                new_weight = weight.copy()\n",
    "                new_weight[c] = num\n",
    "\n",
    "                prob_df = raw_prob.copy()\n",
    "                prob_df = prob_df * np.array(new_weight)\n",
    "\n",
    "                f = accuracy_score(y_true=valid_y, y_pred=prob_df.argmax(\n",
    "                    axis=1))\n",
    "                if f > f_best:\n",
    "                    weight = new_weight.copy()\n",
    "                    f_best = f\n",
    "                    print(f)\n",
    "    return weight\n"
   ]
  },
  {
   "cell_type": "code",
   "execution_count": null,
   "metadata": {},
   "outputs": [],
   "source": [
    "def get_weighted_result(i):\n",
    "    model_age  = generate_model(embeds,all_inputs,click_buck_input,click_length_input)\n",
    "    model_age.load_weights(f\"model/age_{i}/nn_age_v1.tf\")\n",
    "    train_index, test_index = folds[i]\n",
    "    \n",
    "    fold_data_train_x ={}\n",
    "    fold_data_val_x ={}\n",
    "    for col in aggcol + ['click_times_mask','click_times_length']:\n",
    "        fold_data_train_x[col] = dataset_train_x[col][train_index]\n",
    "        fold_data_val_x[col] = dataset_train_x[col][test_index]\n",
    "    fold_data_train_y = {'age_out':label_age[train_index]}#, 'gender_out':label_gender[train_index]}\n",
    "    fold_data_val_y= {'age_out':label_age[test_index]}#, 'gender_out':label_gender[test_index]}\n",
    "    \n",
    "    val_truth = np.argmax(fold_data_val_y['age_out'],axis=1)\n",
    "    val_predict = model_age.predict(fold_data_val_x,batch_size=512,verbose=1)\n",
    "    \n",
    "    val_acc = accuracy_score(y_true=val_truth, y_pred=val_predict.argmax(axis=1))\n",
    "    print(f'origin acc:{val_acc}')\n",
    "    param = search_weight(val_truth,val_predict)\n",
    "    weight_acc = accuracy_score(y_true=val_truth, y_pred=(val_predict*param).argmax(axis=1))\n",
    "    print(f'post acc:{weight_acc}')\n",
    "    \n",
    "    test_predict = model_age.predict(dataset_test_x,batch_size=512,verbose=1)\n",
    "    return test_predict*param,param"
   ]
  },
  {
   "cell_type": "code",
   "execution_count": null,
   "metadata": {},
   "outputs": [],
   "source": [
    "result,weight = get_weighted_result(2)\n"
   ]
  },
  {
   "cell_type": "code",
   "execution_count": null,
   "metadata": {},
   "outputs": [],
   "source": [
    "np.save('./temp/age_folder_2_post.npy',result/5)"
   ]
  },
  {
   "cell_type": "code",
   "execution_count": null,
   "metadata": {},
   "outputs": [],
   "source": [
    "result,weight = get_weighted_result(4)\n"
   ]
  },
  {
   "cell_type": "code",
   "execution_count": null,
   "metadata": {},
   "outputs": [],
   "source": [
    "np.save('./temp/age_folder_4_post.npy',result/5)"
   ]
  },
  {
   "cell_type": "code",
   "execution_count": null,
   "metadata": {},
   "outputs": [],
   "source": [
    "np.sum(result,axis=1)"
   ]
  },
  {
   "cell_type": "code",
   "execution_count": null,
   "metadata": {},
   "outputs": [],
   "source": []
  }
 ],
 "metadata": {
  "kernelspec": {
   "display_name": "conda_tensorflow_py3",
   "language": "python",
   "name": "conda_tensorflow_py3"
  },
  "language_info": {
   "codemirror_mode": {
    "name": "ipython",
    "version": 3
   },
   "file_extension": ".py",
   "mimetype": "text/x-python",
   "name": "python",
   "nbconvert_exporter": "python",
   "pygments_lexer": "ipython3",
   "version": "3.6.5"
  }
 },
 "nbformat": 4,
 "nbformat_minor": 4
}
