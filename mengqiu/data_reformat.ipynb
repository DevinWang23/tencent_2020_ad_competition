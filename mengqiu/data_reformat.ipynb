{
 "cells": [
  {
   "cell_type": "markdown",
   "metadata": {},
   "source": [
    "# Data Reformat\n",
    "reformat unstructure data into structure data"
   ]
  },
  {
   "cell_type": "code",
   "execution_count": 1,
   "metadata": {},
   "outputs": [],
   "source": [
    "%load_ext autoreload\n",
    "%autoreload 2\n",
    "import sys\n",
    "import os \n",
    "\n",
    "import pandas as pd\n",
    "import numpy as np\n",
    "from IPython.core.interactiveshell import InteractiveShell\n",
    "import seaborn as sns\n",
    "import matplotlib.pyplot as plt\n",
    "import matplotlib.font_manager as fm\n",
    "\n",
    "sys.path.append('../')\n",
    "import conf\n",
    "from utils import (\n",
    "                    correct_column_type_by_value_range,\n",
    "                    LogManager,\n",
    ")"
   ]
  },
  {
   "cell_type": "code",
   "execution_count": 5,
   "metadata": {},
   "outputs": [],
   "source": [
    "# global settings\n",
    "InteractiveShell.ast_node_interactivity = \"all\"\n",
    "pd.set_option('display.max_rows', 50)\n",
    "pd.set_option('display.max_columns',1000)\n",
    "pd.set_option('display.width',100)\n",
    "sns.set(rc={'figure.figsize':(11,4)})\n",
    "LogManager.created_filename = os.path.join(conf.LOG_DIR, 'data_reformat.log')\n",
    "logger = LogManager.get_logger(__name__)"
   ]
  },
  {
   "cell_type": "code",
   "execution_count": 3,
   "metadata": {},
   "outputs": [],
   "source": [
    "# global variables\n",
    "DEFAULT_MISSING_VALUE = 0\n",
    "FONT = fm.FontProperties(fname = os.path.join(conf.LIB_DIR,'simsun.ttc'))\n",
    "input_data_folder  = conf.ROUND_TWO_TRAIN_DATA_DIR  "
   ]
  },
  {
   "cell_type": "code",
   "execution_count": 4,
   "metadata": {},
   "outputs": [],
   "source": [
    "# functions\n",
    "def combine_round_one_and_round_two_train_df(filename):\n",
    "    train_round_one_df = pd.read_csv(os.path.join(conf.ROUND_ONE_TRAIN_DATA_DIR, filename))\n",
    "    train_round_two_df = pd.read_csv(os.path.join(conf.ROUND_TWO_TRAIN_DATA_DIR, filename))\n",
    "    train_df = pd.concat([train_round_one_df, train_round_two_df],axis=0)\n",
    "    assert train_df.shape == (train_round_one_df.shape[0] + train_round_two_df.shape[0],train_round_two_df.shape[1])\n",
    "    train_df.drop_duplicates(inplace=True)\n",
    "    train_df.to_csv(os.path.join(conf.DATA_DIR,'%s'%filename),index=False)\n",
    "    logger.info('%s has been saved'%os.path.join(conf.DATA_DIR,'%s'%filename))\n",
    "    return train_df"
   ]
  },
  {
   "cell_type": "code",
   "execution_count": 5,
   "metadata": {},
   "outputs": [
    {
     "name": "stdout",
     "output_type": "stream",
     "text": [
      "4.0K\t../data/train_preliminary/README\r\n",
      "75M\t../data/train_preliminary/ad.csv\r\n",
      "553M\t../data/train_preliminary/click_log.csv\r\n",
      "9.4M\t../data/train_preliminary/user.csv\r\n"
     ]
    }
   ],
   "source": [
    "! du -sh ../data/train_preliminary/*"
   ]
  },
  {
   "cell_type": "code",
   "execution_count": 6,
   "metadata": {},
   "outputs": [
    {
     "name": "stdout",
     "output_type": "stream",
     "text": [
      "4.0K\t../data/train_semi_final/README\r\n",
      "107M\t../data/train_semi_final/ad.csv\r\n",
      "1.4G\t../data/train_semi_final/click_log.csv\r\n",
      "24M\t../data/train_semi_final/user.csv\r\n"
     ]
    }
   ],
   "source": [
    "! du -sh ../data/train_semi_final/*"
   ]
  },
  {
   "cell_type": "code",
   "execution_count": 7,
   "metadata": {},
   "outputs": [
    {
     "name": "stdout",
     "output_type": "stream",
     "text": [
      "4.0K\t../data/test/README\r\n",
      "79M\t../data/test/ad.csv\r\n",
      "654M\t../data/test/click_log.csv\r\n"
     ]
    }
   ],
   "source": [
    "! du -sh ../data/test/*"
   ]
  },
  {
   "cell_type": "code",
   "execution_count": 8,
   "metadata": {},
   "outputs": [
    {
     "name": "stdout",
     "output_type": "stream",
     "text": [
      "../data/ad.csv has been saved\n",
      "../data/user.csv has been saved\n",
      "../data/click_log.csv has been saved\n"
     ]
    }
   ],
   "source": [
    "# combine round one and round two ad csv\n",
    "train_ad_df = combine_round_one_and_round_two_train_df('ad.csv')\n",
    "train_user_df = combine_round_one_and_round_two_train_df('user.csv')\n",
    "train_click_df = combine_round_one_and_round_two_train_df('click_log.csv')"
   ]
  },
  {
   "cell_type": "code",
   "execution_count": 9,
   "metadata": {},
   "outputs": [
    {
     "data": {
      "text/plain": [
       "(3000000, 3)"
      ]
     },
     "execution_count": 9,
     "metadata": {},
     "output_type": "execute_result"
    }
   ],
   "source": [
    "train_user_df.shape"
   ]
  },
  {
   "cell_type": "code",
   "execution_count": 10,
   "metadata": {},
   "outputs": [],
   "source": [
    "# train - ad.csv\n",
    "train_ad_df = pd.read_csv(os.path.join(conf.DATA_DIR, 'ad.csv'))"
   ]
  },
  {
   "cell_type": "code",
   "execution_count": 11,
   "metadata": {},
   "outputs": [
    {
     "data": {
      "text/plain": [
       "0          False\n",
       "1          False\n",
       "2          False\n",
       "3          False\n",
       "4          False\n",
       "           ...  \n",
       "4031026    False\n",
       "4031027    False\n",
       "4031028    False\n",
       "4031029    False\n",
       "4031030    False\n",
       "Length: 4031031, dtype: bool"
      ]
     },
     "execution_count": 11,
     "metadata": {},
     "output_type": "execute_result"
    }
   ],
   "source": [
    "train_ad_df.duplicated()"
   ]
  },
  {
   "cell_type": "code",
   "execution_count": 12,
   "metadata": {},
   "outputs": [
    {
     "data": {
      "text/html": [
       "<div>\n",
       "<style scoped>\n",
       "    .dataframe tbody tr th:only-of-type {\n",
       "        vertical-align: middle;\n",
       "    }\n",
       "\n",
       "    .dataframe tbody tr th {\n",
       "        vertical-align: top;\n",
       "    }\n",
       "\n",
       "    .dataframe thead th {\n",
       "        text-align: right;\n",
       "    }\n",
       "</style>\n",
       "<table border=\"1\" class=\"dataframe\">\n",
       "  <thead>\n",
       "    <tr style=\"text-align: right;\">\n",
       "      <th></th>\n",
       "      <th>creative_id</th>\n",
       "      <th>ad_id</th>\n",
       "      <th>product_id</th>\n",
       "      <th>product_category</th>\n",
       "      <th>advertiser_id</th>\n",
       "      <th>industry</th>\n",
       "    </tr>\n",
       "  </thead>\n",
       "  <tbody>\n",
       "    <tr>\n",
       "      <th>0</th>\n",
       "      <td>1</td>\n",
       "      <td>1</td>\n",
       "      <td>\\N</td>\n",
       "      <td>5</td>\n",
       "      <td>381</td>\n",
       "      <td>78</td>\n",
       "    </tr>\n",
       "    <tr>\n",
       "      <th>1</th>\n",
       "      <td>4</td>\n",
       "      <td>4</td>\n",
       "      <td>\\N</td>\n",
       "      <td>5</td>\n",
       "      <td>108</td>\n",
       "      <td>202</td>\n",
       "    </tr>\n",
       "    <tr>\n",
       "      <th>2</th>\n",
       "      <td>7</td>\n",
       "      <td>7</td>\n",
       "      <td>\\N</td>\n",
       "      <td>5</td>\n",
       "      <td>148</td>\n",
       "      <td>297</td>\n",
       "    </tr>\n",
       "    <tr>\n",
       "      <th>3</th>\n",
       "      <td>8</td>\n",
       "      <td>8</td>\n",
       "      <td>\\N</td>\n",
       "      <td>5</td>\n",
       "      <td>713</td>\n",
       "      <td>213</td>\n",
       "    </tr>\n",
       "    <tr>\n",
       "      <th>4</th>\n",
       "      <td>9</td>\n",
       "      <td>9</td>\n",
       "      <td>\\N</td>\n",
       "      <td>5</td>\n",
       "      <td>695</td>\n",
       "      <td>213</td>\n",
       "    </tr>\n",
       "    <tr>\n",
       "      <th>...</th>\n",
       "      <td>...</td>\n",
       "      <td>...</td>\n",
       "      <td>...</td>\n",
       "      <td>...</td>\n",
       "      <td>...</td>\n",
       "      <td>...</td>\n",
       "    </tr>\n",
       "    <tr>\n",
       "      <th>195</th>\n",
       "      <td>355</td>\n",
       "      <td>556</td>\n",
       "      <td>1374</td>\n",
       "      <td>2</td>\n",
       "      <td>20</td>\n",
       "      <td>248</td>\n",
       "    </tr>\n",
       "    <tr>\n",
       "      <th>196</th>\n",
       "      <td>357</td>\n",
       "      <td>383</td>\n",
       "      <td>\\N</td>\n",
       "      <td>9</td>\n",
       "      <td>5797</td>\n",
       "      <td>155</td>\n",
       "    </tr>\n",
       "    <tr>\n",
       "      <th>197</th>\n",
       "      <td>358</td>\n",
       "      <td>559</td>\n",
       "      <td>\\N</td>\n",
       "      <td>18</td>\n",
       "      <td>5932</td>\n",
       "      <td>114</td>\n",
       "    </tr>\n",
       "    <tr>\n",
       "      <th>198</th>\n",
       "      <td>360</td>\n",
       "      <td>562</td>\n",
       "      <td>29002</td>\n",
       "      <td>3</td>\n",
       "      <td>238</td>\n",
       "      <td>322</td>\n",
       "    </tr>\n",
       "    <tr>\n",
       "      <th>199</th>\n",
       "      <td>361</td>\n",
       "      <td>562</td>\n",
       "      <td>29002</td>\n",
       "      <td>3</td>\n",
       "      <td>238</td>\n",
       "      <td>322</td>\n",
       "    </tr>\n",
       "  </tbody>\n",
       "</table>\n",
       "<p>200 rows × 6 columns</p>\n",
       "</div>"
      ],
      "text/plain": [
       "     creative_id  ad_id product_id  product_category  advertiser_id industry\n",
       "0              1      1         \\N                 5            381       78\n",
       "1              4      4         \\N                 5            108      202\n",
       "2              7      7         \\N                 5            148      297\n",
       "3              8      8         \\N                 5            713      213\n",
       "4              9      9         \\N                 5            695      213\n",
       "..           ...    ...        ...               ...            ...      ...\n",
       "195          355    556       1374                 2             20      248\n",
       "196          357    383         \\N                 9           5797      155\n",
       "197          358    559         \\N                18           5932      114\n",
       "198          360    562      29002                 3            238      322\n",
       "199          361    562      29002                 3            238      322\n",
       "\n",
       "[200 rows x 6 columns]"
      ]
     },
     "execution_count": 12,
     "metadata": {},
     "output_type": "execute_result"
    }
   ],
   "source": [
    "train_ad_df.head(200)"
   ]
  },
  {
   "cell_type": "code",
   "execution_count": 13,
   "metadata": {},
   "outputs": [
    {
     "data": {
      "text/html": [
       "<div>\n",
       "<style scoped>\n",
       "    .dataframe tbody tr th:only-of-type {\n",
       "        vertical-align: middle;\n",
       "    }\n",
       "\n",
       "    .dataframe tbody tr th {\n",
       "        vertical-align: top;\n",
       "    }\n",
       "\n",
       "    .dataframe thead th {\n",
       "        text-align: right;\n",
       "    }\n",
       "</style>\n",
       "<table border=\"1\" class=\"dataframe\">\n",
       "  <thead>\n",
       "    <tr style=\"text-align: right;\">\n",
       "      <th></th>\n",
       "      <th>time</th>\n",
       "      <th>user_id</th>\n",
       "      <th>creative_id</th>\n",
       "      <th>click_times</th>\n",
       "    </tr>\n",
       "  </thead>\n",
       "  <tbody>\n",
       "    <tr>\n",
       "      <th>0</th>\n",
       "      <td>9</td>\n",
       "      <td>30920</td>\n",
       "      <td>567330</td>\n",
       "      <td>1</td>\n",
       "    </tr>\n",
       "    <tr>\n",
       "      <th>1</th>\n",
       "      <td>65</td>\n",
       "      <td>30920</td>\n",
       "      <td>3072255</td>\n",
       "      <td>1</td>\n",
       "    </tr>\n",
       "    <tr>\n",
       "      <th>2</th>\n",
       "      <td>56</td>\n",
       "      <td>30920</td>\n",
       "      <td>2361327</td>\n",
       "      <td>1</td>\n",
       "    </tr>\n",
       "    <tr>\n",
       "      <th>3</th>\n",
       "      <td>6</td>\n",
       "      <td>309204</td>\n",
       "      <td>325532</td>\n",
       "      <td>1</td>\n",
       "    </tr>\n",
       "    <tr>\n",
       "      <th>4</th>\n",
       "      <td>59</td>\n",
       "      <td>309204</td>\n",
       "      <td>2746730</td>\n",
       "      <td>1</td>\n",
       "    </tr>\n",
       "  </tbody>\n",
       "</table>\n",
       "</div>"
      ],
      "text/plain": [
       "   time  user_id  creative_id  click_times\n",
       "0     9    30920       567330            1\n",
       "1    65    30920      3072255            1\n",
       "2    56    30920      2361327            1\n",
       "3     6   309204       325532            1\n",
       "4    59   309204      2746730            1"
      ]
     },
     "execution_count": 13,
     "metadata": {},
     "output_type": "execute_result"
    }
   ],
   "source": [
    "train_click_df.head()"
   ]
  },
  {
   "cell_type": "code",
   "execution_count": 14,
   "metadata": {},
   "outputs": [
    {
     "data": {
      "text/plain": [
       "creative_id          int64\n",
       "ad_id                int64\n",
       "product_id          object\n",
       "product_category     int64\n",
       "advertiser_id        int64\n",
       "industry            object\n",
       "dtype: object"
      ]
     },
     "execution_count": 14,
     "metadata": {},
     "output_type": "execute_result"
    }
   ],
   "source": [
    "train_ad_df.dtypes"
   ]
  },
  {
   "cell_type": "code",
   "execution_count": 15,
   "metadata": {},
   "outputs": [
    {
     "data": {
      "text/html": [
       "<div>\n",
       "<style scoped>\n",
       "    .dataframe tbody tr th:only-of-type {\n",
       "        vertical-align: middle;\n",
       "    }\n",
       "\n",
       "    .dataframe tbody tr th {\n",
       "        vertical-align: top;\n",
       "    }\n",
       "\n",
       "    .dataframe thead th {\n",
       "        text-align: right;\n",
       "    }\n",
       "</style>\n",
       "<table border=\"1\" class=\"dataframe\">\n",
       "  <thead>\n",
       "    <tr style=\"text-align: right;\">\n",
       "      <th></th>\n",
       "      <th>creative_id</th>\n",
       "      <th>ad_id</th>\n",
       "      <th>product_category</th>\n",
       "      <th>advertiser_id</th>\n",
       "    </tr>\n",
       "  </thead>\n",
       "  <tbody>\n",
       "    <tr>\n",
       "      <th>count</th>\n",
       "      <td>4.031031e+06</td>\n",
       "      <td>4.031031e+06</td>\n",
       "      <td>4.031031e+06</td>\n",
       "      <td>4.031031e+06</td>\n",
       "    </tr>\n",
       "    <tr>\n",
       "      <th>mean</th>\n",
       "      <td>2.218314e+06</td>\n",
       "      <td>1.909664e+06</td>\n",
       "      <td>7.805786e+00</td>\n",
       "      <td>2.843166e+04</td>\n",
       "    </tr>\n",
       "    <tr>\n",
       "      <th>std</th>\n",
       "      <td>1.283356e+06</td>\n",
       "      <td>1.098174e+06</td>\n",
       "      <td>6.740812e+00</td>\n",
       "      <td>1.542167e+04</td>\n",
       "    </tr>\n",
       "    <tr>\n",
       "      <th>min</th>\n",
       "      <td>1.000000e+00</td>\n",
       "      <td>1.000000e+00</td>\n",
       "      <td>1.000000e+00</td>\n",
       "      <td>2.000000e+00</td>\n",
       "    </tr>\n",
       "    <tr>\n",
       "      <th>25%</th>\n",
       "      <td>1.106938e+06</td>\n",
       "      <td>9.639995e+05</td>\n",
       "      <td>2.000000e+00</td>\n",
       "      <td>1.604800e+04</td>\n",
       "    </tr>\n",
       "    <tr>\n",
       "      <th>50%</th>\n",
       "      <td>2.218094e+06</td>\n",
       "      <td>1.910837e+06</td>\n",
       "      <td>5.000000e+00</td>\n",
       "      <td>2.705100e+04</td>\n",
       "    </tr>\n",
       "    <tr>\n",
       "      <th>75%</th>\n",
       "      <td>3.329444e+06</td>\n",
       "      <td>2.860250e+06</td>\n",
       "      <td>1.800000e+01</td>\n",
       "      <td>3.926000e+04</td>\n",
       "    </tr>\n",
       "    <tr>\n",
       "      <th>max</th>\n",
       "      <td>4.445720e+06</td>\n",
       "      <td>3.812202e+06</td>\n",
       "      <td>1.800000e+01</td>\n",
       "      <td>6.296500e+04</td>\n",
       "    </tr>\n",
       "  </tbody>\n",
       "</table>\n",
       "</div>"
      ],
      "text/plain": [
       "        creative_id         ad_id  product_category  advertiser_id\n",
       "count  4.031031e+06  4.031031e+06      4.031031e+06   4.031031e+06\n",
       "mean   2.218314e+06  1.909664e+06      7.805786e+00   2.843166e+04\n",
       "std    1.283356e+06  1.098174e+06      6.740812e+00   1.542167e+04\n",
       "min    1.000000e+00  1.000000e+00      1.000000e+00   2.000000e+00\n",
       "25%    1.106938e+06  9.639995e+05      2.000000e+00   1.604800e+04\n",
       "50%    2.218094e+06  1.910837e+06      5.000000e+00   2.705100e+04\n",
       "75%    3.329444e+06  2.860250e+06      1.800000e+01   3.926000e+04\n",
       "max    4.445720e+06  3.812202e+06      1.800000e+01   6.296500e+04"
      ]
     },
     "execution_count": 15,
     "metadata": {},
     "output_type": "execute_result"
    }
   ],
   "source": [
    "train_ad_df.describe()"
   ]
  },
  {
   "cell_type": "code",
   "execution_count": 16,
   "metadata": {},
   "outputs": [
    {
     "data": {
      "text/plain": [
       "creative_id          int64\n",
       "ad_id                int64\n",
       "product_id          object\n",
       "product_category     int64\n",
       "advertiser_id        int64\n",
       "industry            object\n",
       "dtype: object"
      ]
     },
     "execution_count": 16,
     "metadata": {},
     "output_type": "execute_result"
    }
   ],
   "source": [
    "train_ad_df.dtypes"
   ]
  },
  {
   "cell_type": "code",
   "execution_count": 17,
   "metadata": {},
   "outputs": [
    {
     "data": {
      "text/plain": [
       "42114"
      ]
     },
     "execution_count": 17,
     "metadata": {},
     "output_type": "execute_result"
    }
   ],
   "source": [
    "len(train_ad_df['product_id'].unique())"
   ]
  },
  {
   "cell_type": "code",
   "execution_count": 18,
   "metadata": {},
   "outputs": [
    {
     "data": {
      "text/plain": [
       "0.36"
      ]
     },
     "execution_count": 18,
     "metadata": {},
     "output_type": "execute_result"
    }
   ],
   "source": [
    "round(len(train_ad_df[train_ad_df.product_id=='\\\\N'])/len(train_ad_df),2)"
   ]
  },
  {
   "cell_type": "code",
   "execution_count": 19,
   "metadata": {},
   "outputs": [
    {
     "data": {
      "text/plain": [
       "4031031"
      ]
     },
     "execution_count": 19,
     "metadata": {},
     "output_type": "execute_result"
    }
   ],
   "source": [
    "len(train_ad_df)"
   ]
  },
  {
   "cell_type": "code",
   "execution_count": 20,
   "metadata": {},
   "outputs": [
    {
     "data": {
      "text/html": [
       "<div>\n",
       "<style scoped>\n",
       "    .dataframe tbody tr th:only-of-type {\n",
       "        vertical-align: middle;\n",
       "    }\n",
       "\n",
       "    .dataframe tbody tr th {\n",
       "        vertical-align: top;\n",
       "    }\n",
       "\n",
       "    .dataframe thead th {\n",
       "        text-align: right;\n",
       "    }\n",
       "</style>\n",
       "<table border=\"1\" class=\"dataframe\">\n",
       "  <thead>\n",
       "    <tr style=\"text-align: right;\">\n",
       "      <th></th>\n",
       "      <th>creative_id</th>\n",
       "      <th>ad_id</th>\n",
       "      <th>product_id</th>\n",
       "      <th>product_category</th>\n",
       "      <th>advertiser_id</th>\n",
       "      <th>industry</th>\n",
       "    </tr>\n",
       "  </thead>\n",
       "  <tbody>\n",
       "    <tr>\n",
       "      <th>0</th>\n",
       "      <td>1</td>\n",
       "      <td>1</td>\n",
       "      <td>\\N</td>\n",
       "      <td>5</td>\n",
       "      <td>381</td>\n",
       "      <td>78</td>\n",
       "    </tr>\n",
       "    <tr>\n",
       "      <th>1</th>\n",
       "      <td>4</td>\n",
       "      <td>4</td>\n",
       "      <td>\\N</td>\n",
       "      <td>5</td>\n",
       "      <td>108</td>\n",
       "      <td>202</td>\n",
       "    </tr>\n",
       "    <tr>\n",
       "      <th>2</th>\n",
       "      <td>7</td>\n",
       "      <td>7</td>\n",
       "      <td>\\N</td>\n",
       "      <td>5</td>\n",
       "      <td>148</td>\n",
       "      <td>297</td>\n",
       "    </tr>\n",
       "    <tr>\n",
       "      <th>3</th>\n",
       "      <td>8</td>\n",
       "      <td>8</td>\n",
       "      <td>\\N</td>\n",
       "      <td>5</td>\n",
       "      <td>713</td>\n",
       "      <td>213</td>\n",
       "    </tr>\n",
       "    <tr>\n",
       "      <th>4</th>\n",
       "      <td>9</td>\n",
       "      <td>9</td>\n",
       "      <td>\\N</td>\n",
       "      <td>5</td>\n",
       "      <td>695</td>\n",
       "      <td>213</td>\n",
       "    </tr>\n",
       "    <tr>\n",
       "      <th>...</th>\n",
       "      <td>...</td>\n",
       "      <td>...</td>\n",
       "      <td>...</td>\n",
       "      <td>...</td>\n",
       "      <td>...</td>\n",
       "      <td>...</td>\n",
       "    </tr>\n",
       "    <tr>\n",
       "      <th>4030986</th>\n",
       "      <td>4445515</td>\n",
       "      <td>3812001</td>\n",
       "      <td>\\N</td>\n",
       "      <td>18</td>\n",
       "      <td>25967</td>\n",
       "      <td>28</td>\n",
       "    </tr>\n",
       "    <tr>\n",
       "      <th>4030998</th>\n",
       "      <td>4445561</td>\n",
       "      <td>3812046</td>\n",
       "      <td>\\N</td>\n",
       "      <td>18</td>\n",
       "      <td>26787</td>\n",
       "      <td>13</td>\n",
       "    </tr>\n",
       "    <tr>\n",
       "      <th>4031001</th>\n",
       "      <td>4445589</td>\n",
       "      <td>3812073</td>\n",
       "      <td>\\N</td>\n",
       "      <td>18</td>\n",
       "      <td>59055</td>\n",
       "      <td>26</td>\n",
       "    </tr>\n",
       "    <tr>\n",
       "      <th>4031016</th>\n",
       "      <td>4445664</td>\n",
       "      <td>3812147</td>\n",
       "      <td>\\N</td>\n",
       "      <td>18</td>\n",
       "      <td>19750</td>\n",
       "      <td>74</td>\n",
       "    </tr>\n",
       "    <tr>\n",
       "      <th>4031027</th>\n",
       "      <td>4445701</td>\n",
       "      <td>3812183</td>\n",
       "      <td>\\N</td>\n",
       "      <td>5</td>\n",
       "      <td>19188</td>\n",
       "      <td>296</td>\n",
       "    </tr>\n",
       "  </tbody>\n",
       "</table>\n",
       "<p>1441982 rows × 6 columns</p>\n",
       "</div>"
      ],
      "text/plain": [
       "         creative_id    ad_id product_id  product_category  advertiser_id industry\n",
       "0                  1        1         \\N                 5            381       78\n",
       "1                  4        4         \\N                 5            108      202\n",
       "2                  7        7         \\N                 5            148      297\n",
       "3                  8        8         \\N                 5            713      213\n",
       "4                  9        9         \\N                 5            695      213\n",
       "...              ...      ...        ...               ...            ...      ...\n",
       "4030986      4445515  3812001         \\N                18          25967       28\n",
       "4030998      4445561  3812046         \\N                18          26787       13\n",
       "4031001      4445589  3812073         \\N                18          59055       26\n",
       "4031016      4445664  3812147         \\N                18          19750       74\n",
       "4031027      4445701  3812183         \\N                 5          19188      296\n",
       "\n",
       "[1441982 rows x 6 columns]"
      ]
     },
     "execution_count": 20,
     "metadata": {},
     "output_type": "execute_result"
    }
   ],
   "source": [
    "mask = train_ad_df.product_id=='\\\\N'\n",
    "train_ad_df[mask]"
   ]
  },
  {
   "cell_type": "code",
   "execution_count": 21,
   "metadata": {},
   "outputs": [
    {
     "data": {
      "text/html": [
       "<div>\n",
       "<style scoped>\n",
       "    .dataframe tbody tr th:only-of-type {\n",
       "        vertical-align: middle;\n",
       "    }\n",
       "\n",
       "    .dataframe tbody tr th {\n",
       "        vertical-align: top;\n",
       "    }\n",
       "\n",
       "    .dataframe thead th {\n",
       "        text-align: right;\n",
       "    }\n",
       "</style>\n",
       "<table border=\"1\" class=\"dataframe\">\n",
       "  <thead>\n",
       "    <tr style=\"text-align: right;\">\n",
       "      <th></th>\n",
       "      <th>creative_id</th>\n",
       "      <th>ad_id</th>\n",
       "      <th>product_id</th>\n",
       "      <th>product_category</th>\n",
       "      <th>advertiser_id</th>\n",
       "      <th>industry</th>\n",
       "    </tr>\n",
       "  </thead>\n",
       "  <tbody>\n",
       "    <tr>\n",
       "      <th>516</th>\n",
       "      <td>907</td>\n",
       "      <td>1403</td>\n",
       "      <td>42462</td>\n",
       "      <td>4</td>\n",
       "      <td>7159</td>\n",
       "      <td>\\N</td>\n",
       "    </tr>\n",
       "    <tr>\n",
       "      <th>583</th>\n",
       "      <td>997</td>\n",
       "      <td>1551</td>\n",
       "      <td>\\N</td>\n",
       "      <td>17</td>\n",
       "      <td>10577</td>\n",
       "      <td>\\N</td>\n",
       "    </tr>\n",
       "    <tr>\n",
       "      <th>608</th>\n",
       "      <td>1034</td>\n",
       "      <td>1596</td>\n",
       "      <td>42462</td>\n",
       "      <td>4</td>\n",
       "      <td>7159</td>\n",
       "      <td>\\N</td>\n",
       "    </tr>\n",
       "    <tr>\n",
       "      <th>659</th>\n",
       "      <td>1108</td>\n",
       "      <td>1691</td>\n",
       "      <td>42522</td>\n",
       "      <td>4</td>\n",
       "      <td>10230</td>\n",
       "      <td>\\N</td>\n",
       "    </tr>\n",
       "    <tr>\n",
       "      <th>926</th>\n",
       "      <td>1511</td>\n",
       "      <td>2185</td>\n",
       "      <td>40491</td>\n",
       "      <td>4</td>\n",
       "      <td>6918</td>\n",
       "      <td>\\N</td>\n",
       "    </tr>\n",
       "    <tr>\n",
       "      <th>...</th>\n",
       "      <td>...</td>\n",
       "      <td>...</td>\n",
       "      <td>...</td>\n",
       "      <td>...</td>\n",
       "      <td>...</td>\n",
       "      <td>...</td>\n",
       "    </tr>\n",
       "    <tr>\n",
       "      <th>4031021</th>\n",
       "      <td>4445675</td>\n",
       "      <td>3812157</td>\n",
       "      <td>39063</td>\n",
       "      <td>17</td>\n",
       "      <td>427</td>\n",
       "      <td>\\N</td>\n",
       "    </tr>\n",
       "    <tr>\n",
       "      <th>4031026</th>\n",
       "      <td>4445697</td>\n",
       "      <td>3812179</td>\n",
       "      <td>41285</td>\n",
       "      <td>17</td>\n",
       "      <td>427</td>\n",
       "      <td>\\N</td>\n",
       "    </tr>\n",
       "    <tr>\n",
       "      <th>4031028</th>\n",
       "      <td>4445712</td>\n",
       "      <td>3812194</td>\n",
       "      <td>35885</td>\n",
       "      <td>17</td>\n",
       "      <td>427</td>\n",
       "      <td>\\N</td>\n",
       "    </tr>\n",
       "    <tr>\n",
       "      <th>4031029</th>\n",
       "      <td>4445719</td>\n",
       "      <td>3812201</td>\n",
       "      <td>39287</td>\n",
       "      <td>17</td>\n",
       "      <td>427</td>\n",
       "      <td>\\N</td>\n",
       "    </tr>\n",
       "    <tr>\n",
       "      <th>4031030</th>\n",
       "      <td>4445720</td>\n",
       "      <td>3812202</td>\n",
       "      <td>39287</td>\n",
       "      <td>17</td>\n",
       "      <td>427</td>\n",
       "      <td>\\N</td>\n",
       "    </tr>\n",
       "  </tbody>\n",
       "</table>\n",
       "<p>164954 rows × 6 columns</p>\n",
       "</div>"
      ],
      "text/plain": [
       "         creative_id    ad_id product_id  product_category  advertiser_id industry\n",
       "516              907     1403      42462                 4           7159       \\N\n",
       "583              997     1551         \\N                17          10577       \\N\n",
       "608             1034     1596      42462                 4           7159       \\N\n",
       "659             1108     1691      42522                 4          10230       \\N\n",
       "926             1511     2185      40491                 4           6918       \\N\n",
       "...              ...      ...        ...               ...            ...      ...\n",
       "4031021      4445675  3812157      39063                17            427       \\N\n",
       "4031026      4445697  3812179      41285                17            427       \\N\n",
       "4031028      4445712  3812194      35885                17            427       \\N\n",
       "4031029      4445719  3812201      39287                17            427       \\N\n",
       "4031030      4445720  3812202      39287                17            427       \\N\n",
       "\n",
       "[164954 rows x 6 columns]"
      ]
     },
     "execution_count": 21,
     "metadata": {},
     "output_type": "execute_result"
    }
   ],
   "source": [
    "mask = train_ad_df.industry=='\\\\N'\n",
    "train_ad_df[mask]"
   ]
  },
  {
   "cell_type": "code",
   "execution_count": 22,
   "metadata": {},
   "outputs": [],
   "source": [
    "# map nan value into 0 and change data type into int\n",
    "train_ad_df['product_id'] = train_ad_df['product_id'].apply(lambda x: np.nan if x =='\\\\N' else int(x))\n",
    "train_ad_df['industry'] = train_ad_df['industry'].apply(lambda x: np.nan if x=='\\\\N' else int(x))"
   ]
  },
  {
   "cell_type": "code",
   "execution_count": 23,
   "metadata": {},
   "outputs": [
    {
     "data": {
      "text/plain": [
       "creative_id           int64\n",
       "ad_id                 int64\n",
       "product_id          float64\n",
       "product_category      int64\n",
       "advertiser_id         int64\n",
       "industry            float64\n",
       "dtype: object"
      ]
     },
     "execution_count": 23,
     "metadata": {},
     "output_type": "execute_result"
    }
   ],
   "source": [
    "train_ad_df.dtypes"
   ]
  },
  {
   "cell_type": "code",
   "execution_count": 24,
   "metadata": {},
   "outputs": [
    {
     "data": {
      "text/plain": [
       "164954"
      ]
     },
     "execution_count": 24,
     "metadata": {},
     "output_type": "execute_result"
    }
   ],
   "source": [
    "train_ad_df['industry'].isnull().sum()"
   ]
  },
  {
   "cell_type": "code",
   "execution_count": 25,
   "metadata": {},
   "outputs": [],
   "source": [
    "### test - ad.csv \n",
    "test_ad_df = pd.read_csv(os.path.join(conf.TEST_DATA_DIR, 'ad.csv'))"
   ]
  },
  {
   "cell_type": "code",
   "execution_count": 26,
   "metadata": {},
   "outputs": [
    {
     "data": {
      "text/plain": [
       "2618159"
      ]
     },
     "execution_count": 26,
     "metadata": {},
     "output_type": "execute_result"
    }
   ],
   "source": [
    "len(test_ad_df)"
   ]
  },
  {
   "cell_type": "code",
   "execution_count": 27,
   "metadata": {},
   "outputs": [],
   "source": [
    "test_ad_df['product_id'] = test_ad_df['product_id'].apply(lambda x: np.nan if x =='\\\\N' else int(x))\n",
    "test_ad_df['industry'] = test_ad_df['industry'].apply(lambda x: np.nan if x=='\\\\N' else int(x))"
   ]
  },
  {
   "cell_type": "code",
   "execution_count": 28,
   "metadata": {},
   "outputs": [],
   "source": [
    "# train - click_log.csv\n",
    "train_click_log_df = pd.read_csv(os.path.join(conf.DATA_DIR, 'click_log.csv'))"
   ]
  },
  {
   "cell_type": "code",
   "execution_count": 29,
   "metadata": {},
   "outputs": [
    {
     "data": {
      "text/html": [
       "<div>\n",
       "<style scoped>\n",
       "    .dataframe tbody tr th:only-of-type {\n",
       "        vertical-align: middle;\n",
       "    }\n",
       "\n",
       "    .dataframe tbody tr th {\n",
       "        vertical-align: top;\n",
       "    }\n",
       "\n",
       "    .dataframe thead th {\n",
       "        text-align: right;\n",
       "    }\n",
       "</style>\n",
       "<table border=\"1\" class=\"dataframe\">\n",
       "  <thead>\n",
       "    <tr style=\"text-align: right;\">\n",
       "      <th></th>\n",
       "      <th>time</th>\n",
       "      <th>user_id</th>\n",
       "      <th>creative_id</th>\n",
       "      <th>click_times</th>\n",
       "    </tr>\n",
       "  </thead>\n",
       "  <tbody>\n",
       "    <tr>\n",
       "      <th>0</th>\n",
       "      <td>9</td>\n",
       "      <td>30920</td>\n",
       "      <td>567330</td>\n",
       "      <td>1</td>\n",
       "    </tr>\n",
       "    <tr>\n",
       "      <th>1</th>\n",
       "      <td>65</td>\n",
       "      <td>30920</td>\n",
       "      <td>3072255</td>\n",
       "      <td>1</td>\n",
       "    </tr>\n",
       "    <tr>\n",
       "      <th>2</th>\n",
       "      <td>56</td>\n",
       "      <td>30920</td>\n",
       "      <td>2361327</td>\n",
       "      <td>1</td>\n",
       "    </tr>\n",
       "    <tr>\n",
       "      <th>3</th>\n",
       "      <td>6</td>\n",
       "      <td>309204</td>\n",
       "      <td>325532</td>\n",
       "      <td>1</td>\n",
       "    </tr>\n",
       "    <tr>\n",
       "      <th>4</th>\n",
       "      <td>59</td>\n",
       "      <td>309204</td>\n",
       "      <td>2746730</td>\n",
       "      <td>1</td>\n",
       "    </tr>\n",
       "  </tbody>\n",
       "</table>\n",
       "</div>"
      ],
      "text/plain": [
       "   time  user_id  creative_id  click_times\n",
       "0     9    30920       567330            1\n",
       "1    65    30920      3072255            1\n",
       "2    56    30920      2361327            1\n",
       "3     6   309204       325532            1\n",
       "4    59   309204      2746730            1"
      ]
     },
     "execution_count": 29,
     "metadata": {},
     "output_type": "execute_result"
    }
   ],
   "source": [
    "train_click_log_df.head()"
   ]
  },
  {
   "cell_type": "code",
   "execution_count": 30,
   "metadata": {},
   "outputs": [
    {
     "data": {
      "text/plain": [
       "time           int64\n",
       "user_id        int64\n",
       "creative_id    int64\n",
       "click_times    int64\n",
       "dtype: object"
      ]
     },
     "execution_count": 30,
     "metadata": {},
     "output_type": "execute_result"
    }
   ],
   "source": [
    "train_click_log_df.dtypes"
   ]
  },
  {
   "cell_type": "code",
   "execution_count": 31,
   "metadata": {},
   "outputs": [
    {
     "data": {
      "text/plain": [
       "(100292933, 4)"
      ]
     },
     "execution_count": 31,
     "metadata": {},
     "output_type": "execute_result"
    }
   ],
   "source": [
    "train_click_log_df.shape"
   ]
  },
  {
   "cell_type": "code",
   "execution_count": 32,
   "metadata": {},
   "outputs": [],
   "source": [
    "# test - click_log.csv\n",
    "test_click_log_df = pd.read_csv(os.path.join(conf.TEST_DATA_DIR, 'click_log.csv'))"
   ]
  },
  {
   "cell_type": "code",
   "execution_count": 33,
   "metadata": {},
   "outputs": [
    {
     "data": {
      "text/plain": [
       "33585512"
      ]
     },
     "execution_count": 33,
     "metadata": {},
     "output_type": "execute_result"
    }
   ],
   "source": [
    "len(test_click_log_df)"
   ]
  },
  {
   "cell_type": "code",
   "execution_count": 34,
   "metadata": {},
   "outputs": [],
   "source": [
    "# train - user.csv\n",
    "train_user_df = pd.read_csv(os.path.join(conf.DATA_DIR, 'user.csv'))"
   ]
  },
  {
   "cell_type": "code",
   "execution_count": 35,
   "metadata": {},
   "outputs": [
    {
     "data": {
      "text/html": [
       "<div>\n",
       "<style scoped>\n",
       "    .dataframe tbody tr th:only-of-type {\n",
       "        vertical-align: middle;\n",
       "    }\n",
       "\n",
       "    .dataframe tbody tr th {\n",
       "        vertical-align: top;\n",
       "    }\n",
       "\n",
       "    .dataframe thead th {\n",
       "        text-align: right;\n",
       "    }\n",
       "</style>\n",
       "<table border=\"1\" class=\"dataframe\">\n",
       "  <thead>\n",
       "    <tr style=\"text-align: right;\">\n",
       "      <th></th>\n",
       "      <th>user_id</th>\n",
       "      <th>age</th>\n",
       "      <th>gender</th>\n",
       "    </tr>\n",
       "  </thead>\n",
       "  <tbody>\n",
       "    <tr>\n",
       "      <th>0</th>\n",
       "      <td>1</td>\n",
       "      <td>4</td>\n",
       "      <td>1</td>\n",
       "    </tr>\n",
       "    <tr>\n",
       "      <th>1</th>\n",
       "      <td>2</td>\n",
       "      <td>10</td>\n",
       "      <td>1</td>\n",
       "    </tr>\n",
       "    <tr>\n",
       "      <th>2</th>\n",
       "      <td>3</td>\n",
       "      <td>7</td>\n",
       "      <td>2</td>\n",
       "    </tr>\n",
       "    <tr>\n",
       "      <th>3</th>\n",
       "      <td>4</td>\n",
       "      <td>5</td>\n",
       "      <td>1</td>\n",
       "    </tr>\n",
       "    <tr>\n",
       "      <th>4</th>\n",
       "      <td>5</td>\n",
       "      <td>4</td>\n",
       "      <td>1</td>\n",
       "    </tr>\n",
       "  </tbody>\n",
       "</table>\n",
       "</div>"
      ],
      "text/plain": [
       "   user_id  age  gender\n",
       "0        1    4       1\n",
       "1        2   10       1\n",
       "2        3    7       2\n",
       "3        4    5       1\n",
       "4        5    4       1"
      ]
     },
     "execution_count": 35,
     "metadata": {},
     "output_type": "execute_result"
    }
   ],
   "source": [
    "train_user_df.head()"
   ]
  },
  {
   "cell_type": "code",
   "execution_count": 36,
   "metadata": {},
   "outputs": [
    {
     "data": {
      "text/plain": [
       "3000000"
      ]
     },
     "execution_count": 36,
     "metadata": {},
     "output_type": "execute_result"
    }
   ],
   "source": [
    "len(train_user_df)"
   ]
  },
  {
   "cell_type": "code",
   "execution_count": 37,
   "metadata": {},
   "outputs": [
    {
     "data": {
      "text/plain": [
       "user_id    int64\n",
       "age        int64\n",
       "gender     int64\n",
       "dtype: object"
      ]
     },
     "execution_count": 37,
     "metadata": {},
     "output_type": "execute_result"
    }
   ],
   "source": [
    "train_user_df.dtypes"
   ]
  },
  {
   "cell_type": "code",
   "execution_count": 38,
   "metadata": {},
   "outputs": [
    {
     "data": {
      "text/html": [
       "<div>\n",
       "<style scoped>\n",
       "    .dataframe tbody tr th:only-of-type {\n",
       "        vertical-align: middle;\n",
       "    }\n",
       "\n",
       "    .dataframe tbody tr th {\n",
       "        vertical-align: top;\n",
       "    }\n",
       "\n",
       "    .dataframe thead th {\n",
       "        text-align: right;\n",
       "    }\n",
       "</style>\n",
       "<table border=\"1\" class=\"dataframe\">\n",
       "  <thead>\n",
       "    <tr style=\"text-align: right;\">\n",
       "      <th></th>\n",
       "      <th>user_id</th>\n",
       "      <th>age</th>\n",
       "      <th>gender</th>\n",
       "    </tr>\n",
       "  </thead>\n",
       "  <tbody>\n",
       "    <tr>\n",
       "      <th>0</th>\n",
       "      <td>1</td>\n",
       "      <td>4</td>\n",
       "      <td>1</td>\n",
       "    </tr>\n",
       "    <tr>\n",
       "      <th>1</th>\n",
       "      <td>2</td>\n",
       "      <td>10</td>\n",
       "      <td>1</td>\n",
       "    </tr>\n",
       "    <tr>\n",
       "      <th>2</th>\n",
       "      <td>3</td>\n",
       "      <td>7</td>\n",
       "      <td>2</td>\n",
       "    </tr>\n",
       "    <tr>\n",
       "      <th>3</th>\n",
       "      <td>4</td>\n",
       "      <td>5</td>\n",
       "      <td>1</td>\n",
       "    </tr>\n",
       "    <tr>\n",
       "      <th>4</th>\n",
       "      <td>5</td>\n",
       "      <td>4</td>\n",
       "      <td>1</td>\n",
       "    </tr>\n",
       "  </tbody>\n",
       "</table>\n",
       "</div>"
      ],
      "text/plain": [
       "   user_id  age  gender\n",
       "0        1    4       1\n",
       "1        2   10       1\n",
       "2        3    7       2\n",
       "3        4    5       1\n",
       "4        5    4       1"
      ]
     },
     "execution_count": 38,
     "metadata": {},
     "output_type": "execute_result"
    }
   ],
   "source": [
    "train_user_df.head()"
   ]
  },
  {
   "cell_type": "code",
   "execution_count": 39,
   "metadata": {},
   "outputs": [],
   "source": [
    "train_user_df['y'] = list(zip(train_user_df['gender'], train_user_df['age']))"
   ]
  },
  {
   "cell_type": "code",
   "execution_count": 40,
   "metadata": {},
   "outputs": [],
   "source": [
    "label_map_dict = {0: (1, 1),\n",
    "                  1: (1, 2),\n",
    "                  2: (1, 3),\n",
    "                  3: (1, 4),\n",
    "                  4: (1, 5),\n",
    "                  5: (1, 6),\n",
    "                  6: (1, 7),\n",
    "                  7: (1, 8),\n",
    "                  8: (1, 9),\n",
    "                  9: (1, 10),\n",
    "                  10: (2, 1),\n",
    "                  11: (2, 2),\n",
    "                  12: (2, 3),\n",
    "                  13: (2, 4),\n",
    "                  14: (2, 5),\n",
    "                  15: (2, 6),\n",
    "                  16: (2, 7),\n",
    "                  17: (2, 8),\n",
    "                  18: (2, 9),\n",
    "                  19: (2, 10)}"
   ]
  },
  {
   "cell_type": "code",
   "execution_count": 41,
   "metadata": {},
   "outputs": [
    {
     "data": {
      "text/plain": [
       "dict_items([(0, (1, 1)), (1, (1, 2)), (2, (1, 3)), (3, (1, 4)), (4, (1, 5)), (5, (1, 6)), (6, (1, 7)), (7, (1, 8)), (8, (1, 9)), (9, (1, 10)), (10, (2, 1)), (11, (2, 2)), (12, (2, 3)), (13, (2, 4)), (14, (2, 5)), (15, (2, 6)), (16, (2, 7)), (17, (2, 8)), (18, (2, 9)), (19, (2, 10))])"
      ]
     },
     "execution_count": 41,
     "metadata": {},
     "output_type": "execute_result"
    }
   ],
   "source": [
    "label_map_dict.items()"
   ]
  },
  {
   "cell_type": "code",
   "execution_count": 42,
   "metadata": {},
   "outputs": [],
   "source": [
    "reverse_label_map_dict = dict([(value,key)for key, value in label_map_dict.items()])"
   ]
  },
  {
   "cell_type": "code",
   "execution_count": 43,
   "metadata": {},
   "outputs": [
    {
     "data": {
      "text/plain": [
       "{(1, 1): 0,\n",
       " (1, 2): 1,\n",
       " (1, 3): 2,\n",
       " (1, 4): 3,\n",
       " (1, 5): 4,\n",
       " (1, 6): 5,\n",
       " (1, 7): 6,\n",
       " (1, 8): 7,\n",
       " (1, 9): 8,\n",
       " (1, 10): 9,\n",
       " (2, 1): 10,\n",
       " (2, 2): 11,\n",
       " (2, 3): 12,\n",
       " (2, 4): 13,\n",
       " (2, 5): 14,\n",
       " (2, 6): 15,\n",
       " (2, 7): 16,\n",
       " (2, 8): 17,\n",
       " (2, 9): 18,\n",
       " (2, 10): 19}"
      ]
     },
     "execution_count": 43,
     "metadata": {},
     "output_type": "execute_result"
    }
   ],
   "source": [
    "reverse_label_map_dict"
   ]
  },
  {
   "cell_type": "code",
   "execution_count": 44,
   "metadata": {},
   "outputs": [],
   "source": [
    "train_user_df['y'] = train_user_df['y'].apply(lambda x : reverse_label_map_dict[x])"
   ]
  },
  {
   "cell_type": "code",
   "execution_count": 45,
   "metadata": {},
   "outputs": [
    {
     "data": {
      "text/html": [
       "<div>\n",
       "<style scoped>\n",
       "    .dataframe tbody tr th:only-of-type {\n",
       "        vertical-align: middle;\n",
       "    }\n",
       "\n",
       "    .dataframe tbody tr th {\n",
       "        vertical-align: top;\n",
       "    }\n",
       "\n",
       "    .dataframe thead th {\n",
       "        text-align: right;\n",
       "    }\n",
       "</style>\n",
       "<table border=\"1\" class=\"dataframe\">\n",
       "  <thead>\n",
       "    <tr style=\"text-align: right;\">\n",
       "      <th></th>\n",
       "      <th>user_id</th>\n",
       "      <th>age</th>\n",
       "      <th>gender</th>\n",
       "      <th>y</th>\n",
       "    </tr>\n",
       "  </thead>\n",
       "  <tbody>\n",
       "    <tr>\n",
       "      <th>0</th>\n",
       "      <td>1</td>\n",
       "      <td>4</td>\n",
       "      <td>1</td>\n",
       "      <td>3</td>\n",
       "    </tr>\n",
       "    <tr>\n",
       "      <th>1</th>\n",
       "      <td>2</td>\n",
       "      <td>10</td>\n",
       "      <td>1</td>\n",
       "      <td>9</td>\n",
       "    </tr>\n",
       "    <tr>\n",
       "      <th>2</th>\n",
       "      <td>3</td>\n",
       "      <td>7</td>\n",
       "      <td>2</td>\n",
       "      <td>16</td>\n",
       "    </tr>\n",
       "    <tr>\n",
       "      <th>3</th>\n",
       "      <td>4</td>\n",
       "      <td>5</td>\n",
       "      <td>1</td>\n",
       "      <td>4</td>\n",
       "    </tr>\n",
       "    <tr>\n",
       "      <th>4</th>\n",
       "      <td>5</td>\n",
       "      <td>4</td>\n",
       "      <td>1</td>\n",
       "      <td>3</td>\n",
       "    </tr>\n",
       "  </tbody>\n",
       "</table>\n",
       "</div>"
      ],
      "text/plain": [
       "   user_id  age  gender   y\n",
       "0        1    4       1   3\n",
       "1        2   10       1   9\n",
       "2        3    7       2  16\n",
       "3        4    5       1   4\n",
       "4        5    4       1   3"
      ]
     },
     "execution_count": 45,
     "metadata": {},
     "output_type": "execute_result"
    }
   ],
   "source": [
    "train_user_df.head()"
   ]
  },
  {
   "cell_type": "code",
   "execution_count": 46,
   "metadata": {},
   "outputs": [],
   "source": [
    "train_user_df.to_feather(os.path.join(conf.DATA_DIR, 'label_round_one_df.feather'))"
   ]
  },
  {
   "cell_type": "code",
   "execution_count": 47,
   "metadata": {},
   "outputs": [],
   "source": [
    "# merge train dfs\n",
    "raw_train_df = train_click_log_df.merge(train_ad_df,how='left',on='creative_id')"
   ]
  },
  {
   "cell_type": "code",
   "execution_count": 48,
   "metadata": {},
   "outputs": [],
   "source": [
    "raw_train_df = raw_train_df.merge(train_user_df,how='left',on='user_id')"
   ]
  },
  {
   "cell_type": "code",
   "execution_count": 49,
   "metadata": {},
   "outputs": [
    {
     "data": {
      "text/html": [
       "<div>\n",
       "<style scoped>\n",
       "    .dataframe tbody tr th:only-of-type {\n",
       "        vertical-align: middle;\n",
       "    }\n",
       "\n",
       "    .dataframe tbody tr th {\n",
       "        vertical-align: top;\n",
       "    }\n",
       "\n",
       "    .dataframe thead th {\n",
       "        text-align: right;\n",
       "    }\n",
       "</style>\n",
       "<table border=\"1\" class=\"dataframe\">\n",
       "  <thead>\n",
       "    <tr style=\"text-align: right;\">\n",
       "      <th></th>\n",
       "      <th>time</th>\n",
       "      <th>user_id</th>\n",
       "      <th>creative_id</th>\n",
       "      <th>click_times</th>\n",
       "      <th>ad_id</th>\n",
       "      <th>product_id</th>\n",
       "      <th>product_category</th>\n",
       "      <th>advertiser_id</th>\n",
       "      <th>industry</th>\n",
       "      <th>age</th>\n",
       "      <th>gender</th>\n",
       "      <th>y</th>\n",
       "    </tr>\n",
       "  </thead>\n",
       "  <tbody>\n",
       "    <tr>\n",
       "      <th>0</th>\n",
       "      <td>9</td>\n",
       "      <td>30920</td>\n",
       "      <td>567330</td>\n",
       "      <td>1</td>\n",
       "      <td>504423</td>\n",
       "      <td>30673.0</td>\n",
       "      <td>3</td>\n",
       "      <td>32638</td>\n",
       "      <td>319.0</td>\n",
       "      <td>2</td>\n",
       "      <td>1</td>\n",
       "      <td>1</td>\n",
       "    </tr>\n",
       "    <tr>\n",
       "      <th>1</th>\n",
       "      <td>65</td>\n",
       "      <td>30920</td>\n",
       "      <td>3072255</td>\n",
       "      <td>1</td>\n",
       "      <td>2642300</td>\n",
       "      <td>1261.0</td>\n",
       "      <td>2</td>\n",
       "      <td>6783</td>\n",
       "      <td>6.0</td>\n",
       "      <td>2</td>\n",
       "      <td>1</td>\n",
       "      <td>1</td>\n",
       "    </tr>\n",
       "    <tr>\n",
       "      <th>2</th>\n",
       "      <td>56</td>\n",
       "      <td>30920</td>\n",
       "      <td>2361327</td>\n",
       "      <td>1</td>\n",
       "      <td>2035918</td>\n",
       "      <td>1261.0</td>\n",
       "      <td>2</td>\n",
       "      <td>6783</td>\n",
       "      <td>6.0</td>\n",
       "      <td>2</td>\n",
       "      <td>1</td>\n",
       "      <td>1</td>\n",
       "    </tr>\n",
       "    <tr>\n",
       "      <th>3</th>\n",
       "      <td>6</td>\n",
       "      <td>309204</td>\n",
       "      <td>325532</td>\n",
       "      <td>1</td>\n",
       "      <td>292523</td>\n",
       "      <td>27081.0</td>\n",
       "      <td>3</td>\n",
       "      <td>32066</td>\n",
       "      <td>242.0</td>\n",
       "      <td>6</td>\n",
       "      <td>1</td>\n",
       "      <td>5</td>\n",
       "    </tr>\n",
       "    <tr>\n",
       "      <th>4</th>\n",
       "      <td>59</td>\n",
       "      <td>309204</td>\n",
       "      <td>2746730</td>\n",
       "      <td>1</td>\n",
       "      <td>2362208</td>\n",
       "      <td>NaN</td>\n",
       "      <td>18</td>\n",
       "      <td>14682</td>\n",
       "      <td>88.0</td>\n",
       "      <td>6</td>\n",
       "      <td>1</td>\n",
       "      <td>5</td>\n",
       "    </tr>\n",
       "  </tbody>\n",
       "</table>\n",
       "</div>"
      ],
      "text/plain": [
       "   time  user_id  creative_id  click_times    ad_id  product_id  product_category  advertiser_id  \\\n",
       "0     9    30920       567330            1   504423     30673.0                 3          32638   \n",
       "1    65    30920      3072255            1  2642300      1261.0                 2           6783   \n",
       "2    56    30920      2361327            1  2035918      1261.0                 2           6783   \n",
       "3     6   309204       325532            1   292523     27081.0                 3          32066   \n",
       "4    59   309204      2746730            1  2362208         NaN                18          14682   \n",
       "\n",
       "   industry  age  gender  y  \n",
       "0     319.0    2       1  1  \n",
       "1       6.0    2       1  1  \n",
       "2       6.0    2       1  1  \n",
       "3     242.0    6       1  5  \n",
       "4      88.0    6       1  5  "
      ]
     },
     "execution_count": 49,
     "metadata": {},
     "output_type": "execute_result"
    }
   ],
   "source": [
    "raw_train_df.head()"
   ]
  },
  {
   "cell_type": "code",
   "execution_count": 50,
   "metadata": {},
   "outputs": [
    {
     "data": {
      "text/plain": [
       "4239870"
      ]
     },
     "execution_count": 50,
     "metadata": {},
     "output_type": "execute_result"
    }
   ],
   "source": [
    "raw_train_df['industry'].isnull().sum()"
   ]
  },
  {
   "cell_type": "code",
   "execution_count": 51,
   "metadata": {},
   "outputs": [
    {
     "data": {
      "text/html": [
       "<div>\n",
       "<style scoped>\n",
       "    .dataframe tbody tr th:only-of-type {\n",
       "        vertical-align: middle;\n",
       "    }\n",
       "\n",
       "    .dataframe tbody tr th {\n",
       "        vertical-align: top;\n",
       "    }\n",
       "\n",
       "    .dataframe thead th {\n",
       "        text-align: right;\n",
       "    }\n",
       "</style>\n",
       "<table border=\"1\" class=\"dataframe\">\n",
       "  <thead>\n",
       "    <tr style=\"text-align: right;\">\n",
       "      <th></th>\n",
       "      <th>time</th>\n",
       "      <th>user_id</th>\n",
       "      <th>creative_id</th>\n",
       "      <th>click_times</th>\n",
       "      <th>ad_id</th>\n",
       "      <th>product_id</th>\n",
       "      <th>product_category</th>\n",
       "      <th>advertiser_id</th>\n",
       "      <th>industry</th>\n",
       "      <th>age</th>\n",
       "      <th>gender</th>\n",
       "      <th>y</th>\n",
       "    </tr>\n",
       "  </thead>\n",
       "  <tbody>\n",
       "    <tr>\n",
       "      <th>243</th>\n",
       "      <td>80</td>\n",
       "      <td>309221</td>\n",
       "      <td>1503096</td>\n",
       "      <td>1</td>\n",
       "      <td>1307003</td>\n",
       "      <td>35106.0</td>\n",
       "      <td>4</td>\n",
       "      <td>2879</td>\n",
       "      <td>NaN</td>\n",
       "      <td>4</td>\n",
       "      <td>1</td>\n",
       "      <td>3</td>\n",
       "    </tr>\n",
       "    <tr>\n",
       "      <th>430</th>\n",
       "      <td>89</td>\n",
       "      <td>309225</td>\n",
       "      <td>3604133</td>\n",
       "      <td>1</td>\n",
       "      <td>3103050</td>\n",
       "      <td>39835.0</td>\n",
       "      <td>4</td>\n",
       "      <td>28442</td>\n",
       "      <td>NaN</td>\n",
       "      <td>6</td>\n",
       "      <td>2</td>\n",
       "      <td>15</td>\n",
       "    </tr>\n",
       "    <tr>\n",
       "      <th>498</th>\n",
       "      <td>7</td>\n",
       "      <td>309230</td>\n",
       "      <td>144135</td>\n",
       "      <td>1</td>\n",
       "      <td>129480</td>\n",
       "      <td>41134.0</td>\n",
       "      <td>4</td>\n",
       "      <td>29105</td>\n",
       "      <td>NaN</td>\n",
       "      <td>10</td>\n",
       "      <td>2</td>\n",
       "      <td>19</td>\n",
       "    </tr>\n",
       "    <tr>\n",
       "      <th>505</th>\n",
       "      <td>31</td>\n",
       "      <td>309230</td>\n",
       "      <td>235389</td>\n",
       "      <td>1</td>\n",
       "      <td>211656</td>\n",
       "      <td>643.0</td>\n",
       "      <td>3</td>\n",
       "      <td>725</td>\n",
       "      <td>NaN</td>\n",
       "      <td>10</td>\n",
       "      <td>2</td>\n",
       "      <td>19</td>\n",
       "    </tr>\n",
       "    <tr>\n",
       "      <th>588</th>\n",
       "      <td>11</td>\n",
       "      <td>309231</td>\n",
       "      <td>105391</td>\n",
       "      <td>1</td>\n",
       "      <td>95737</td>\n",
       "      <td>1231.0</td>\n",
       "      <td>2</td>\n",
       "      <td>756</td>\n",
       "      <td>NaN</td>\n",
       "      <td>2</td>\n",
       "      <td>1</td>\n",
       "      <td>1</td>\n",
       "    </tr>\n",
       "    <tr>\n",
       "      <th>...</th>\n",
       "      <td>...</td>\n",
       "      <td>...</td>\n",
       "      <td>...</td>\n",
       "      <td>...</td>\n",
       "      <td>...</td>\n",
       "      <td>...</td>\n",
       "      <td>...</td>\n",
       "      <td>...</td>\n",
       "      <td>...</td>\n",
       "      <td>...</td>\n",
       "      <td>...</td>\n",
       "      <td>...</td>\n",
       "    </tr>\n",
       "    <tr>\n",
       "      <th>100292761</th>\n",
       "      <td>62</td>\n",
       "      <td>2137713</td>\n",
       "      <td>2593836</td>\n",
       "      <td>1</td>\n",
       "      <td>2233275</td>\n",
       "      <td>43087.0</td>\n",
       "      <td>4</td>\n",
       "      <td>11055</td>\n",
       "      <td>NaN</td>\n",
       "      <td>2</td>\n",
       "      <td>2</td>\n",
       "      <td>11</td>\n",
       "    </tr>\n",
       "    <tr>\n",
       "      <th>100292888</th>\n",
       "      <td>12</td>\n",
       "      <td>2137720</td>\n",
       "      <td>44727</td>\n",
       "      <td>1</td>\n",
       "      <td>41954</td>\n",
       "      <td>NaN</td>\n",
       "      <td>7</td>\n",
       "      <td>16128</td>\n",
       "      <td>NaN</td>\n",
       "      <td>4</td>\n",
       "      <td>1</td>\n",
       "      <td>3</td>\n",
       "    </tr>\n",
       "    <tr>\n",
       "      <th>100292918</th>\n",
       "      <td>41</td>\n",
       "      <td>2137721</td>\n",
       "      <td>1371132</td>\n",
       "      <td>1</td>\n",
       "      <td>1198117</td>\n",
       "      <td>36256.0</td>\n",
       "      <td>17</td>\n",
       "      <td>38079</td>\n",
       "      <td>NaN</td>\n",
       "      <td>7</td>\n",
       "      <td>1</td>\n",
       "      <td>6</td>\n",
       "    </tr>\n",
       "    <tr>\n",
       "      <th>100292928</th>\n",
       "      <td>38</td>\n",
       "      <td>2137722</td>\n",
       "      <td>1077257</td>\n",
       "      <td>1</td>\n",
       "      <td>945517</td>\n",
       "      <td>NaN</td>\n",
       "      <td>7</td>\n",
       "      <td>19135</td>\n",
       "      <td>NaN</td>\n",
       "      <td>3</td>\n",
       "      <td>1</td>\n",
       "      <td>2</td>\n",
       "    </tr>\n",
       "    <tr>\n",
       "      <th>100292930</th>\n",
       "      <td>77</td>\n",
       "      <td>2137722</td>\n",
       "      <td>3612763</td>\n",
       "      <td>1</td>\n",
       "      <td>3110345</td>\n",
       "      <td>39937.0</td>\n",
       "      <td>17</td>\n",
       "      <td>21701</td>\n",
       "      <td>NaN</td>\n",
       "      <td>3</td>\n",
       "      <td>1</td>\n",
       "      <td>2</td>\n",
       "    </tr>\n",
       "  </tbody>\n",
       "</table>\n",
       "<p>4239870 rows × 12 columns</p>\n",
       "</div>"
      ],
      "text/plain": [
       "           time  user_id  creative_id  click_times    ad_id  product_id  product_category  \\\n",
       "243          80   309221      1503096            1  1307003     35106.0                 4   \n",
       "430          89   309225      3604133            1  3103050     39835.0                 4   \n",
       "498           7   309230       144135            1   129480     41134.0                 4   \n",
       "505          31   309230       235389            1   211656       643.0                 3   \n",
       "588          11   309231       105391            1    95737      1231.0                 2   \n",
       "...         ...      ...          ...          ...      ...         ...               ...   \n",
       "100292761    62  2137713      2593836            1  2233275     43087.0                 4   \n",
       "100292888    12  2137720        44727            1    41954         NaN                 7   \n",
       "100292918    41  2137721      1371132            1  1198117     36256.0                17   \n",
       "100292928    38  2137722      1077257            1   945517         NaN                 7   \n",
       "100292930    77  2137722      3612763            1  3110345     39937.0                17   \n",
       "\n",
       "           advertiser_id  industry  age  gender   y  \n",
       "243                 2879       NaN    4       1   3  \n",
       "430                28442       NaN    6       2  15  \n",
       "498                29105       NaN   10       2  19  \n",
       "505                  725       NaN   10       2  19  \n",
       "588                  756       NaN    2       1   1  \n",
       "...                  ...       ...  ...     ...  ..  \n",
       "100292761          11055       NaN    2       2  11  \n",
       "100292888          16128       NaN    4       1   3  \n",
       "100292918          38079       NaN    7       1   6  \n",
       "100292928          19135       NaN    3       1   2  \n",
       "100292930          21701       NaN    3       1   2  \n",
       "\n",
       "[4239870 rows x 12 columns]"
      ]
     },
     "execution_count": 51,
     "metadata": {},
     "output_type": "execute_result"
    }
   ],
   "source": [
    "mask = raw_train_df['industry'].isnull()\n",
    "raw_train_df[mask]"
   ]
  },
  {
   "cell_type": "code",
   "execution_count": 52,
   "metadata": {},
   "outputs": [
    {
     "name": "stderr",
     "output_type": "stream",
     "text": [
      "2020-06-26 18:21:05,688 - utils.utils - INFO - correct_column_type_by_value_range开始\n",
      "2020-06-26 18:21:05,691 - utils.utils - INFO - check_columns开始\n",
      "2020-06-26 18:21:05,692 - utils.utils - INFO - check_columns已完成，共用时0:00:00\n",
      "2020-06-26 18:21:52,890 - utils.utils - INFO - col_types: time                    int8\n",
      "user_id                int64\n",
      "creative_id            int64\n",
      "click_times            int16\n",
      "ad_id                  int32\n",
      "product_id           float64\n",
      "product_category    category\n",
      "advertiser_id          int32\n",
      "industry            category\n",
      "age                     int8\n",
      "gender                  int8\n",
      "y                       int8\n",
      "dtype: object\n",
      "2020-06-26 18:21:52,893 - utils.utils - INFO - correct_column_type_by_value_range已完成，共用时0:00:47\n"
     ]
    }
   ],
   "source": [
    "correct_column_type_by_value_range(raw_train_df)"
   ]
  },
  {
   "cell_type": "code",
   "execution_count": 53,
   "metadata": {},
   "outputs": [
    {
     "data": {
      "text/plain": [
       "time                    int8\n",
       "user_id                int64\n",
       "creative_id            int64\n",
       "click_times            int16\n",
       "ad_id                  int32\n",
       "product_id           float64\n",
       "product_category    category\n",
       "advertiser_id          int32\n",
       "industry            category\n",
       "age                     int8\n",
       "gender                  int8\n",
       "y                       int8\n",
       "dtype: object"
      ]
     },
     "execution_count": 53,
     "metadata": {},
     "output_type": "execute_result"
    }
   ],
   "source": [
    "raw_train_df.dtypes"
   ]
  },
  {
   "cell_type": "code",
   "execution_count": 54,
   "metadata": {},
   "outputs": [],
   "source": [
    "raw_train_df.reset_index(drop=True, inplace=True)"
   ]
  },
  {
   "cell_type": "code",
   "execution_count": 55,
   "metadata": {},
   "outputs": [],
   "source": [
    "raw_train_df.to_feather(os.path.join(conf.DATA_DIR,'raw_train_df.feather'))"
   ]
  },
  {
   "cell_type": "code",
   "execution_count": 56,
   "metadata": {},
   "outputs": [],
   "source": [
    "# merge test dfs\n",
    "raw_test_df = test_click_log_df.merge(test_ad_df,how='left',on='creative_id')"
   ]
  },
  {
   "cell_type": "code",
   "execution_count": 57,
   "metadata": {},
   "outputs": [
    {
     "name": "stderr",
     "output_type": "stream",
     "text": [
      "2020-06-26 18:22:11,668 - utils.utils - INFO - correct_column_type_by_value_range开始\n",
      "2020-06-26 18:22:11,669 - utils.utils - INFO - check_columns开始\n",
      "2020-06-26 18:22:11,670 - utils.utils - INFO - check_columns已完成，共用时0:00:00\n",
      "2020-06-26 18:22:21,868 - utils.utils - INFO - col_types: time                    int8\n",
      "user_id                int64\n",
      "creative_id            int64\n",
      "click_times            int16\n",
      "ad_id                  int32\n",
      "product_id           float64\n",
      "product_category    category\n",
      "advertiser_id          int32\n",
      "industry            category\n",
      "dtype: object\n",
      "2020-06-26 18:22:21,870 - utils.utils - INFO - correct_column_type_by_value_range已完成，共用时0:00:10\n"
     ]
    }
   ],
   "source": [
    "correct_column_type_by_value_range(raw_test_df)"
   ]
  },
  {
   "cell_type": "code",
   "execution_count": 58,
   "metadata": {},
   "outputs": [
    {
     "data": {
      "text/html": [
       "<div>\n",
       "<style scoped>\n",
       "    .dataframe tbody tr th:only-of-type {\n",
       "        vertical-align: middle;\n",
       "    }\n",
       "\n",
       "    .dataframe tbody tr th {\n",
       "        vertical-align: top;\n",
       "    }\n",
       "\n",
       "    .dataframe thead th {\n",
       "        text-align: right;\n",
       "    }\n",
       "</style>\n",
       "<table border=\"1\" class=\"dataframe\">\n",
       "  <thead>\n",
       "    <tr style=\"text-align: right;\">\n",
       "      <th></th>\n",
       "      <th>time</th>\n",
       "      <th>user_id</th>\n",
       "      <th>creative_id</th>\n",
       "      <th>click_times</th>\n",
       "      <th>ad_id</th>\n",
       "      <th>product_id</th>\n",
       "      <th>product_category</th>\n",
       "      <th>advertiser_id</th>\n",
       "      <th>industry</th>\n",
       "    </tr>\n",
       "  </thead>\n",
       "  <tbody>\n",
       "    <tr>\n",
       "      <th>12849660</th>\n",
       "      <td>1</td>\n",
       "      <td>3892830</td>\n",
       "      <td>112276</td>\n",
       "      <td>1</td>\n",
       "      <td>101587</td>\n",
       "      <td>NaN</td>\n",
       "      <td>18</td>\n",
       "      <td>8371</td>\n",
       "      <td>54.0</td>\n",
       "    </tr>\n",
       "    <tr>\n",
       "      <th>23535382</th>\n",
       "      <td>1</td>\n",
       "      <td>3530749</td>\n",
       "      <td>14391</td>\n",
       "      <td>1</td>\n",
       "      <td>15775</td>\n",
       "      <td>1261.0</td>\n",
       "      <td>2</td>\n",
       "      <td>10988</td>\n",
       "      <td>6.0</td>\n",
       "    </tr>\n",
       "    <tr>\n",
       "      <th>9820227</th>\n",
       "      <td>1</td>\n",
       "      <td>3711528</td>\n",
       "      <td>208390</td>\n",
       "      <td>1</td>\n",
       "      <td>187259</td>\n",
       "      <td>1261.0</td>\n",
       "      <td>2</td>\n",
       "      <td>10925</td>\n",
       "      <td>6.0</td>\n",
       "    </tr>\n",
       "    <tr>\n",
       "      <th>9820228</th>\n",
       "      <td>1</td>\n",
       "      <td>3711528</td>\n",
       "      <td>236102</td>\n",
       "      <td>1</td>\n",
       "      <td>212289</td>\n",
       "      <td>1261.0</td>\n",
       "      <td>2</td>\n",
       "      <td>19056</td>\n",
       "      <td>98.0</td>\n",
       "    </tr>\n",
       "    <tr>\n",
       "      <th>31351701</th>\n",
       "      <td>1</td>\n",
       "      <td>3998628</td>\n",
       "      <td>90699</td>\n",
       "      <td>1</td>\n",
       "      <td>82895</td>\n",
       "      <td>NaN</td>\n",
       "      <td>18</td>\n",
       "      <td>10955</td>\n",
       "      <td>238.0</td>\n",
       "    </tr>\n",
       "  </tbody>\n",
       "</table>\n",
       "</div>"
      ],
      "text/plain": [
       "          time  user_id  creative_id  click_times   ad_id  product_id product_category  \\\n",
       "12849660     1  3892830       112276            1  101587         NaN               18   \n",
       "23535382     1  3530749        14391            1   15775      1261.0                2   \n",
       "9820227      1  3711528       208390            1  187259      1261.0                2   \n",
       "9820228      1  3711528       236102            1  212289      1261.0                2   \n",
       "31351701     1  3998628        90699            1   82895         NaN               18   \n",
       "\n",
       "          advertiser_id industry  \n",
       "12849660           8371     54.0  \n",
       "23535382          10988      6.0  \n",
       "9820227           10925      6.0  \n",
       "9820228           19056     98.0  \n",
       "31351701          10955    238.0  "
      ]
     },
     "execution_count": 58,
     "metadata": {},
     "output_type": "execute_result"
    }
   ],
   "source": [
    "raw_test_df.head()"
   ]
  },
  {
   "cell_type": "code",
   "execution_count": 59,
   "metadata": {},
   "outputs": [
    {
     "data": {
      "text/plain": [
       "time                    int8\n",
       "user_id                int64\n",
       "creative_id            int64\n",
       "click_times            int16\n",
       "ad_id                  int32\n",
       "product_id           float64\n",
       "product_category    category\n",
       "advertiser_id          int32\n",
       "industry            category\n",
       "dtype: object"
      ]
     },
     "execution_count": 59,
     "metadata": {},
     "output_type": "execute_result"
    }
   ],
   "source": [
    "raw_test_df.dtypes"
   ]
  },
  {
   "cell_type": "code",
   "execution_count": 60,
   "metadata": {},
   "outputs": [],
   "source": [
    "raw_test_df.reset_index(drop=True, inplace=True)"
   ]
  },
  {
   "cell_type": "code",
   "execution_count": 61,
   "metadata": {},
   "outputs": [],
   "source": [
    "raw_test_df.to_feather(os.path.join(conf.DATA_DIR, 'raw_test_df.feather'))"
   ]
  }
 ],
 "metadata": {
  "kernelspec": {
   "display_name": "Python 3",
   "language": "python",
   "name": "python3"
  },
  "language_info": {
   "codemirror_mode": {
    "name": "ipython",
    "version": 3
   },
   "file_extension": ".py",
   "mimetype": "text/x-python",
   "name": "python",
   "nbconvert_exporter": "python",
   "pygments_lexer": "ipython3",
   "version": "3.7.6"
  }
 },
 "nbformat": 4,
 "nbformat_minor": 4
}
