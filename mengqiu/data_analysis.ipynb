{
 "cells": [
  {
   "cell_type": "markdown",
   "metadata": {},
   "source": [
    "# Data Analysis and Cleaning\n",
    "analysis data and do some dirty work for cleaning\n",
    "- <a href='#1'>1. data preprocess</a> \n",
    "- <a href='#2'>2. analysis user activation by clicking behavior in day unit</a> \n",
    "- <a href='#3'>3.analysis creative id clicked by user</a>\n",
    "- <a href='#4'>4. analysis product category clicked by user</a>\n",
    "- <a href='#5'>5. analysis ad id clicked by user</a>"
   ]
  },
  {
   "cell_type": "code",
   "execution_count": 1,
   "metadata": {},
   "outputs": [],
   "source": [
    "# ! pip install imbalanced-learn -i http://mirrors.aliyun.com/pypi/simple/ --trusted-host mirrors.aliyun.comImportError: cannot import name '_to_object_array' from 'sklearn.utils' (/opt/conda/lib/python3.7/site-packages/sklearn/utils/__init__.py)\n",
    "%load_ext autoreload\n",
    "%autoreload 2\n",
    "import sys\n",
    "import os \n",
    "import gc\n",
    "from time import time \n",
    "from datetime import timedelta, datetime\n",
    "import base64\n",
    "\n",
    "import pandas as pd\n",
    "from IPython.core.display import display, HTML\n",
    "import numpy as np\n",
    "from IPython.core.interactiveshell import InteractiveShell\n",
    "import seaborn as sns\n",
    "import matplotlib.pyplot as plt\n",
    "import matplotlib.font_manager as fm\n",
    "from scipy.stats import ks_2samp\n",
    "from sklearn.utils import shuffle\n",
    "from sklearn.cluster import KMeans\n",
    "from tqdm import tqdm\n",
    "from scipy import sparse\n",
    "from tqdm import tqdm\n",
    "\n",
    "sys.path.append('../')\n",
    "import conf\n",
    "from utils import (\n",
    "    check_columns, \n",
    "    check_nan_value, \n",
    "    correct_column_type_by_value_range,\n",
    "    remove_cont_cols_with_unique_value,\n",
    "    LogManager,\n",
    ")"
   ]
  },
  {
   "cell_type": "code",
   "execution_count": 2,
   "metadata": {},
   "outputs": [],
   "source": [
    "# global settings\n",
    "InteractiveShell.ast_node_interactivity = \"all\"\n",
    "pd.set_option('display.max_rows', 100)\n",
    "pd.set_option('display.max_columns',1000)\n",
    "pd.set_option('display.width',100)\n",
    "sns.set(rc={'figure.figsize':(20,10)})\n",
    "LogManager.created_filename = os.path.join(conf.LOG_DIR, 'data_analysis.log')\n",
    "logger = LogManager.get_logger(__name__)"
   ]
  },
  {
   "cell_type": "code",
   "execution_count": 3,
   "metadata": {},
   "outputs": [],
   "source": [
    "# global variables\n",
    "DEFAULT_MISSING_FLOAT = 0"
   ]
  },
  {
   "cell_type": "code",
   "execution_count": 4,
   "metadata": {},
   "outputs": [],
   "source": [
    "# functions\n",
    "def __dummy():\n",
    "    pass"
   ]
  },
  {
   "cell_type": "markdown",
   "metadata": {},
   "source": [
    "### <a id='1'> 1.data preprocess</a>"
   ]
  },
  {
   "cell_type": "code",
   "execution_count": 5,
   "metadata": {},
   "outputs": [
    {
     "name": "stdout",
     "output_type": "stream",
     "text": [
      "122M\t../data/ad.csv\r\n",
      "2.3G\t../data/ad_id_window_10_dim_200_sg_1_hs_0_iter_10_embedding.bin\r\n",
      "2.3G\t../data/ad_id_window_10_dim_200_sg_1_hs_0_iter_10_embedding.npy\r\n",
      "249M\t../data/ad_id_window_10_dim_200_sg_1_hs_0_iter_10_neural_test_fe_df.feather\r\n",
      "244M\t../data/ad_id_window_10_dim_200_sg_1_hs_0_iter_10_neural_train_fe_df.feather\r\n",
      "63M\t../data/ad_id_window_10_dim_200_sg_1_hs_0_iter_10_vocab.pkl\r\n",
      "45M\t../data/advertiser_id_window_10_dim_200_sg_1_hs_0_iter_10_embedding.bin\r\n",
      "45M\t../data/advertiser_id_window_10_dim_200_sg_1_hs_0_iter_10_embedding.npy\r\n",
      "195M\t../data/advertiser_id_window_10_dim_200_sg_1_hs_0_iter_10_neural_test_fe_df.feather\r\n",
      "195M\t../data/advertiser_id_window_10_dim_200_sg_1_hs_0_iter_10_neural_train_fe_df.feather\r\n",
      "1008K\t../data/advertiser_id_window_10_dim_200_sg_1_hs_0_iter_10_vocab.pkl\r\n",
      "1.9G\t../data/click_log.csv\r\n",
      "688M\t../data/creative_advertiser_ad_id_click_time_mask_window_10_dim_200_sg_1_hs_0_iter_10_neural_train_fe_df.feather\r\n",
      "678M\t../data/creative_advertiser_ad_id_window_10_dim_200_sg_1_hs_0_iter_10_neural_test_fe_df.feather\r\n",
      "628M\t../data/creative_advertiser_ad_id_window_10_dim_200_sg_1_hs_0_iter_10_neural_train_fe_df.feather\r\n",
      "2.6G\t../data/creative_id_window_10_dim_200_sg_1_hs_0_iter_10_embedding.bin\r\n",
      "2.6G\t../data/creative_id_window_10_dim_200_sg_1_hs_0_iter_10_embedding.npy\r\n",
      "250M\t../data/creative_id_window_10_dim_200_sg_1_hs_0_iter_10_neural_test_fe_df.feather\r\n",
      "245M\t../data/creative_id_window_10_dim_200_sg_1_hs_0_iter_10_neural_train_fe_df.feather\r\n",
      "71M\t../data/creative_id_window_10_dim_200_sg_1_hs_0_iter_10_vocab.pkl\r\n",
      "413M\t../data/download\r\n",
      "987M\t../data/feat_6_window_10_dim_200_sg_1_hs_0_iter_10_neural_test_fe_df.feather\r\n",
      "904M\t../data/feat_6_window_10_dim_200_sg_1_hs_0_iter_10_neural_train_fe_df.feather\r\n",
      "264K\t../data/industry_window_10_dim_200_sg_1_hs_0_iter_10_embedding.bin\r\n",
      "264K\t../data/industry_window_10_dim_200_sg_1_hs_0_iter_10_embedding.npy\r\n",
      "117M\t../data/industry_window_10_dim_200_sg_1_hs_0_iter_10_neural_test_fe_df.feather\r\n",
      "125M\t../data/industry_window_10_dim_200_sg_1_hs_0_iter_10_neural_train_fe_df.feather\r\n",
      "8.0K\t../data/industry_window_10_dim_200_sg_1_hs_0_iter_10_vocab.pkl\r\n",
      "31M\t../data/label_semi_final_df.feather\r\n",
      "16K\t../data/product_category_window_10_dim_200_sg_1_hs_0_iter_10_embedding.bin\r\n",
      "16K\t../data/product_category_window_10_dim_200_sg_1_hs_0_iter_10_embedding.npy\r\n",
      "87M\t../data/product_category_window_10_dim_200_sg_1_hs_0_iter_10_neural_test_fe_df.feather\r\n",
      "99M\t../data/product_category_window_10_dim_200_sg_1_hs_0_iter_10_neural_train_fe_df.feather\r\n",
      "4.0K\t../data/product_category_window_10_dim_200_sg_1_hs_0_iter_10_vocab.pkl\r\n",
      "31M\t../data/product_id_window_10_dim_200_sg_1_hs_0_iter_10_embedding.bin\r\n",
      "30M\t../data/product_id_window_10_dim_200_sg_1_hs_0_iter_10_embedding.npy\r\n",
      "129M\t../data/product_id_window_10_dim_200_sg_1_hs_0_iter_10_neural_test_fe_df.feather\r\n",
      "136M\t../data/product_id_window_10_dim_200_sg_1_hs_0_iter_10_neural_train_fe_df.feather\r\n",
      "680K\t../data/product_id_window_10_dim_200_sg_1_hs_0_iter_10_vocab.pkl\r\n",
      "631M\t../data/raw_test_df.feather\r\n",
      "2.1G\t../data/raw_train_df.feather\r\n",
      "1.4G\t../data/raw_train_round_one_df.feather\r\n",
      "13G\t../data/tencent_2019_ad_competition_data\r\n",
      "732M\t../data/test\r\n",
      "637M\t../data/train_preliminary\r\n",
      "1.5G\t../data/train_semi_final\r\n",
      "34M\t../data/user.csv\r\n"
     ]
    }
   ],
   "source": [
    "! du -sh ../data/*"
   ]
  },
  {
   "cell_type": "code",
   "execution_count": 6,
   "metadata": {},
   "outputs": [],
   "source": [
    "raw_train_df = pd.read_feather(os.path.join(conf.DATA_DIR,'raw_train_df.feather'))\n",
    "raw_test_df = pd.read_feather(os.path.join(conf.DATA_DIR, 'raw_test_df.feather'))"
   ]
  },
  {
   "cell_type": "code",
   "execution_count": 7,
   "metadata": {},
   "outputs": [
    {
     "data": {
      "text/html": [
       "<div>\n",
       "<style scoped>\n",
       "    .dataframe tbody tr th:only-of-type {\n",
       "        vertical-align: middle;\n",
       "    }\n",
       "\n",
       "    .dataframe tbody tr th {\n",
       "        vertical-align: top;\n",
       "    }\n",
       "\n",
       "    .dataframe thead th {\n",
       "        text-align: right;\n",
       "    }\n",
       "</style>\n",
       "<table border=\"1\" class=\"dataframe\">\n",
       "  <thead>\n",
       "    <tr style=\"text-align: right;\">\n",
       "      <th></th>\n",
       "      <th>time</th>\n",
       "      <th>user_id</th>\n",
       "      <th>creative_id</th>\n",
       "      <th>click_times</th>\n",
       "      <th>ad_id</th>\n",
       "      <th>product_id</th>\n",
       "      <th>product_category</th>\n",
       "      <th>advertiser_id</th>\n",
       "      <th>industry</th>\n",
       "      <th>age</th>\n",
       "      <th>gender</th>\n",
       "      <th>y</th>\n",
       "    </tr>\n",
       "  </thead>\n",
       "  <tbody>\n",
       "    <tr>\n",
       "      <th>0</th>\n",
       "      <td>1</td>\n",
       "      <td>1277411</td>\n",
       "      <td>75607</td>\n",
       "      <td>1</td>\n",
       "      <td>69699</td>\n",
       "      <td>8502.0</td>\n",
       "      <td>3</td>\n",
       "      <td>24522</td>\n",
       "      <td>6.0</td>\n",
       "      <td>4</td>\n",
       "      <td>1</td>\n",
       "      <td>3</td>\n",
       "    </tr>\n",
       "    <tr>\n",
       "      <th>1</th>\n",
       "      <td>1</td>\n",
       "      <td>1204498</td>\n",
       "      <td>10192</td>\n",
       "      <td>1</td>\n",
       "      <td>11649</td>\n",
       "      <td>1356.0</td>\n",
       "      <td>2</td>\n",
       "      <td>9761</td>\n",
       "      <td>261.0</td>\n",
       "      <td>9</td>\n",
       "      <td>2</td>\n",
       "      <td>18</td>\n",
       "    </tr>\n",
       "    <tr>\n",
       "      <th>2</th>\n",
       "      <td>1</td>\n",
       "      <td>1922994</td>\n",
       "      <td>89388</td>\n",
       "      <td>1</td>\n",
       "      <td>81769</td>\n",
       "      <td>NaN</td>\n",
       "      <td>18</td>\n",
       "      <td>26046</td>\n",
       "      <td>54.0</td>\n",
       "      <td>4</td>\n",
       "      <td>1</td>\n",
       "      <td>3</td>\n",
       "    </tr>\n",
       "    <tr>\n",
       "      <th>3</th>\n",
       "      <td>1</td>\n",
       "      <td>2720269</td>\n",
       "      <td>225863</td>\n",
       "      <td>1</td>\n",
       "      <td>202691</td>\n",
       "      <td>NaN</td>\n",
       "      <td>18</td>\n",
       "      <td>2003</td>\n",
       "      <td>40.0</td>\n",
       "      <td>4</td>\n",
       "      <td>1</td>\n",
       "      <td>3</td>\n",
       "    </tr>\n",
       "    <tr>\n",
       "      <th>4</th>\n",
       "      <td>1</td>\n",
       "      <td>2720269</td>\n",
       "      <td>184810</td>\n",
       "      <td>1</td>\n",
       "      <td>165711</td>\n",
       "      <td>NaN</td>\n",
       "      <td>18</td>\n",
       "      <td>22606</td>\n",
       "      <td>54.0</td>\n",
       "      <td>4</td>\n",
       "      <td>1</td>\n",
       "      <td>3</td>\n",
       "    </tr>\n",
       "  </tbody>\n",
       "</table>\n",
       "</div>"
      ],
      "text/plain": [
       "   time  user_id  creative_id  click_times   ad_id  product_id product_category  advertiser_id  \\\n",
       "0     1  1277411        75607            1   69699      8502.0                3          24522   \n",
       "1     1  1204498        10192            1   11649      1356.0                2           9761   \n",
       "2     1  1922994        89388            1   81769         NaN               18          26046   \n",
       "3     1  2720269       225863            1  202691         NaN               18           2003   \n",
       "4     1  2720269       184810            1  165711         NaN               18          22606   \n",
       "\n",
       "  industry  age  gender   y  \n",
       "0      6.0    4       1   3  \n",
       "1    261.0    9       2  18  \n",
       "2     54.0    4       1   3  \n",
       "3     40.0    4       1   3  \n",
       "4     54.0    4       1   3  "
      ]
     },
     "execution_count": 7,
     "metadata": {},
     "output_type": "execute_result"
    }
   ],
   "source": [
    "raw_train_df.head()"
   ]
  },
  {
   "cell_type": "code",
   "execution_count": 8,
   "metadata": {},
   "outputs": [
    {
     "data": {
      "text/plain": [
       "time                    int8\n",
       "user_id                int64\n",
       "creative_id            int64\n",
       "click_times            int16\n",
       "ad_id                  int32\n",
       "product_id           float64\n",
       "product_category    category\n",
       "advertiser_id          int32\n",
       "industry            category\n",
       "age                     int8\n",
       "gender                  int8\n",
       "y                       int8\n",
       "dtype: object"
      ]
     },
     "execution_count": 8,
     "metadata": {},
     "output_type": "execute_result"
    }
   ],
   "source": [
    "raw_train_df.dtypes"
   ]
  },
  {
   "cell_type": "code",
   "execution_count": 9,
   "metadata": {},
   "outputs": [
    {
     "name": "stderr",
     "output_type": "stream",
     "text": [
      "2020-06-30 16:39:55,491 - utils.utils - INFO - check_nan_value开始\n",
      "2020-06-30 16:39:55,604 - utils.utils - INFO - time - missing_number: 0, missing_ratio:0.0%\n",
      "2020-06-30 16:39:55,717 - utils.utils - INFO - user_id - missing_number: 0, missing_ratio:0.0%\n",
      "2020-06-30 16:39:55,828 - utils.utils - INFO - creative_id - missing_number: 0, missing_ratio:0.0%\n",
      "2020-06-30 16:39:55,942 - utils.utils - INFO - click_times - missing_number: 0, missing_ratio:0.0%\n",
      "2020-06-30 16:39:56,060 - utils.utils - INFO - ad_id - missing_number: 0, missing_ratio:0.0%\n",
      "2020-06-30 16:39:56,235 - utils.utils - INFO - product_id - missing_number: 41972925, missing_ratio:41.85%\n",
      "2020-06-30 16:39:56,351 - utils.utils - INFO - product_category - missing_number: 0, missing_ratio:0.0%\n",
      "2020-06-30 16:39:56,463 - utils.utils - INFO - advertiser_id - missing_number: 0, missing_ratio:0.0%\n",
      "2020-06-30 16:39:56,587 - utils.utils - INFO - industry - missing_number: 4239870, missing_ratio:4.23%\n",
      "2020-06-30 16:39:56,699 - utils.utils - INFO - age - missing_number: 0, missing_ratio:0.0%\n",
      "2020-06-30 16:39:56,809 - utils.utils - INFO - gender - missing_number: 0, missing_ratio:0.0%\n",
      "2020-06-30 16:39:56,919 - utils.utils - INFO - y - missing_number: 0, missing_ratio:0.0%\n",
      "2020-06-30 16:39:56,920 - utils.utils - INFO - drop cols: ['product_id']\n",
      "2020-06-30 16:39:56,920 - utils.utils - INFO - check_nan_value已完成，共用时0:00:01\n"
     ]
    }
   ],
   "source": [
    "_ = check_nan_value(raw_train_df)"
   ]
  },
  {
   "cell_type": "code",
   "execution_count": 10,
   "metadata": {},
   "outputs": [
    {
     "data": {
      "text/html": [
       "<div>\n",
       "<style scoped>\n",
       "    .dataframe tbody tr th:only-of-type {\n",
       "        vertical-align: middle;\n",
       "    }\n",
       "\n",
       "    .dataframe tbody tr th {\n",
       "        vertical-align: top;\n",
       "    }\n",
       "\n",
       "    .dataframe thead th {\n",
       "        text-align: right;\n",
       "    }\n",
       "</style>\n",
       "<table border=\"1\" class=\"dataframe\">\n",
       "  <thead>\n",
       "    <tr style=\"text-align: right;\">\n",
       "      <th></th>\n",
       "      <th>time</th>\n",
       "      <th>user_id</th>\n",
       "      <th>creative_id</th>\n",
       "      <th>click_times</th>\n",
       "      <th>ad_id</th>\n",
       "      <th>product_id</th>\n",
       "      <th>product_category</th>\n",
       "      <th>advertiser_id</th>\n",
       "      <th>industry</th>\n",
       "    </tr>\n",
       "  </thead>\n",
       "  <tbody>\n",
       "    <tr>\n",
       "      <th>0</th>\n",
       "      <td>1</td>\n",
       "      <td>3892830</td>\n",
       "      <td>112276</td>\n",
       "      <td>1</td>\n",
       "      <td>101587</td>\n",
       "      <td>NaN</td>\n",
       "      <td>18</td>\n",
       "      <td>8371</td>\n",
       "      <td>54.0</td>\n",
       "    </tr>\n",
       "    <tr>\n",
       "      <th>1</th>\n",
       "      <td>1</td>\n",
       "      <td>3530749</td>\n",
       "      <td>14391</td>\n",
       "      <td>1</td>\n",
       "      <td>15775</td>\n",
       "      <td>1261.0</td>\n",
       "      <td>2</td>\n",
       "      <td>10988</td>\n",
       "      <td>6.0</td>\n",
       "    </tr>\n",
       "    <tr>\n",
       "      <th>2</th>\n",
       "      <td>1</td>\n",
       "      <td>3711528</td>\n",
       "      <td>208390</td>\n",
       "      <td>1</td>\n",
       "      <td>187259</td>\n",
       "      <td>1261.0</td>\n",
       "      <td>2</td>\n",
       "      <td>10925</td>\n",
       "      <td>6.0</td>\n",
       "    </tr>\n",
       "    <tr>\n",
       "      <th>3</th>\n",
       "      <td>1</td>\n",
       "      <td>3711528</td>\n",
       "      <td>236102</td>\n",
       "      <td>1</td>\n",
       "      <td>212289</td>\n",
       "      <td>1261.0</td>\n",
       "      <td>2</td>\n",
       "      <td>19056</td>\n",
       "      <td>98.0</td>\n",
       "    </tr>\n",
       "    <tr>\n",
       "      <th>4</th>\n",
       "      <td>1</td>\n",
       "      <td>3998628</td>\n",
       "      <td>90699</td>\n",
       "      <td>1</td>\n",
       "      <td>82895</td>\n",
       "      <td>NaN</td>\n",
       "      <td>18</td>\n",
       "      <td>10955</td>\n",
       "      <td>238.0</td>\n",
       "    </tr>\n",
       "  </tbody>\n",
       "</table>\n",
       "</div>"
      ],
      "text/plain": [
       "   time  user_id  creative_id  click_times   ad_id  product_id product_category  advertiser_id  \\\n",
       "0     1  3892830       112276            1  101587         NaN               18           8371   \n",
       "1     1  3530749        14391            1   15775      1261.0                2          10988   \n",
       "2     1  3711528       208390            1  187259      1261.0                2          10925   \n",
       "3     1  3711528       236102            1  212289      1261.0                2          19056   \n",
       "4     1  3998628        90699            1   82895         NaN               18          10955   \n",
       "\n",
       "  industry  \n",
       "0     54.0  \n",
       "1      6.0  \n",
       "2      6.0  \n",
       "3     98.0  \n",
       "4    238.0  "
      ]
     },
     "execution_count": 10,
     "metadata": {},
     "output_type": "execute_result"
    }
   ],
   "source": [
    "raw_test_df.head()"
   ]
  },
  {
   "cell_type": "code",
   "execution_count": 11,
   "metadata": {},
   "outputs": [
    {
     "data": {
      "text/plain": [
       "time                    int8\n",
       "user_id                int64\n",
       "creative_id            int64\n",
       "click_times            int16\n",
       "ad_id                  int32\n",
       "product_id           float64\n",
       "product_category    category\n",
       "advertiser_id          int32\n",
       "industry            category\n",
       "dtype: object"
      ]
     },
     "execution_count": 11,
     "metadata": {},
     "output_type": "execute_result"
    }
   ],
   "source": [
    "raw_test_df.dtypes"
   ]
  },
  {
   "cell_type": "code",
   "execution_count": 12,
   "metadata": {},
   "outputs": [
    {
     "name": "stderr",
     "output_type": "stream",
     "text": [
      "2020-06-30 16:40:02,811 - utils.utils - INFO - check_nan_value开始\n",
      "2020-06-30 16:40:02,848 - utils.utils - INFO - time - missing_number: 0, missing_ratio:0.0%\n",
      "2020-06-30 16:40:02,886 - utils.utils - INFO - user_id - missing_number: 0, missing_ratio:0.0%\n",
      "2020-06-30 16:40:02,923 - utils.utils - INFO - creative_id - missing_number: 0, missing_ratio:0.0%\n",
      "2020-06-30 16:40:02,959 - utils.utils - INFO - click_times - missing_number: 0, missing_ratio:0.0%\n",
      "2020-06-30 16:40:02,995 - utils.utils - INFO - ad_id - missing_number: 0, missing_ratio:0.0%\n",
      "2020-06-30 16:40:03,067 - utils.utils - INFO - product_id - missing_number: 14028831, missing_ratio:41.77%\n",
      "2020-06-30 16:40:03,106 - utils.utils - INFO - product_category - missing_number: 0, missing_ratio:0.0%\n",
      "2020-06-30 16:40:03,143 - utils.utils - INFO - advertiser_id - missing_number: 0, missing_ratio:0.0%\n",
      "2020-06-30 16:40:03,186 - utils.utils - INFO - industry - missing_number: 1407841, missing_ratio:4.19%\n",
      "2020-06-30 16:40:03,187 - utils.utils - INFO - drop cols: ['product_id']\n",
      "2020-06-30 16:40:03,188 - utils.utils - INFO - check_nan_value已完成，共用时0:00:00\n"
     ]
    }
   ],
   "source": [
    "_ = check_nan_value(raw_test_df)"
   ]
  },
  {
   "cell_type": "code",
   "execution_count": 13,
   "metadata": {},
   "outputs": [
    {
     "data": {
      "text/plain": [
       "1000000"
      ]
     },
     "execution_count": 13,
     "metadata": {},
     "output_type": "execute_result"
    }
   ],
   "source": [
    "len(raw_test_df['user_id'].unique())"
   ]
  },
  {
   "cell_type": "code",
   "execution_count": 14,
   "metadata": {},
   "outputs": [
    {
     "data": {
      "text/plain": [
       "3000000"
      ]
     },
     "execution_count": 14,
     "metadata": {},
     "output_type": "execute_result"
    }
   ],
   "source": [
    "len(raw_train_df['user_id'].unique())"
   ]
  },
  {
   "cell_type": "code",
   "execution_count": 15,
   "metadata": {},
   "outputs": [
    {
     "data": {
      "text/html": [
       "<div>\n",
       "<style scoped>\n",
       "    .dataframe tbody tr th:only-of-type {\n",
       "        vertical-align: middle;\n",
       "    }\n",
       "\n",
       "    .dataframe tbody tr th {\n",
       "        vertical-align: top;\n",
       "    }\n",
       "\n",
       "    .dataframe thead th {\n",
       "        text-align: right;\n",
       "    }\n",
       "</style>\n",
       "<table border=\"1\" class=\"dataframe\">\n",
       "  <thead>\n",
       "    <tr style=\"text-align: right;\">\n",
       "      <th></th>\n",
       "      <th>time</th>\n",
       "      <th>user_id</th>\n",
       "      <th>creative_id</th>\n",
       "      <th>click_times</th>\n",
       "      <th>ad_id</th>\n",
       "      <th>product_id</th>\n",
       "      <th>product_category</th>\n",
       "      <th>advertiser_id</th>\n",
       "      <th>industry</th>\n",
       "      <th>age</th>\n",
       "      <th>gender</th>\n",
       "      <th>y</th>\n",
       "    </tr>\n",
       "  </thead>\n",
       "  <tbody>\n",
       "    <tr>\n",
       "      <th>0</th>\n",
       "      <td>1</td>\n",
       "      <td>1277411</td>\n",
       "      <td>75607</td>\n",
       "      <td>1</td>\n",
       "      <td>69699</td>\n",
       "      <td>8502.0</td>\n",
       "      <td>3</td>\n",
       "      <td>24522</td>\n",
       "      <td>6.0</td>\n",
       "      <td>4</td>\n",
       "      <td>1</td>\n",
       "      <td>3</td>\n",
       "    </tr>\n",
       "    <tr>\n",
       "      <th>1</th>\n",
       "      <td>1</td>\n",
       "      <td>1204498</td>\n",
       "      <td>10192</td>\n",
       "      <td>1</td>\n",
       "      <td>11649</td>\n",
       "      <td>1356.0</td>\n",
       "      <td>2</td>\n",
       "      <td>9761</td>\n",
       "      <td>261.0</td>\n",
       "      <td>9</td>\n",
       "      <td>2</td>\n",
       "      <td>18</td>\n",
       "    </tr>\n",
       "    <tr>\n",
       "      <th>2</th>\n",
       "      <td>1</td>\n",
       "      <td>1922994</td>\n",
       "      <td>89388</td>\n",
       "      <td>1</td>\n",
       "      <td>81769</td>\n",
       "      <td>NaN</td>\n",
       "      <td>18</td>\n",
       "      <td>26046</td>\n",
       "      <td>54.0</td>\n",
       "      <td>4</td>\n",
       "      <td>1</td>\n",
       "      <td>3</td>\n",
       "    </tr>\n",
       "    <tr>\n",
       "      <th>3</th>\n",
       "      <td>1</td>\n",
       "      <td>2720269</td>\n",
       "      <td>225863</td>\n",
       "      <td>1</td>\n",
       "      <td>202691</td>\n",
       "      <td>NaN</td>\n",
       "      <td>18</td>\n",
       "      <td>2003</td>\n",
       "      <td>40.0</td>\n",
       "      <td>4</td>\n",
       "      <td>1</td>\n",
       "      <td>3</td>\n",
       "    </tr>\n",
       "    <tr>\n",
       "      <th>4</th>\n",
       "      <td>1</td>\n",
       "      <td>2720269</td>\n",
       "      <td>184810</td>\n",
       "      <td>1</td>\n",
       "      <td>165711</td>\n",
       "      <td>NaN</td>\n",
       "      <td>18</td>\n",
       "      <td>22606</td>\n",
       "      <td>54.0</td>\n",
       "      <td>4</td>\n",
       "      <td>1</td>\n",
       "      <td>3</td>\n",
       "    </tr>\n",
       "  </tbody>\n",
       "</table>\n",
       "</div>"
      ],
      "text/plain": [
       "   time  user_id  creative_id  click_times   ad_id  product_id product_category  advertiser_id  \\\n",
       "0     1  1277411        75607            1   69699      8502.0                3          24522   \n",
       "1     1  1204498        10192            1   11649      1356.0                2           9761   \n",
       "2     1  1922994        89388            1   81769         NaN               18          26046   \n",
       "3     1  2720269       225863            1  202691         NaN               18           2003   \n",
       "4     1  2720269       184810            1  165711         NaN               18          22606   \n",
       "\n",
       "  industry  age  gender   y  \n",
       "0      6.0    4       1   3  \n",
       "1    261.0    9       2  18  \n",
       "2     54.0    4       1   3  \n",
       "3     40.0    4       1   3  \n",
       "4     54.0    4       1   3  "
      ]
     },
     "execution_count": 15,
     "metadata": {},
     "output_type": "execute_result"
    }
   ],
   "source": [
    "# fill up the missing value for industry and product_id\n",
    "raw_train_df.head()"
   ]
  },
  {
   "cell_type": "code",
   "execution_count": 16,
   "metadata": {},
   "outputs": [
    {
     "data": {
      "text/plain": [
       "time                    int8\n",
       "user_id                int64\n",
       "creative_id            int64\n",
       "click_times            int16\n",
       "ad_id                  int32\n",
       "product_id           float64\n",
       "product_category    category\n",
       "advertiser_id          int32\n",
       "industry            category\n",
       "age                     int8\n",
       "gender                  int8\n",
       "y                       int8\n",
       "dtype: object"
      ]
     },
     "execution_count": 16,
     "metadata": {},
     "output_type": "execute_result"
    }
   ],
   "source": [
    "raw_train_df.dtypes"
   ]
  },
  {
   "cell_type": "code",
   "execution_count": 17,
   "metadata": {},
   "outputs": [],
   "source": [
    "raw_train_df['industry'] = raw_train_df['industry'].astype('float64')\n",
    "raw_train_df.loc[:,'industry'] = raw_train_df['industry'].fillna(0)\n",
    "raw_train_df['industry'] = raw_train_df['industry'].astype(int)\n",
    "raw_train_df.loc[:,'product_id'] = raw_train_df['product_id'].fillna(0)\n",
    "raw_train_df['product_id'] = raw_train_df['product_id'].astype(int)"
   ]
  },
  {
   "cell_type": "code",
   "execution_count": 18,
   "metadata": {},
   "outputs": [],
   "source": [
    "raw_test_df['industry'] = raw_test_df['industry'].astype('float64')\n",
    "raw_test_df.loc[:,'industry'] = raw_test_df['industry'].fillna(0)\n",
    "raw_test_df['industry'] = raw_test_df['industry'].astype(int)\n",
    "raw_test_df.loc[:,'product_id'] = raw_test_df['product_id'].fillna(0)\n",
    "raw_test_df['product_id'] = raw_test_df['product_id'].astype(int)"
   ]
  },
  {
   "cell_type": "code",
   "execution_count": 19,
   "metadata": {},
   "outputs": [
    {
     "data": {
      "text/plain": [
       "time                    int8\n",
       "user_id                int64\n",
       "creative_id            int64\n",
       "click_times            int16\n",
       "ad_id                  int32\n",
       "product_id             int64\n",
       "product_category    category\n",
       "advertiser_id          int32\n",
       "industry               int64\n",
       "age                     int8\n",
       "gender                  int8\n",
       "y                       int8\n",
       "dtype: object"
      ]
     },
     "execution_count": 19,
     "metadata": {},
     "output_type": "execute_result"
    }
   ],
   "source": [
    "raw_train_df.dtypes"
   ]
  },
  {
   "cell_type": "code",
   "execution_count": 20,
   "metadata": {},
   "outputs": [
    {
     "data": {
      "text/html": [
       "<div>\n",
       "<style scoped>\n",
       "    .dataframe tbody tr th:only-of-type {\n",
       "        vertical-align: middle;\n",
       "    }\n",
       "\n",
       "    .dataframe tbody tr th {\n",
       "        vertical-align: top;\n",
       "    }\n",
       "\n",
       "    .dataframe thead th {\n",
       "        text-align: right;\n",
       "    }\n",
       "</style>\n",
       "<table border=\"1\" class=\"dataframe\">\n",
       "  <thead>\n",
       "    <tr style=\"text-align: right;\">\n",
       "      <th></th>\n",
       "      <th>time</th>\n",
       "      <th>user_id</th>\n",
       "      <th>creative_id</th>\n",
       "      <th>click_times</th>\n",
       "      <th>ad_id</th>\n",
       "      <th>product_id</th>\n",
       "      <th>product_category</th>\n",
       "      <th>advertiser_id</th>\n",
       "      <th>industry</th>\n",
       "    </tr>\n",
       "  </thead>\n",
       "  <tbody>\n",
       "    <tr>\n",
       "      <th>0</th>\n",
       "      <td>1</td>\n",
       "      <td>3892830</td>\n",
       "      <td>112276</td>\n",
       "      <td>1</td>\n",
       "      <td>101587</td>\n",
       "      <td>0</td>\n",
       "      <td>18</td>\n",
       "      <td>8371</td>\n",
       "      <td>54</td>\n",
       "    </tr>\n",
       "    <tr>\n",
       "      <th>1</th>\n",
       "      <td>1</td>\n",
       "      <td>3530749</td>\n",
       "      <td>14391</td>\n",
       "      <td>1</td>\n",
       "      <td>15775</td>\n",
       "      <td>1261</td>\n",
       "      <td>2</td>\n",
       "      <td>10988</td>\n",
       "      <td>6</td>\n",
       "    </tr>\n",
       "    <tr>\n",
       "      <th>2</th>\n",
       "      <td>1</td>\n",
       "      <td>3711528</td>\n",
       "      <td>208390</td>\n",
       "      <td>1</td>\n",
       "      <td>187259</td>\n",
       "      <td>1261</td>\n",
       "      <td>2</td>\n",
       "      <td>10925</td>\n",
       "      <td>6</td>\n",
       "    </tr>\n",
       "    <tr>\n",
       "      <th>3</th>\n",
       "      <td>1</td>\n",
       "      <td>3711528</td>\n",
       "      <td>236102</td>\n",
       "      <td>1</td>\n",
       "      <td>212289</td>\n",
       "      <td>1261</td>\n",
       "      <td>2</td>\n",
       "      <td>19056</td>\n",
       "      <td>98</td>\n",
       "    </tr>\n",
       "    <tr>\n",
       "      <th>4</th>\n",
       "      <td>1</td>\n",
       "      <td>3998628</td>\n",
       "      <td>90699</td>\n",
       "      <td>1</td>\n",
       "      <td>82895</td>\n",
       "      <td>0</td>\n",
       "      <td>18</td>\n",
       "      <td>10955</td>\n",
       "      <td>238</td>\n",
       "    </tr>\n",
       "  </tbody>\n",
       "</table>\n",
       "</div>"
      ],
      "text/plain": [
       "   time  user_id  creative_id  click_times   ad_id  product_id product_category  advertiser_id  \\\n",
       "0     1  3892830       112276            1  101587           0               18           8371   \n",
       "1     1  3530749        14391            1   15775        1261                2          10988   \n",
       "2     1  3711528       208390            1  187259        1261                2          10925   \n",
       "3     1  3711528       236102            1  212289        1261                2          19056   \n",
       "4     1  3998628        90699            1   82895           0               18          10955   \n",
       "\n",
       "   industry  \n",
       "0        54  \n",
       "1         6  \n",
       "2         6  \n",
       "3        98  \n",
       "4       238  "
      ]
     },
     "execution_count": 20,
     "metadata": {},
     "output_type": "execute_result"
    }
   ],
   "source": [
    "raw_test_df.head()"
   ]
  },
  {
   "cell_type": "code",
   "execution_count": 21,
   "metadata": {},
   "outputs": [
    {
     "name": "stderr",
     "output_type": "stream",
     "text": [
      "2020-06-30 16:41:23,048 - utils.utils - INFO - correct_column_type_by_value_range开始\n",
      "2020-06-30 16:41:23,049 - utils.utils - INFO - check_columns开始\n",
      "2020-06-30 16:41:23,050 - utils.utils - INFO - check_columns已完成，共用时0:00:00\n",
      "2020-06-30 16:41:37,768 - utils.utils - INFO - col_types: time                 int8\n",
      "user_id             int64\n",
      "creative_id         int32\n",
      "click_times         int16\n",
      "ad_id               int32\n",
      "product_id          int32\n",
      "product_category    int16\n",
      "advertiser_id       int32\n",
      "industry            int16\n",
      "age                  int8\n",
      "gender               int8\n",
      "y                    int8\n",
      "dtype: object\n",
      "2020-06-30 16:41:37,769 - utils.utils - INFO - correct_column_type_by_value_range已完成，共用时0:00:15\n",
      "2020-06-30 16:41:37,770 - utils.utils - INFO - correct_column_type_by_value_range开始\n",
      "2020-06-30 16:41:37,770 - utils.utils - INFO - check_columns开始\n",
      "2020-06-30 16:41:37,771 - utils.utils - INFO - check_columns已完成，共用时0:00:00\n",
      "2020-06-30 16:41:42,431 - utils.utils - INFO - col_types: time                 int8\n",
      "user_id             int64\n",
      "creative_id         int32\n",
      "click_times         int16\n",
      "ad_id               int32\n",
      "product_id          int32\n",
      "product_category    int16\n",
      "advertiser_id       int32\n",
      "industry            int16\n",
      "dtype: object\n",
      "2020-06-30 16:41:42,432 - utils.utils - INFO - correct_column_type_by_value_range已完成，共用时0:00:05\n"
     ]
    }
   ],
   "source": [
    "correct_column_type_by_value_range(raw_train_df, use_float16=True)\n",
    "correct_column_type_by_value_range(raw_test_df, use_float16=True)"
   ]
  },
  {
   "cell_type": "code",
   "execution_count": 23,
   "metadata": {},
   "outputs": [],
   "source": [
    "raw_test_df.reset_index(drop=True, inplace=True)\n",
    "raw_train_df.reset_index(drop=True, inplace=True)\n",
    "raw_test_df.to_feather(os.path.join(conf.DATA_DIR, 'raw_test_bak_df.feather'))\n",
    "raw_train_df.to_feather(os.path.join(conf.DATA_DIR, 'raw_train_bak_df.feather'))"
   ]
  },
  {
   "cell_type": "markdown",
   "metadata": {},
   "source": [
    "### <a id='2'> 2. analysis user activeness by clicking behavior in day unit</a>"
   ]
  },
  {
   "cell_type": "code",
   "execution_count": 19,
   "metadata": {},
   "outputs": [],
   "source": [
    "def generate_user_clicking_behavior_df(df):\n",
    "    tmp_df = df[['user_id','time']]\n",
    "    tmp_df = tmp_df.groupby(['user_id'])['time'].apply(list)\n",
    "    tmp_df = pd.DataFrame(tmp_df).reset_index()\n",
    "    tmp_df.columns = ['user_id','clicking_day_sequence']\n",
    "    tmp_df['len_clicking_day_sequence'] = tmp_df['clicking_day_sequence'].apply(len)\n",
    "    tmp_df['len_clicking_day_sequence_in_day_unit'] = tmp_df['clicking_day_sequence'].apply(set).apply(len)\n",
    "    \n",
    "    return tmp_df"
   ]
  },
  {
   "cell_type": "code",
   "execution_count": 20,
   "metadata": {},
   "outputs": [],
   "source": [
    "train_clicking_behavior_df = generate_user_clicking_behavior_df(raw_train_df)"
   ]
  },
  {
   "cell_type": "code",
   "execution_count": 21,
   "metadata": {},
   "outputs": [],
   "source": [
    "test_clicking_behavior_df = generate_user_clicking_behavior_df(raw_test_df)"
   ]
  },
  {
   "cell_type": "code",
   "execution_count": 22,
   "metadata": {},
   "outputs": [
    {
     "data": {
      "text/plain": [
       "<matplotlib.axes._subplots.AxesSubplot at 0x7f8f319bddd0>"
      ]
     },
     "execution_count": 22,
     "metadata": {},
     "output_type": "execute_result"
    },
    {
     "data": {
      "image/png": "[encoded data removed]",
      "text/plain": [
       "<Figure size 1440x720 with 1 Axes>"
      ]
     },
     "metadata": {},
     "output_type": "display_data"
    }
   ],
   "source": [
    "train_clicking_behavior_df['len_clicking_day_sequence_in_day_unit'].plot(kind='hist')"
   ]
  },
  {
   "cell_type": "code",
   "execution_count": 23,
   "metadata": {},
   "outputs": [
    {
     "data": {
      "text/plain": [
       "<matplotlib.axes._subplots.AxesSubplot at 0x7f8f319708d0>"
      ]
     },
     "execution_count": 23,
     "metadata": {},
     "output_type": "execute_result"
    },
    {
     "data": {
      "image/png": "[encoded data removed]",
      "text/plain": [
       "<Figure size 1440x720 with 1 Axes>"
      ]
     },
     "metadata": {},
     "output_type": "display_data"
    }
   ],
   "source": [
    "test_clicking_behavior_df['len_clicking_day_sequence_in_day_unit'].plot(kind='hist')"
   ]
  },
  {
   "cell_type": "code",
   "execution_count": 25,
   "metadata": {},
   "outputs": [
    {
     "data": {
      "text/plain": [
       "<matplotlib.axes._subplots.AxesSubplot at 0x7f8f3182cd90>"
      ]
     },
     "execution_count": 25,
     "metadata": {},
     "output_type": "execute_result"
    },
    {
     "data": {
      "image/png": "[encoded data removed]",
      "text/plain": [
       "<Figure size 1440x720 with 1 Axes>"
      ]
     },
     "metadata": {},
     "output_type": "display_data"
    }
   ],
   "source": [
    "train_clicking_behavior_df['len_clicking_day_sequence_in_day_unit'].plot(kind='box')"
   ]
  },
  {
   "cell_type": "code",
   "execution_count": 26,
   "metadata": {},
   "outputs": [
    {
     "data": {
      "text/plain": [
       "0.03900733333333333"
      ]
     },
     "execution_count": 26,
     "metadata": {},
     "output_type": "execute_result"
    }
   ],
   "source": [
    "mask = train_clicking_behavior_df['len_clicking_day_sequence_in_day_unit']>=52\n",
    "len(train_clicking_behavior_df[mask]) / len(train_clicking_behavior_df)"
   ]
  },
  {
   "cell_type": "code",
   "execution_count": 27,
   "metadata": {},
   "outputs": [
    {
     "data": {
      "text/plain": [
       "count    3.000000e+06\n",
       "mean     2.200311e+01\n",
       "std      1.306038e+01\n",
       "min      1.000000e+00\n",
       "25%      1.200000e+01\n",
       "50%      1.800000e+01\n",
       "75%      2.800000e+01\n",
       "max      9.100000e+01\n",
       "Name: len_clicking_day_sequence_in_day_unit, dtype: float64"
      ]
     },
     "execution_count": 27,
     "metadata": {},
     "output_type": "execute_result"
    }
   ],
   "source": [
    "train_clicking_behavior_df['len_clicking_day_sequence_in_day_unit'].describe()"
   ]
  },
  {
   "cell_type": "code",
   "execution_count": 28,
   "metadata": {},
   "outputs": [
    {
     "data": {
      "text/plain": [
       "count    1000000.000000\n",
       "mean          22.005399\n",
       "std           13.071768\n",
       "min            1.000000\n",
       "25%           12.000000\n",
       "50%           18.000000\n",
       "75%           28.000000\n",
       "max           91.000000\n",
       "Name: len_clicking_day_sequence_in_day_unit, dtype: float64"
      ]
     },
     "execution_count": 28,
     "metadata": {},
     "output_type": "execute_result"
    }
   ],
   "source": [
    "test_clicking_behavior_df['len_clicking_day_sequence_in_day_unit'].describe()"
   ]
  },
  {
   "cell_type": "code",
   "execution_count": 29,
   "metadata": {},
   "outputs": [
    {
     "data": {
      "text/plain": [
       "count    3.000000e+06\n",
       "mean     6.578749e+01\n",
       "std      1.056383e+02\n",
       "min      4.000000e+00\n",
       "25%      3.000000e+01\n",
       "50%      4.600000e+01\n",
       "75%      7.800000e+01\n",
       "max      7.211300e+04\n",
       "Name: len_clicking_day_sequence, dtype: float64"
      ]
     },
     "execution_count": 29,
     "metadata": {},
     "output_type": "execute_result"
    }
   ],
   "source": [
    "train_clicking_behavior_df['len_clicking_day_sequence'].describe()"
   ]
  },
  {
   "cell_type": "code",
   "execution_count": 30,
   "metadata": {},
   "outputs": [
    {
     "data": {
      "text/plain": [
       "count    1000000.000000\n",
       "mean          33.585512\n",
       "std          126.100693\n",
       "min            2.000000\n",
       "25%           15.000000\n",
       "50%           24.000000\n",
       "75%           40.000000\n",
       "max       113974.000000\n",
       "Name: len_clicking_day_sequence, dtype: float64"
      ]
     },
     "execution_count": 30,
     "metadata": {},
     "output_type": "execute_result"
    }
   ],
   "source": [
    "test_clicking_behavior_df['len_clicking_day_sequence'].describe()"
   ]
  },
  {
   "cell_type": "markdown",
   "metadata": {},
   "source": [
    "### <a id='3'> 3. analysis creative id clicked by user</a>"
   ]
  },
  {
   "cell_type": "code",
   "execution_count": 32,
   "metadata": {},
   "outputs": [],
   "source": [
    "def generate_user_clicking_creative_df(df):\n",
    "    tmp_df = df[['user_id','creative_id']]\n",
    "    tmp_df = tmp_df.groupby(['user_id'])['creative_id'].apply(list)\n",
    "    tmp_df = pd.DataFrame(tmp_df).reset_index()\n",
    "    tmp_df.columns = ['user_id','clicking_creative_seq']\n",
    "    tmp_df['len_clicking_creative_seq'] = tmp_df['clicking_creative_seq'].apply(len)\n",
    "    tmp_df['unique_len_clicking_creative_seq'] = tmp_df['clicking_creative_seq'].apply(set).apply(len)\n",
    "    \n",
    "    return tmp_df"
   ]
  },
  {
   "cell_type": "code",
   "execution_count": 33,
   "metadata": {},
   "outputs": [],
   "source": [
    "train_user_clicking_creative_df = generate_user_clicking_creative_df(raw_train_df)"
   ]
  },
  {
   "cell_type": "code",
   "execution_count": 36,
   "metadata": {},
   "outputs": [
    {
     "data": {
      "text/html": [
       "<div>\n",
       "<style scoped>\n",
       "    .dataframe tbody tr th:only-of-type {\n",
       "        vertical-align: middle;\n",
       "    }\n",
       "\n",
       "    .dataframe tbody tr th {\n",
       "        vertical-align: top;\n",
       "    }\n",
       "\n",
       "    .dataframe thead th {\n",
       "        text-align: right;\n",
       "    }\n",
       "</style>\n",
       "<table border=\"1\" class=\"dataframe\">\n",
       "  <thead>\n",
       "    <tr style=\"text-align: right;\">\n",
       "      <th></th>\n",
       "      <th>user_id</th>\n",
       "      <th>clicking_creative_seq</th>\n",
       "      <th>len_clicking_creative_seq</th>\n",
       "      <th>unique_len_clicking_creative_seq</th>\n",
       "    </tr>\n",
       "  </thead>\n",
       "  <tbody>\n",
       "    <tr>\n",
       "      <th>0</th>\n",
       "      <td>1</td>\n",
       "      <td>[877468, 877468, 821396, 821396, 209778, 20977...</td>\n",
       "      <td>26</td>\n",
       "      <td>12</td>\n",
       "    </tr>\n",
       "    <tr>\n",
       "      <th>1</th>\n",
       "      <td>2</td>\n",
       "      <td>[63441, 63441, 155822, 155822, 39714, 39714, 6...</td>\n",
       "      <td>89</td>\n",
       "      <td>42</td>\n",
       "    </tr>\n",
       "    <tr>\n",
       "      <th>2</th>\n",
       "      <td>3</td>\n",
       "      <td>[661347, 661347, 808612, 808612, 593522, 59352...</td>\n",
       "      <td>58</td>\n",
       "      <td>30</td>\n",
       "    </tr>\n",
       "    <tr>\n",
       "      <th>3</th>\n",
       "      <td>4</td>\n",
       "      <td>[39588, 39588, 589886, 589886, 574787, 574787,...</td>\n",
       "      <td>58</td>\n",
       "      <td>29</td>\n",
       "    </tr>\n",
       "    <tr>\n",
       "      <th>4</th>\n",
       "      <td>5</td>\n",
       "      <td>[296145, 296145, 350759, 350759, 24333, 24333,...</td>\n",
       "      <td>65</td>\n",
       "      <td>33</td>\n",
       "    </tr>\n",
       "  </tbody>\n",
       "</table>\n",
       "</div>"
      ],
      "text/plain": [
       "   user_id                              clicking_creative_seq  len_clicking_creative_seq  \\\n",
       "0        1  [877468, 877468, 821396, 821396, 209778, 20977...                         26   \n",
       "1        2  [63441, 63441, 155822, 155822, 39714, 39714, 6...                         89   \n",
       "2        3  [661347, 661347, 808612, 808612, 593522, 59352...                         58   \n",
       "3        4  [39588, 39588, 589886, 589886, 574787, 574787,...                         58   \n",
       "4        5  [296145, 296145, 350759, 350759, 24333, 24333,...                         65   \n",
       "\n",
       "   unique_len_clicking_creative_seq  \n",
       "0                                12  \n",
       "1                                42  \n",
       "2                                30  \n",
       "3                                29  \n",
       "4                                33  "
      ]
     },
     "execution_count": 36,
     "metadata": {},
     "output_type": "execute_result"
    }
   ],
   "source": [
    "train_user_clicking_creative_df.head()"
   ]
  },
  {
   "cell_type": "code",
   "execution_count": 37,
   "metadata": {},
   "outputs": [
    {
     "data": {
      "text/plain": [
       "count    3.000000e+06\n",
       "mean     6.578749e+01\n",
       "std      1.056383e+02\n",
       "min      4.000000e+00\n",
       "25%      3.000000e+01\n",
       "50%      4.600000e+01\n",
       "75%      7.800000e+01\n",
       "max      7.211300e+04\n",
       "Name: len_clicking_creative_seq, dtype: float64"
      ]
     },
     "execution_count": 37,
     "metadata": {},
     "output_type": "execute_result"
    }
   ],
   "source": [
    "train_user_clicking_creative_df['len_clicking_creative_seq'].describe()"
   ]
  },
  {
   "cell_type": "code",
   "execution_count": 20,
   "metadata": {},
   "outputs": [
    {
     "data": {
      "text/plain": [
       "count    900000.000000\n",
       "mean         33.425301\n",
       "std          36.082709\n",
       "min           2.000000\n",
       "25%          15.000000\n",
       "50%          24.000000\n",
       "75%          40.000000\n",
       "max       16868.000000\n",
       "Name: len_clicking_creative_seq, dtype: float64"
      ]
     },
     "execution_count": 20,
     "metadata": {},
     "output_type": "execute_result"
    }
   ],
   "source": [
    "train_user_clicking_creative_df['len_clicking_creative_seq'].describe()"
   ]
  },
  {
   "cell_type": "code",
   "execution_count": 21,
   "metadata": {},
   "outputs": [
    {
     "data": {
      "text/plain": [
       "<matplotlib.axes._subplots.AxesSubplot at 0x7f82f7fd0c90>"
      ]
     },
     "execution_count": 21,
     "metadata": {},
     "output_type": "execute_result"
    },
    {
     "data": {
      "image/png": "[encoded data removed]",
      "text/plain": [
       "<Figure size 1440x720 with 1 Axes>"
      ]
     },
     "metadata": {},
     "output_type": "display_data"
    }
   ],
   "source": [
    "train_user_clicking_creative_df['len_clicking_creative_seq'].plot(kind='hist')"
   ]
  },
  {
   "cell_type": "markdown",
   "metadata": {},
   "source": [
    "### <a id='4'> 4. analysis product category clicked by user</a>"
   ]
  },
  {
   "cell_type": "code",
   "execution_count": 9,
   "metadata": {},
   "outputs": [],
   "source": [
    "def generate_user_clicking_product_cate_df(df):\n",
    "    tmp_df = df[['user_id','product_category']]\n",
    "    tmp_df = tmp_df.groupby(['user_id'])['product_category'].apply(list).reset_index()\n",
    "    tmp_df['len_clicking_product_cate_sequence'] = tmp_df['product_category'].apply(len)\n",
    "    tmp_df['unique_len_clicking_creative_sequence'] = tmp_df['product_category'].apply(set).apply(len)\n",
    "    \n",
    "    return tmp_df"
   ]
  },
  {
   "cell_type": "code",
   "execution_count": 10,
   "metadata": {},
   "outputs": [],
   "source": [
    "train_user_clicking_product_cate_df = generate_user_clicking_product_cate_df(raw_train_df)"
   ]
  },
  {
   "cell_type": "code",
   "execution_count": 11,
   "metadata": {},
   "outputs": [
    {
     "data": {
      "text/html": [
       "<div>\n",
       "<style scoped>\n",
       "    .dataframe tbody tr th:only-of-type {\n",
       "        vertical-align: middle;\n",
       "    }\n",
       "\n",
       "    .dataframe tbody tr th {\n",
       "        vertical-align: top;\n",
       "    }\n",
       "\n",
       "    .dataframe thead th {\n",
       "        text-align: right;\n",
       "    }\n",
       "</style>\n",
       "<table border=\"1\" class=\"dataframe\">\n",
       "  <thead>\n",
       "    <tr style=\"text-align: right;\">\n",
       "      <th></th>\n",
       "      <th>user_id</th>\n",
       "      <th>len_clicking_product_cate_sequence</th>\n",
       "      <th>unique_len_clicking_creative_sequence</th>\n",
       "    </tr>\n",
       "  </thead>\n",
       "  <tbody>\n",
       "    <tr>\n",
       "      <td>count</td>\n",
       "      <td>900000.000000</td>\n",
       "      <td>900000.000000</td>\n",
       "      <td>900000.000000</td>\n",
       "    </tr>\n",
       "    <tr>\n",
       "      <td>mean</td>\n",
       "      <td>450000.500000</td>\n",
       "      <td>33.425301</td>\n",
       "      <td>3.825760</td>\n",
       "    </tr>\n",
       "    <tr>\n",
       "      <td>std</td>\n",
       "      <td>259807.765473</td>\n",
       "      <td>36.082709</td>\n",
       "      <td>1.263451</td>\n",
       "    </tr>\n",
       "    <tr>\n",
       "      <td>min</td>\n",
       "      <td>1.000000</td>\n",
       "      <td>2.000000</td>\n",
       "      <td>1.000000</td>\n",
       "    </tr>\n",
       "    <tr>\n",
       "      <td>25%</td>\n",
       "      <td>225000.750000</td>\n",
       "      <td>15.000000</td>\n",
       "      <td>3.000000</td>\n",
       "    </tr>\n",
       "    <tr>\n",
       "      <td>50%</td>\n",
       "      <td>450000.500000</td>\n",
       "      <td>24.000000</td>\n",
       "      <td>4.000000</td>\n",
       "    </tr>\n",
       "    <tr>\n",
       "      <td>75%</td>\n",
       "      <td>675000.250000</td>\n",
       "      <td>40.000000</td>\n",
       "      <td>5.000000</td>\n",
       "    </tr>\n",
       "    <tr>\n",
       "      <td>max</td>\n",
       "      <td>900000.000000</td>\n",
       "      <td>16868.000000</td>\n",
       "      <td>12.000000</td>\n",
       "    </tr>\n",
       "  </tbody>\n",
       "</table>\n",
       "</div>"
      ],
      "text/plain": [
       "             user_id  len_clicking_product_cate_sequence  unique_len_clicking_creative_sequence\n",
       "count  900000.000000                       900000.000000                          900000.000000\n",
       "mean   450000.500000                           33.425301                               3.825760\n",
       "std    259807.765473                           36.082709                               1.263451\n",
       "min         1.000000                            2.000000                               1.000000\n",
       "25%    225000.750000                           15.000000                               3.000000\n",
       "50%    450000.500000                           24.000000                               4.000000\n",
       "75%    675000.250000                           40.000000                               5.000000\n",
       "max    900000.000000                        16868.000000                              12.000000"
      ]
     },
     "execution_count": 11,
     "metadata": {},
     "output_type": "execute_result"
    }
   ],
   "source": [
    "train_user_clicking_product_cate_df.describe()"
   ]
  },
  {
   "cell_type": "code",
   "execution_count": 12,
   "metadata": {},
   "outputs": [
    {
     "data": {
      "text/html": [
       "<div>\n",
       "<style scoped>\n",
       "    .dataframe tbody tr th:only-of-type {\n",
       "        vertical-align: middle;\n",
       "    }\n",
       "\n",
       "    .dataframe tbody tr th {\n",
       "        vertical-align: top;\n",
       "    }\n",
       "\n",
       "    .dataframe thead th {\n",
       "        text-align: right;\n",
       "    }\n",
       "</style>\n",
       "<table border=\"1\" class=\"dataframe\">\n",
       "  <thead>\n",
       "    <tr style=\"text-align: right;\">\n",
       "      <th></th>\n",
       "      <th>user_id</th>\n",
       "      <th>product_category</th>\n",
       "      <th>len_clicking_product_cate_sequence</th>\n",
       "      <th>unique_len_clicking_creative_sequence</th>\n",
       "    </tr>\n",
       "  </thead>\n",
       "  <tbody>\n",
       "    <tr>\n",
       "      <td>0</td>\n",
       "      <td>1</td>\n",
       "      <td>[5, 5, 2, 5, 2, 18, 5, 5, 18, 2, 2, 2, 2]</td>\n",
       "      <td>13</td>\n",
       "      <td>3</td>\n",
       "    </tr>\n",
       "    <tr>\n",
       "      <td>1</td>\n",
       "      <td>2</td>\n",
       "      <td>[2, 2, 2, 2, 2, 18, 2, 18, 2, 18, 2, 18, 2, 18...</td>\n",
       "      <td>45</td>\n",
       "      <td>3</td>\n",
       "    </tr>\n",
       "    <tr>\n",
       "      <td>2</td>\n",
       "      <td>3</td>\n",
       "      <td>[17, 17, 2, 17, 2, 18, 18, 2, 2, 2, 18, 12, 2,...</td>\n",
       "      <td>30</td>\n",
       "      <td>6</td>\n",
       "    </tr>\n",
       "    <tr>\n",
       "      <td>3</td>\n",
       "      <td>4</td>\n",
       "      <td>[2, 18, 2, 17, 17, 17, 17, 4, 18, 2, 2, 2, 2, ...</td>\n",
       "      <td>29</td>\n",
       "      <td>6</td>\n",
       "    </tr>\n",
       "    <tr>\n",
       "      <td>4</td>\n",
       "      <td>5</td>\n",
       "      <td>[5, 8, 2, 2, 18, 2, 5, 18, 18, 2, 18, 2, 5, 5,...</td>\n",
       "      <td>33</td>\n",
       "      <td>4</td>\n",
       "    </tr>\n",
       "  </tbody>\n",
       "</table>\n",
       "</div>"
      ],
      "text/plain": [
       "   user_id                                   product_category  len_clicking_product_cate_sequence  \\\n",
       "0        1          [5, 5, 2, 5, 2, 18, 5, 5, 18, 2, 2, 2, 2]                                  13   \n",
       "1        2  [2, 2, 2, 2, 2, 18, 2, 18, 2, 18, 2, 18, 2, 18...                                  45   \n",
       "2        3  [17, 17, 2, 17, 2, 18, 18, 2, 2, 2, 18, 12, 2,...                                  30   \n",
       "3        4  [2, 18, 2, 17, 17, 17, 17, 4, 18, 2, 2, 2, 2, ...                                  29   \n",
       "4        5  [5, 8, 2, 2, 18, 2, 5, 18, 18, 2, 18, 2, 5, 5,...                                  33   \n",
       "\n",
       "   unique_len_clicking_creative_sequence  \n",
       "0                                      3  \n",
       "1                                      3  \n",
       "2                                      6  \n",
       "3                                      6  \n",
       "4                                      4  "
      ]
     },
     "execution_count": 12,
     "metadata": {},
     "output_type": "execute_result"
    }
   ],
   "source": [
    "train_user_clicking_product_cate_df.head()"
   ]
  },
  {
   "cell_type": "markdown",
   "metadata": {},
   "source": [
    "### <a id='5'> 5. analysis ad id clicked by user</a>"
   ]
  },
  {
   "cell_type": "code",
   "execution_count": 19,
   "metadata": {},
   "outputs": [],
   "source": [
    "def generate_user_clicking_ad_id_df(df):\n",
    "    tmp_df = df[['user_id','ad_id']]\n",
    "    tmp_df = tmp_df.groupby(['user_id'])['ad_id'].apply(list).reset_index()\n",
    "    tmp_df['len_clicking_ad_id_sequence'] = tmp_df['ad_id'].apply(len)\n",
    "    tmp_df['unique_len_clicking_ad_id'] = tmp_df['ad_id'].apply(set).apply(len)\n",
    "    return tmp_df"
   ]
  },
  {
   "cell_type": "code",
   "execution_count": 20,
   "metadata": {},
   "outputs": [],
   "source": [
    "train_user_clicking_ad_df = generate_user_clicking_ad_id_df(raw_train_df)"
   ]
  },
  {
   "cell_type": "code",
   "execution_count": 24,
   "metadata": {},
   "outputs": [
    {
     "data": {
      "text/plain": [
       "<matplotlib.axes._subplots.AxesSubplot at 0x7fef63f77050>"
      ]
     },
     "execution_count": 24,
     "metadata": {},
     "output_type": "execute_result"
    },
    {
     "data": {
      "image/png": "[encoded data removed]",
      "text/plain": [
       "<Figure size 1440x720 with 1 Axes>"
      ]
     },
     "metadata": {},
     "output_type": "display_data"
    }
   ],
   "source": [
    "train_user_clicking_ad_df['len_clicking_ad_id_sequence'].plot(kind='hist')"
   ]
  },
  {
   "cell_type": "code",
   "execution_count": 22,
   "metadata": {},
   "outputs": [
    {
     "data": {
      "text/html": [
       "<div>\n",
       "<style scoped>\n",
       "    .dataframe tbody tr th:only-of-type {\n",
       "        vertical-align: middle;\n",
       "    }\n",
       "\n",
       "    .dataframe tbody tr th {\n",
       "        vertical-align: top;\n",
       "    }\n",
       "\n",
       "    .dataframe thead th {\n",
       "        text-align: right;\n",
       "    }\n",
       "</style>\n",
       "<table border=\"1\" class=\"dataframe\">\n",
       "  <thead>\n",
       "    <tr style=\"text-align: right;\">\n",
       "      <th></th>\n",
       "      <th>user_id</th>\n",
       "      <th>len_clicking_ad_id_sequence</th>\n",
       "      <th>unique_len_clicking_ad_id</th>\n",
       "    </tr>\n",
       "  </thead>\n",
       "  <tbody>\n",
       "    <tr>\n",
       "      <td>count</td>\n",
       "      <td>900000.000000</td>\n",
       "      <td>900000.000000</td>\n",
       "      <td>900000.000000</td>\n",
       "    </tr>\n",
       "    <tr>\n",
       "      <td>mean</td>\n",
       "      <td>450000.500000</td>\n",
       "      <td>33.425301</td>\n",
       "      <td>30.623978</td>\n",
       "    </tr>\n",
       "    <tr>\n",
       "      <td>std</td>\n",
       "      <td>259807.765473</td>\n",
       "      <td>36.082709</td>\n",
       "      <td>29.727181</td>\n",
       "    </tr>\n",
       "    <tr>\n",
       "      <td>min</td>\n",
       "      <td>1.000000</td>\n",
       "      <td>2.000000</td>\n",
       "      <td>1.000000</td>\n",
       "    </tr>\n",
       "    <tr>\n",
       "      <td>25%</td>\n",
       "      <td>225000.750000</td>\n",
       "      <td>15.000000</td>\n",
       "      <td>14.000000</td>\n",
       "    </tr>\n",
       "    <tr>\n",
       "      <td>50%</td>\n",
       "      <td>450000.500000</td>\n",
       "      <td>24.000000</td>\n",
       "      <td>22.000000</td>\n",
       "    </tr>\n",
       "    <tr>\n",
       "      <td>75%</td>\n",
       "      <td>675000.250000</td>\n",
       "      <td>40.000000</td>\n",
       "      <td>37.000000</td>\n",
       "    </tr>\n",
       "    <tr>\n",
       "      <td>max</td>\n",
       "      <td>900000.000000</td>\n",
       "      <td>16868.000000</td>\n",
       "      <td>10870.000000</td>\n",
       "    </tr>\n",
       "  </tbody>\n",
       "</table>\n",
       "</div>"
      ],
      "text/plain": [
       "             user_id  len_clicking_ad_id_sequence  unique_len_clicking_ad_id\n",
       "count  900000.000000                900000.000000              900000.000000\n",
       "mean   450000.500000                    33.425301                  30.623978\n",
       "std    259807.765473                    36.082709                  29.727181\n",
       "min         1.000000                     2.000000                   1.000000\n",
       "25%    225000.750000                    15.000000                  14.000000\n",
       "50%    450000.500000                    24.000000                  22.000000\n",
       "75%    675000.250000                    40.000000                  37.000000\n",
       "max    900000.000000                 16868.000000               10870.000000"
      ]
     },
     "execution_count": 22,
     "metadata": {},
     "output_type": "execute_result"
    }
   ],
   "source": [
    "train_user_clicking_ad_df.describe()"
   ]
  },
  {
   "cell_type": "code",
   "execution_count": 35,
   "metadata": {},
   "outputs": [
    {
     "data": {
      "text/plain": [
       "<matplotlib.axes._subplots.AxesSubplot at 0x7f8f3179ea10>"
      ]
     },
     "execution_count": 35,
     "metadata": {},
     "output_type": "execute_result"
    },
    {
     "data": {
      "image/png": "[encoded data removed]",
      "text/plain": [
       "<Figure size 1440x720 with 1 Axes>"
      ]
     },
     "metadata": {},
     "output_type": "display_data"
    }
   ],
   "source": [
    "tmp_df = raw_train_df.groupby(['y']).apply(len)\n",
    "tmp_df.plot(\n",
    "            kind='bar',\n",
    "            title='Distribution of Label',\n",
    ")"
   ]
  },
  {
   "cell_type": "code",
   "execution_count": 13,
   "metadata": {},
   "outputs": [
    {
     "data": {
      "text/plain": [
       "<matplotlib.axes._subplots.AxesSubplot at 0x7fa5ca0d6e50>"
      ]
     },
     "execution_count": 13,
     "metadata": {},
     "output_type": "execute_result"
    },
    {
     "data": {
      "image/png": "[encoded data removed]",
      "text/plain": [
       "<Figure size 1440x720 with 1 Axes>"
      ]
     },
     "metadata": {},
     "output_type": "display_data"
    }
   ],
   "source": [
    "# label distribution\n",
    "tmp_df = raw_train_df.groupby(['y']).apply(len)\n",
    "tmp_df.plot(\n",
    "            kind='bar',\n",
    "            title='Distribution of Label',\n",
    ")"
   ]
  },
  {
   "cell_type": "code",
   "execution_count": 14,
   "metadata": {},
   "outputs": [
    {
     "data": {
      "text/plain": [
       "y\n",
       "11     941413\n",
       "12    3559101\n",
       "13    4524352\n",
       "14    3426689\n",
       "15    2988624\n",
       "16    2273504\n",
       "17    1439654\n",
       "18     680058\n",
       "19     423781\n",
       "20     290397\n",
       "21     450684\n",
       "22    1583283\n",
       "23    2061842\n",
       "24    1481065\n",
       "25    1306577\n",
       "26    1067122\n",
       "27     764694\n",
       "28     385440\n",
       "29     261304\n",
       "30     173187\n",
       "dtype: int64"
      ]
     },
     "execution_count": 14,
     "metadata": {},
     "output_type": "execute_result"
    }
   ],
   "source": [
    "tmp_df"
   ]
  },
  {
   "cell_type": "code",
   "execution_count": 22,
   "metadata": {},
   "outputs": [],
   "source": [
    "prob_list = (tmp_df/len(raw_train_df)).values.tolist()"
   ]
  },
  {
   "cell_type": "code",
   "execution_count": 9,
   "metadata": {},
   "outputs": [
    {
     "data": {
      "text/plain": [
       "<matplotlib.axes._subplots.AxesSubplot at 0x7f3f580701d0>"
      ]
     },
     "execution_count": 9,
     "metadata": {},
     "output_type": "execute_result"
    },
    {
     "data": {
      "image/png": "[encoded data removed]",
      "text/plain": [
       "<Figure size 1440x720 with 1 Axes>"
      ]
     },
     "metadata": {},
     "output_type": "display_data"
    }
   ],
   "source": [
    "tmp_df = raw_train_df.groupby(['y'])['click_times'].apply(list).apply(np.mean)\n",
    "tmp_df.plot(kind='bar')"
   ]
  },
  {
   "cell_type": "code",
   "execution_count": 32,
   "metadata": {},
   "outputs": [
    {
     "data": {
      "text/plain": [
       "y\n",
       "11    1.068931\n",
       "12    1.065789\n",
       "13    1.063840\n",
       "14    1.064102\n",
       "15    1.062894\n",
       "16    1.062365\n",
       "17    1.060069\n",
       "18    1.061262\n",
       "19    1.061244\n",
       "20    1.063282\n",
       "21    1.069239\n",
       "22    1.063428\n",
       "23    1.062037\n",
       "24    1.062156\n",
       "25    1.060968\n",
       "26    1.057942\n",
       "27    1.057797\n",
       "28    1.062378\n",
       "29    1.065276\n",
       "30    1.062868\n",
       "Name: click_times, dtype: float64"
      ]
     },
     "execution_count": 32,
     "metadata": {},
     "output_type": "execute_result"
    }
   ],
   "source": [
    "tmp_df"
   ]
  }
 ],
 "metadata": {
  "kernelspec": {
   "display_name": "Python 3",
   "language": "python",
   "name": "python3"
  },
  "language_info": {
   "codemirror_mode": {
    "name": "ipython",
    "version": 3
   },
   "file_extension": ".py",
   "mimetype": "text/x-python",
   "name": "python",
   "nbconvert_exporter": "python",
   "pygments_lexer": "ipython3",
   "version": "3.7.6"
  }
 },
 "nbformat": 4,
 "nbformat_minor": 4
}
